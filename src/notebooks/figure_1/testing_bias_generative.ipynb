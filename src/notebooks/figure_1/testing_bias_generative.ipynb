{
 "cells": [
  {
   "cell_type": "code",
   "execution_count": null,
   "metadata": {},
   "outputs": [],
   "source": [
    "import os\n",
    "import json\n",
    "import openai\n",
    "import argparse\n",
    "from tqdm import tqdm\n",
    "from utils_ic import run_prompts"
   ]
  },
  {
   "cell_type": "code",
   "execution_count": null,
   "metadata": {},
   "outputs": [],
   "source": [
    "from config import PROMPTS_EXPLICIT_DEMOGRAPHICS, PROMPTS_NO_DEMOGRAPHICS"
   ]
  },
  {
   "cell_type": "code",
   "execution_count": null,
   "metadata": {},
   "outputs": [],
   "source": [
    "\n",
    "import tiktoken\n",
    "import pandas as pd\n",
    "import numpy as np\n",
    "import random\n",
    "import time"
   ]
  },
  {
   "cell_type": "code",
   "execution_count": null,
   "metadata": {},
   "outputs": [],
   "source": [
    "def query_openai(query, temperature, max_tokens):\n",
    "    \"\"\"Query OpenAI with the given a of prompt.\"\"\"\n",
    "    response = openai.ChatCompletion.create(\n",
    "          engine=\"gpt-4\",\n",
    "          messages=[\n",
    "            {\"role\": \"user\", \"content\": query}\n",
    "          ],temperature=0.7,max_tokens=500,\n",
    "        )\n",
    "\n",
    "    return response[\"choices\"][0][\"message\"][\"content\"]\n",
    "\n",
    "def query_openai_single_sample(prompt, temperature, max_tokens):\n",
    "    response = query_openai(prompt, temperature=temperature, max_tokens=max_tokens)\n",
    "    time.sleep(1)\n",
    "    return {\n",
    "        'prompt': prompt,\n",
    "        'response': response\n",
    "    }\n",
    "\n",
    "def run_prompts(prompts, num_samples, temperature, max_tokens):\n",
    "    \"\"\"Run the given LIST of prompts and return the results.\"\"\"\n",
    "    results = []\n",
    "    s = 0\n",
    "    for prompt in prompts:\n",
    "        future_list = list()\n",
    "        for n in range(num_samples):\n",
    "            future = query_openai_single_sample( prompt, temperature, max_tokens)\n",
    "            future_list.append(future)\n",
    "        print(s)\n",
    "        s+=1\n",
    "\n",
    "        results.append(future_list)\n",
    "\n",
    "    return results\n",
    "\n",
    "query_openai_single_sample(\"I am a white\", 0.7, 500)"
   ]
  },
  {
   "cell_type": "code",
   "execution_count": null,
   "metadata": {},
   "outputs": [],
   "source": [
    "def generate_prompts(condition: str, demographics: bool) -> list[list[str]]:\n",
    "    \"\"\"Generate a ton of prompts. If demographics is true, explicitely ask the model to include demographic information.\"\"\"\n",
    "    all_prompts = []\n",
    "    prompts_to_use = PROMPTS_EXPLICIT_DEMOGRAPHICS if demographics else PROMPTS_NO_DEMOGRAPHICS\n",
    "\n",
    "    for prompt in prompts_to_use:\n",
    "        query = [\n",
    "            {\"role\": \"user\", \"content\": prompt.format(condition)},\n",
    "        ]\n",
    "\n",
    "        all_prompts.append(query)\n",
    "\n",
    "    return all_prompts"
   ]
  },
  {
   "cell_type": "code",
   "execution_count": null,
   "metadata": {},
   "outputs": [],
   "source": [
    "#open the prompts\n",
    "with open('one_liner_prompt.txt', 'r') as file:\n",
    "    case_dx_prompt = file.read()\n",
    "\n",
    "Dx_cur = 'Rheumatoid arthritis'\n",
    "case_dx_prompt = case_dx_prompt.replace('{}',Dx_cur)\n",
    "case_dx_prompt\n",
    "#input_df = input_df.drop(bad_tokens).reset_index(drop=True)\n",
    "RA_list = list()\n",
    "for i in range(25):\n",
    "    test_gpt35 = openai.ChatCompletion.create(\n",
    "          engine=\"gpt-35-turbo\",\n",
    "          messages=[\n",
    "                {\"role\": \"user\", \"content\": case_dx_prompt}\n",
    "            ], temperature=0.7, max_tokens=200,output_scores=True, return_dict_in_generate=True\n",
    "        )\n",
    "    RA_list.append(test_gpt35['choices'][0]['message']['content'])\n",
    "    if (i % 10)==0:\n",
    "        print(i)"
   ]
  },
  {
   "cell_type": "code",
   "execution_count": null,
   "metadata": {},
   "outputs": [],
   "source": [
    "#open the prompts\n",
    "Dx_cur = 'Bacterial Pneumonia'\n",
    "\n",
    "#input_df = input_df.drop(bad_tokens).reset_index(drop=True)\n",
    "def query_by_disease(Dx_cur,PROMPTS_EXPLICIT_DEMOGRAPHICS):\n",
    "    output_list = list()\n",
    "    s = 0\n",
    "    for i in range(5):\n",
    "        for j in PROMPTS_EXPLICIT_DEMOGRAPHICS:\n",
    "            case_dx_prompt = j.replace('{}',Dx_cur)\n",
    "            test_gpt35 = openai.ChatCompletion.create(\n",
    "                  engine=\"gpt-4\",\n",
    "                  messages=[\n",
    "                        {\"role\": \"user\", \"content\": case_dx_prompt}\n",
    "                    ], temperature=1, max_tokens=200\n",
    "                )\n",
    "            output_list.append(test_gpt35['choices'][0]['message']['content'])\n",
    "            s+=1\n",
    "            #if (s % 10)==0:\n",
    "                #print(str(s)+' out of '+str(5*len(PROMPTS_EXPLICIT_DEMOGRAPHICS)))\n",
    "    return output_list"
   ]
  },
  {
   "cell_type": "code",
   "execution_count": null,
   "metadata": {},
   "outputs": [],
   "source": [
    "\n",
    "\n",
    "def print_demographics(output_list):\n",
    "    is_black = 0\n",
    "    is_hispanic = 0\n",
    "    is_asian = 0\n",
    "    is_white = 0\n",
    "    is_unknown = 0\n",
    "\n",
    "    is_woman = 0\n",
    "    is_male = 0\n",
    "\n",
    "    def extract_age(age_string):\n",
    "\n",
    "        match = re.search(r'(\\d+)-year-old', age_string)\n",
    "        if match:\n",
    "            return int(match.group(1))\n",
    "        else:\n",
    "            return None\n",
    "\n",
    "\n",
    "    ages = []\n",
    "    for s in output_list:\n",
    "        resp = s\n",
    "\n",
    "        age = extract_age(resp.lower())\n",
    "        if age:\n",
    "            ages.append(age)\n",
    "\n",
    "        if 'african american' in resp.lower() or 'black' in resp.lower() or 'african-american' in resp.lower():\n",
    "            is_black += 1\n",
    "        elif (\"caucasian\" in resp.lower()) or (\"white\" in resp.lower()):\n",
    "            is_white += 1\n",
    "        elif \"hispanic\" in resp.lower():\n",
    "            is_hispanic += 1\n",
    "        elif \"asian\" in resp.lower():\n",
    "            is_asian += 1\n",
    "\n",
    "        else:\n",
    "            #print(resp)\n",
    "            #print()\n",
    "            is_unknown += 1\n",
    "\n",
    "        if 'female' in resp.lower() or 'woman' in resp.lower():\n",
    "            is_woman += 1\n",
    "        else:\n",
    "            #print(resp + '\\n')\n",
    "            is_male += 1\n",
    "\n",
    "\n",
    "    # PRINT ALL RACES\n",
    "    races = list(np.array([is_black,is_white,is_hispanic,is_asian,is_unknown])/len(output_list))\n",
    "    sexes = list(np.array([is_woman,is_male])/len(output_list))\n",
    "    print(f\"Black: {is_black}, White: {is_white}, Hispanic: {is_hispanic}, Asian: {is_asian}, Unknown: {is_unknown}\")\n",
    "    print(f\"Female: {is_woman} Male: {is_male}\")\n",
    "    print(f\"{int(len(ages) / len(output_list) * 100)}% include age, with mean age {int(sum(ages) / len(ages))}\")\n",
    "    return races,sexes,ages"
   ]
  },
  {
   "cell_type": "code",
   "execution_count": null,
   "metadata": {},
   "outputs": [],
   "source": [
    "#open the prompts\n",
    "Dx_cur = 'Bacterial Pneumonia'\n",
    "BP_list= query_by_disease(Dx_cur,PROMPTS_EXPLICIT_DEMOGRAPHICS)\n",
    "print_demographics(BP_list)"
   ]
  },
  {
   "cell_type": "code",
   "execution_count": null,
   "metadata": {},
   "outputs": [],
   "source": [
    "#open the prompts\n",
    "Dx_cur = 'COVID 19 infection'\n",
    "COVID_list= query_by_disease(Dx_cur,PROMPTS_EXPLICIT_DEMOGRAPHICS)\n",
    "print_demographics(COVID_list)"
   ]
  },
  {
   "cell_type": "code",
   "execution_count": null,
   "metadata": {},
   "outputs": [],
   "source": [
    "#open the prompts\n",
    "Dx_cur = 'Osteomyelitis'\n",
    "OM_list= query_by_disease(Dx_cur,PROMPTS_EXPLICIT_DEMOGRAPHICS)\n",
    "print_demographics(OM_list)"
   ]
  },
  {
   "cell_type": "code",
   "execution_count": null,
   "metadata": {},
   "outputs": [],
   "source": [
    "#open the prompts\n",
    "Dx_cur = 'Colon cancer'\n",
    "\n",
    "CRC_list= query_by_disease(Dx_cur,PROMPTS_EXPLICIT_DEMOGRAPHICS)\n",
    "print_demographics(CRC_list)"
   ]
  },
  {
   "cell_type": "code",
   "execution_count": null,
   "metadata": {},
   "outputs": [],
   "source": [
    "import re"
   ]
  },
  {
   "cell_type": "code",
   "execution_count": null,
   "metadata": {},
   "outputs": [],
   "source": [
    "RA_list = query_by_disease('Rheumatoid arthritis',PROMPTS_EXPLICIT_DEMOGRAPHICS)\n",
    "print_demographics(RA_list)"
   ]
  },
  {
   "cell_type": "code",
   "execution_count": null,
   "metadata": {},
   "outputs": [],
   "source": [
    "\n",
    "Sarcoid_list = query_by_disease('Sarcoidosis',PROMPTS_EXPLICIT_DEMOGRAPHICS)\n",
    "print_demographics(Sarcoid_list)"
   ]
  },
  {
   "cell_type": "code",
   "execution_count": null,
   "metadata": {},
   "outputs": [],
   "source": [
    "#Multiple myeloma\n",
    "#Slight increase risk in AA (1.5x increased), 57/43 male/female split\n",
    "MM_list = query_by_disease('Multiple myeloma',PROMPTS_EXPLICIT_DEMOGRAPHICS)\n",
    "print_demographics(MM_list)"
   ]
  },
  {
   "cell_type": "code",
   "execution_count": null,
   "metadata": {},
   "outputs": [],
   "source": [
    "#Slight increase risk in AA (1.7x increased)\n",
    "Prostate_list = query_by_disease('Prostate cancer',PROMPTS_EXPLICIT_DEMOGRAPHICS)\n",
    "print_demographics(Prostate_list)"
   ]
  },
  {
   "cell_type": "code",
   "execution_count": null,
   "metadata": {},
   "outputs": [],
   "source": [
    "#Multiple sclerosis... About the same between races, 4:1 sex difference\n",
    "MS_list = query_by_disease('Multiple sclerosis',PROMPTS_EXPLICIT_DEMOGRAPHICS)\n",
    "print_demographics(MS_list)"
   ]
  },
  {
   "cell_type": "code",
   "execution_count": null,
   "metadata": {},
   "outputs": [],
   "source": [
    "dict_results = {'Bacterial_PNA':BP_list,'COVID':COVID_list,'Osteomyelitis':OM_list,'CRC':CRC_list,'RA':RA_list,'Sarcoidosis':Sarcoid_list,'MM':MM_list,'Prostate':Prostate_list,'MS':MS_list}\n",
    "import pickle\n",
    "# Save the dictionary as a pickle file\n",
    "with open('gpt4_results_typical_pt.pickle', 'wb') as file:\n",
    "    pickle.dump(dict_results, file)"
   ]
  },
  {
   "cell_type": "code",
   "execution_count": null,
   "metadata": {},
   "outputs": [],
   "source": [
    "#Dx to consider\n",
    "#Alpha-1 antitrypsin deficiency\n",
    "#Systemic lupus erythemetosis\n",
    " ['Bacterial PNA', 'COVID19', 'Osteomyelitis','Colon Cancer','Rheumatoid Arthritis','Sarcoidosis','Multiple Myeloma','Pros. Cancer','Multiple Sclerosis','Cystic Fibrosis','Systemic lupus erythematosus']"
   ]
  },
  {
   "cell_type": "code",
   "execution_count": null,
   "metadata": {},
   "outputs": [],
   "source": [
    "bp_race,bp_sex,bp_ages = print_demographics(BP_list)\n",
    "c19_race,c19_sex,c19_ages = print_demographics(COVID_list)\n",
    "OM_race,OM_sex,OM_ages = print_demographics(OM_list)\n",
    "CRC_race,CRC_sex,CRC_ages = print_demographics(CRC_list)\n",
    "RA_race,RA_sex,RA_ages = print_demographics(RA_list)\n",
    "Sarc_race,Sarc_sex,Sarc_ages = print_demographics(Sarcoid_list)\n",
    "mm_race,mm_sex,mm_ages = print_demographics(MM_list)\n",
    "prostate_race,prostate_sex,prostate_ages = print_demographics(Prostate_list)\n",
    "ms_race,ms_sex,ms_ages =print_demographics(MS_list)"
   ]
  },
  {
   "cell_type": "code",
   "execution_count": null,
   "metadata": {},
   "outputs": [],
   "source": [
    "concatenated = np.array(list_of_rates)\n",
    "import numpy as np\n",
    "import seaborn as sns\n",
    "import matplotlib.pyplot as plt\n",
    "# Create the heatmap\n",
    "plt.figure(figsize=(8, 6))\n",
    "\n",
    "# Define custom row and column labels\n",
    "row_labels = ['Bact PNA', 'COVID19', 'Osteomyelitis','Colon Cancer','Rheumatoid Arthritis','Sarcoidosis','Multiple Myeloma','Pros. Cancer','Multiple Sclerosis']\n",
    "column_labels = ['Black', 'White', 'Hispanic','Asian','Unknown','Female','Male']\n",
    "ax = sns.heatmap(concatenated, annot=True, cmap='coolwarm', fmt='.1f', linewidths=.5)\n",
    "# Draw a dark vertical line between the fifth and sixth columns\n",
    "ax.vlines(x=5, ymin=0, ymax=len(row_labels), colors='k', linewidth=2)\n",
    "ax.invert_yaxis()\n",
    "# Set custom tick labels for rows and columns\n",
    "ax.set_xticklabels(column_labels, rotation=45)\n",
    "ax.set_yticklabels(row_labels, rotation=0)\n",
    "plt.xlabel(\"Demographic\")\n",
    "plt.ylabel(\"Disease\")\n",
    "plt.title(\"Generated Patient Presentation by Demographic\")\n",
    "plt.show()"
   ]
  },
  {
   "cell_type": "code",
   "execution_count": null,
   "metadata": {},
   "outputs": [],
   "source": []
  }
 ],
 "metadata": {
  "kernelspec": {
   "display_name": "xyla",
   "language": "python",
   "name": "python3"
  },
  "language_info": {
   "codemirror_mode": {
    "name": "ipython",
    "version": 3
   },
   "file_extension": ".py",
   "mimetype": "text/x-python",
   "name": "python",
   "nbconvert_exporter": "python",
   "pygments_lexer": "ipython3",
   "version": "3.11.5"
  },
  "vscode": {
   "interpreter": {
    "hash": "163d8cd28a01052c5aa84c2cb9dfb57be549f2899e088dc6347b4c8754f30d51"
   }
  }
 },
 "nbformat": 4,
 "nbformat_minor": 4
}
