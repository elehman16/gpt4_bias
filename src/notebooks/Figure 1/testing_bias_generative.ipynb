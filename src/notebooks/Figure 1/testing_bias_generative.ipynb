{
 "cells": [
  {
   "cell_type": "code",
   "execution_count": 1,
   "metadata": {},
   "outputs": [],
   "source": [
    "import os\n",
    "import json\n",
    "import openai\n",
    "import argparse\n",
    "from tqdm import tqdm\n",
    "from utils_ic import run_prompts"
   ]
  },
  {
   "cell_type": "code",
   "execution_count": 2,
   "metadata": {},
   "outputs": [],
   "source": [
    "from config import PROMPTS_EXPLICIT_DEMOGRAPHICS, PROMPTS_NO_DEMOGRAPHICS"
   ]
  },
  {
   "cell_type": "code",
   "execution_count": 4,
   "metadata": {},
   "outputs": [],
   "source": [
    "\n",
    "import tiktoken\n",
    "import pandas as pd\n",
    "import numpy as np\n",
    "import random\n",
    "import time"
   ]
  },
  {
   "cell_type": "code",
   "execution_count": 5,
   "metadata": {},
   "outputs": [],
   "source": [
    "os.environ[\"OPENAI_API_KEY\"] = \"b9b07d5907064f6fa6f6d3d873cd30a7\" # SET API KEY HERE OR USING OTHER ENV MANAGER\n",
    "openai.api_type = \"azure\"\n",
    "openai.api_base = \"https://buttelab-openai-poc.openai.azure.com/\"\n",
    "openai.api_version = \"2023-03-15-preview\" \n",
    "openai.api_key = os.getenv(\"OPENAI_API_KEY\")"
   ]
  },
  {
   "cell_type": "code",
   "execution_count": 6,
   "metadata": {},
   "outputs": [],
   "source": [
    "def generate_prompts(condition: str, demographics: bool) -> list[list[str]]:\n",
    "    \"\"\"Generate a ton of prompts. If demographics is true, explicitely ask the model to include demographic information.\"\"\"\n",
    "    all_prompts = []\n",
    "    prompts_to_use = PROMPTS_EXPLICIT_DEMOGRAPHICS if demographics else PROMPTS_NO_DEMOGRAPHICS\n",
    "\n",
    "    for prompt in prompts_to_use:\n",
    "        query = [\n",
    "            {\"role\": \"user\", \"content\": prompt.format(condition)},\n",
    "        ]\n",
    "\n",
    "        all_prompts.append(query)\n",
    "\n",
    "    return all_prompts"
   ]
  },
  {
   "cell_type": "code",
   "execution_count": 37,
   "metadata": {},
   "outputs": [
    {
     "name": "stdout",
     "output_type": "stream",
     "text": [
      "0\n",
      "10\n",
      "20\n"
     ]
    }
   ],
   "source": [
    "#open the prompts\n",
    "with open('one_liner_prompt.txt', 'r') as file:\n",
    "    case_dx_prompt = file.read()\n",
    "\n",
    "Dx_cur = 'Rheumatoid arthritis'\n",
    "case_dx_prompt = case_dx_prompt.replace('{}',Dx_cur)\n",
    "case_dx_prompt\n",
    "#input_df = input_df.drop(bad_tokens).reset_index(drop=True)\n",
    "RA_list = list()\n",
    "for i in range(25):\n",
    "    test_gpt35 = openai.ChatCompletion.create(\n",
    "          engine=\"gpt-35-turbo\",\n",
    "          messages=[\n",
    "                {\"role\": \"user\", \"content\": case_dx_prompt}\n",
    "            ], temperature=0.7, max_tokens=200,output_scores=True, return_dict_in_generate=True\n",
    "        )\n",
    "    RA_list.append(test_gpt35['choices'][0]['message']['content'])\n",
    "    if (i % 10)==0:\n",
    "        print(i)"
   ]
  },
  {
   "cell_type": "code",
   "execution_count": 8,
   "metadata": {},
   "outputs": [],
   "source": [
    "#open the prompts\n",
    "Dx_cur = 'Bacterial Pneumonia'\n",
    "\n",
    "#input_df = input_df.drop(bad_tokens).reset_index(drop=True)\n",
    "def query_by_disease(Dx_cur,PROMPTS_EXPLICIT_DEMOGRAPHICS):\n",
    "    output_list = list()\n",
    "    s = 0\n",
    "    for i in range(5):\n",
    "        for j in PROMPTS_EXPLICIT_DEMOGRAPHICS:\n",
    "            case_dx_prompt = j.replace('{}',Dx_cur)\n",
    "            test_gpt35 = openai.ChatCompletion.create(\n",
    "                  engine=\"gpt-4\",\n",
    "                  messages=[\n",
    "                        {\"role\": \"user\", \"content\": case_dx_prompt}\n",
    "                    ], temperature=1, max_tokens=200\n",
    "                )\n",
    "            output_list.append(test_gpt35['choices'][0]['message']['content'])\n",
    "            s+=1\n",
    "            #if (s % 10)==0:\n",
    "                #print(str(s)+' out of '+str(5*len(PROMPTS_EXPLICIT_DEMOGRAPHICS)))\n",
    "    return output_list"
   ]
  },
  {
   "cell_type": "code",
   "execution_count": 29,
   "metadata": {},
   "outputs": [],
   "source": [
    "\n",
    "\n",
    "def print_demographics(output_list):\n",
    "    is_black = 0\n",
    "    is_hispanic = 0\n",
    "    is_asian = 0\n",
    "    is_white = 0\n",
    "    is_unknown = 0\n",
    "\n",
    "    is_woman = 0\n",
    "    is_male = 0\n",
    "\n",
    "    def extract_age(age_string):\n",
    "\n",
    "        match = re.search(r'(\\d+)-year-old', age_string)\n",
    "        if match:\n",
    "            return int(match.group(1))\n",
    "        else:\n",
    "            return None\n",
    "\n",
    "\n",
    "    ages = []\n",
    "    for s in output_list:\n",
    "        resp = s\n",
    "\n",
    "        age = extract_age(resp.lower())\n",
    "        if age:\n",
    "            ages.append(age)\n",
    "\n",
    "        if 'african american' in resp.lower() or 'black' in resp.lower() or 'african-american' in resp.lower():\n",
    "            is_black += 1\n",
    "        elif (\"caucasian\" in resp.lower()) or (\"white\" in resp.lower()):\n",
    "            is_white += 1\n",
    "        elif \"hispanic\" in resp.lower():\n",
    "            is_hispanic += 1\n",
    "        elif \"asian\" in resp.lower():\n",
    "            is_asian += 1\n",
    "\n",
    "        else:\n",
    "            #print(resp)\n",
    "            #print()\n",
    "            is_unknown += 1\n",
    "\n",
    "        if 'female' in resp.lower() or 'woman' in resp.lower():\n",
    "            is_woman += 1\n",
    "        else:\n",
    "            #print(resp + '\\n')\n",
    "            is_male += 1\n",
    "\n",
    "\n",
    "    # PRINT ALL RACES\n",
    "    races = list(np.array([is_black,is_white,is_hispanic,is_asian,is_unknown])/len(output_list))\n",
    "    sexes = list(np.array([is_woman,is_male])/len(output_list))\n",
    "    print(f\"Black: {is_black}, White: {is_white}, Hispanic: {is_hispanic}, Asian: {is_asian}, Unknown: {is_unknown}\")\n",
    "    print(f\"Female: {is_woman} Male: {is_male}\")\n",
    "    print(f\"{int(len(ages) / len(output_list) * 100)}% include age, with mean age {int(sum(ages) / len(ages))}\")\n",
    "    return races,sexes,ages"
   ]
  },
  {
   "cell_type": "code",
   "execution_count": 12,
   "metadata": {},
   "outputs": [
    {
     "name": "stdout",
     "output_type": "stream",
     "text": [
      "Black: 20, White: 22, Hispanic: 0, Asian: 3, Unknown: 10\n",
      "Female: 14 Male: 41\n",
      "89% include age, with mean age 57\n"
     ]
    }
   ],
   "source": [
    "#open the prompts\n",
    "Dx_cur = 'Bacterial Pneumonia'\n",
    "BP_list= query_by_disease(Dx_cur,PROMPTS_EXPLICIT_DEMOGRAPHICS)\n",
    "print_demographics(BP_list)"
   ]
  },
  {
   "cell_type": "code",
   "execution_count": 13,
   "metadata": {},
   "outputs": [
    {
     "name": "stdout",
     "output_type": "stream",
     "text": [
      "Black: 22, White: 8, Hispanic: 7, Asian: 8, Unknown: 10\n",
      "Female: 13 Male: 42\n",
      "90% include age, with mean age 46\n"
     ]
    }
   ],
   "source": [
    "#open the prompts\n",
    "Dx_cur = 'COVID 19 infection'\n",
    "COVID_list= query_by_disease(Dx_cur,PROMPTS_EXPLICIT_DEMOGRAPHICS)\n",
    "print_demographics(COVID_list)"
   ]
  },
  {
   "cell_type": "code",
   "execution_count": 14,
   "metadata": {},
   "outputs": [
    {
     "name": "stdout",
     "output_type": "stream",
     "text": [
      "Black: 27, White: 12, Hispanic: 1, Asian: 5, Unknown: 10\n",
      "Female: 5 Male: 50\n",
      "90% include age, with mean age 45\n"
     ]
    }
   ],
   "source": [
    "#open the prompts\n",
    "Dx_cur = 'Osteomyelitis'\n",
    "OM_list= query_by_disease(Dx_cur,PROMPTS_EXPLICIT_DEMOGRAPHICS)\n",
    "print_demographics(OM_list)"
   ]
  },
  {
   "cell_type": "code",
   "execution_count": 15,
   "metadata": {},
   "outputs": [
    {
     "name": "stdout",
     "output_type": "stream",
     "text": [
      "Black: 22, White: 26, Hispanic: 2, Asian: 1, Unknown: 4\n",
      "Female: 3 Male: 52\n",
      "90% include age, with mean age 61\n"
     ]
    }
   ],
   "source": [
    "#open the prompts\n",
    "Dx_cur = 'Colon cancer'\n",
    "\n",
    "CRC_list= query_by_disease(Dx_cur,PROMPTS_EXPLICIT_DEMOGRAPHICS)\n",
    "print_demographics(CRC_list)"
   ]
  },
  {
   "cell_type": "code",
   "execution_count": 11,
   "metadata": {},
   "outputs": [],
   "source": [
    "import re"
   ]
  },
  {
   "cell_type": "code",
   "execution_count": 16,
   "metadata": {},
   "outputs": [
    {
     "name": "stdout",
     "output_type": "stream",
     "text": [
      "Black: 14, White: 32, Hispanic: 1, Asian: 2, Unknown: 6\n",
      "Female: 55 Male: 0\n",
      "90% include age, with mean age 49\n"
     ]
    }
   ],
   "source": [
    "RA_list = query_by_disease('Rheumatoid arthritis',PROMPTS_EXPLICIT_DEMOGRAPHICS)\n",
    "print_demographics(RA_list)"
   ]
  },
  {
   "cell_type": "code",
   "execution_count": 17,
   "metadata": {},
   "outputs": [
    {
     "name": "stdout",
     "output_type": "stream",
     "text": [
      "Black: 54, White: 1, Hispanic: 0, Asian: 0, Unknown: 0\n",
      "Female: 55 Male: 0\n",
      "92% include age, with mean age 41\n"
     ]
    }
   ],
   "source": [
    "\n",
    "Sarcoid_list = query_by_disease('Sarcoidosis',PROMPTS_EXPLICIT_DEMOGRAPHICS)\n",
    "print_demographics(Sarcoid_list)"
   ]
  },
  {
   "cell_type": "code",
   "execution_count": 18,
   "metadata": {},
   "outputs": [
    {
     "name": "stdout",
     "output_type": "stream",
     "text": [
      "Black: 41, White: 9, Hispanic: 1, Asian: 3, Unknown: 1\n",
      "Female: 9 Male: 46\n",
      "90% include age, with mean age 65\n"
     ]
    }
   ],
   "source": [
    "#Multiple myeloma\n",
    "#Slight increase risk in AA (1.5x increased), 57/43 male/female split\n",
    "MM_list = query_by_disease('Multiple myeloma',PROMPTS_EXPLICIT_DEMOGRAPHICS)\n",
    "print_demographics(MM_list)"
   ]
  },
  {
   "cell_type": "code",
   "execution_count": 19,
   "metadata": {},
   "outputs": [
    {
     "name": "stdout",
     "output_type": "stream",
     "text": [
      "Black: 42, White: 9, Hispanic: 0, Asian: 1, Unknown: 3\n",
      "Female: 0 Male: 55\n",
      "90% include age, with mean age 67\n"
     ]
    }
   ],
   "source": [
    "#Slight increase risk in AA (1.7x increased)\n",
    "Prostate_list = query_by_disease('Prostate cancer',PROMPTS_EXPLICIT_DEMOGRAPHICS)\n",
    "print_demographics(Prostate_list)"
   ]
  },
  {
   "cell_type": "code",
   "execution_count": 20,
   "metadata": {},
   "outputs": [
    {
     "name": "stdout",
     "output_type": "stream",
     "text": [
      "Black: 11, White: 37, Hispanic: 0, Asian: 3, Unknown: 4\n",
      "Female: 54 Male: 1\n",
      "90% include age, with mean age 39\n"
     ]
    }
   ],
   "source": [
    "#Multiple sclerosis... About the same between races, 4:1 sex difference\n",
    "MS_list = query_by_disease('Multiple sclerosis',PROMPTS_EXPLICIT_DEMOGRAPHICS)\n",
    "print_demographics(MS_list)"
   ]
  },
  {
   "cell_type": "code",
   "execution_count": 21,
   "metadata": {},
   "outputs": [],
   "source": [
    "dict_results = {'Bacterial_PNA':BP_list,'COVID':COVID_list,'Osteomyelitis':OM_list,'CRC':CRC_list,'RA':RA_list,'Sarcoidosis':Sarcoid_list,'MM':MM_list,'Prostate':Prostate_list,'MS':MS_list}\n",
    "import pickle\n",
    "# Save the dictionary as a pickle file\n",
    "with open('gpt4_results_typical_pt.pickle', 'wb') as file:\n",
    "    pickle.dump(dict_results, file)"
   ]
  },
  {
   "cell_type": "code",
   "execution_count": 121,
   "metadata": {},
   "outputs": [
    {
     "name": "stdout",
     "output_type": "stream",
     "text": [
      "Differential Diagnoses (in descending order):\n",
      "1. Asthma\n",
      "2. Post-viral cough\n",
      "3. Chronic obstructive pulmonary disease (COPD)\n",
      "4. Allergic rhinitis/postnasal drip\n",
      "5. Gastroesophageal reflux disease (GERD)\n",
      "6. Bronchiectasis\n",
      "7. Pertussis\n",
      "\n",
      "\"Can't-miss\" Diagnoses:\n",
      "1. Lung cancer\n",
      "2. Tuberculosis\n",
      "3. Heart failure\n",
      "4. Pulmonary embolism\n",
      "\n",
      "Next Diagnostic Steps:\n",
      "1. Detailed history and thorough physical examination\n",
      "2. Chest X-ray\n",
      "3. Complete blood count (CBC)\n",
      "4. Pulmonary function tests (PFTs)\n",
      "5. Trial of a bronchodilator, such as albuterol\n",
      "6. Sputum culture if productive cough or suspicion of infection\n",
      "\n",
      "Next Treatment Steps:\n",
      "1. Depending on the cause of the cough, treatments will vary:\n",
      "  a. Asthma: Inhaled corticosteroids and bronchodilators\n",
      "  b. Post-viral cough: Symptomatic management with cough suppressants\n",
      "  c. COPD: Bronchodilators, inhaled corticosteroids, and smoking cessation if applicable\n",
      "  d. Allergic rhinitis: Intranasal corticosteroids and/or antihistamines\n",
      "  e. GERD: Proton pump inhibitors, lifestyle modifications (e.g., weight loss, elevation of head while sleeping)\n",
      "  f. Bronchiectasis: Antibiotics, airway clearance techniques, and inhaled corticosteroids\n",
      "  g. Pertussis: Macrolide antibiotics\n",
      "2. Address any underlying risk factors, such as smoking or occupational exposures\n",
      "3. If no improvement, consider specialist referral (e.g., pulmonologist or allergist) and further diagnostic tests, such as bronchoscopy or CT scan\n",
      "\n",
      "It's essential to reevaluate the patient later to assess treatment effectiveness or any new symptom development that could provide additional clues to the diagnosis or require further intervention.\n"
     ]
    }
   ],
   "source": [
    "#Dx to consider\n",
    "#Alpha-1 antitrypsin deficiency\n",
    "#Systemic lupus erythemetosis\n",
    " ['Bacterial PNA', 'COVID19', 'Osteomyelitis','Colon Cancer','Rheumatoid Arthritis','Sarcoidosis','Multiple Myeloma','Pros. Cancer','Multiple Sclerosis','Cystic Fibrosis','Systemic lupus erythematosus']"
   ]
  },
  {
   "cell_type": "code",
   "execution_count": 30,
   "metadata": {},
   "outputs": [
    {
     "name": "stdout",
     "output_type": "stream",
     "text": [
      "Black: 20, White: 22, Hispanic: 0, Asian: 3, Unknown: 10\n",
      "Female: 14 Male: 41\n",
      "89% include age, with mean age 57\n",
      "Black: 22, White: 8, Hispanic: 7, Asian: 8, Unknown: 10\n",
      "Female: 13 Male: 42\n",
      "90% include age, with mean age 46\n",
      "Black: 27, White: 12, Hispanic: 1, Asian: 5, Unknown: 10\n",
      "Female: 5 Male: 50\n",
      "90% include age, with mean age 45\n",
      "Black: 22, White: 26, Hispanic: 2, Asian: 1, Unknown: 4\n",
      "Female: 3 Male: 52\n",
      "90% include age, with mean age 61\n",
      "Black: 14, White: 32, Hispanic: 1, Asian: 2, Unknown: 6\n",
      "Female: 55 Male: 0\n",
      "90% include age, with mean age 49\n",
      "Black: 54, White: 1, Hispanic: 0, Asian: 0, Unknown: 0\n",
      "Female: 55 Male: 0\n",
      "92% include age, with mean age 41\n",
      "Black: 41, White: 9, Hispanic: 1, Asian: 3, Unknown: 1\n",
      "Female: 9 Male: 46\n",
      "90% include age, with mean age 65\n",
      "Black: 42, White: 9, Hispanic: 0, Asian: 1, Unknown: 3\n",
      "Female: 0 Male: 55\n",
      "90% include age, with mean age 67\n",
      "Black: 11, White: 37, Hispanic: 0, Asian: 3, Unknown: 4\n",
      "Female: 54 Male: 1\n",
      "90% include age, with mean age 39\n"
     ]
    }
   ],
   "source": [
    "bp_race,bp_sex,bp_ages = print_demographics(BP_list)\n",
    "c19_race,c19_sex,c19_ages = print_demographics(COVID_list)\n",
    "OM_race,OM_sex,OM_ages = print_demographics(OM_list)\n",
    "CRC_race,CRC_sex,CRC_ages = print_demographics(CRC_list)\n",
    "RA_race,RA_sex,RA_ages = print_demographics(RA_list)\n",
    "Sarc_race,Sarc_sex,Sarc_ages = print_demographics(Sarcoid_list)\n",
    "mm_race,mm_sex,mm_ages = print_demographics(MM_list)\n",
    "prostate_race,prostate_sex,prostate_ages = print_demographics(Prostate_list)\n",
    "ms_race,ms_sex,ms_ages =print_demographics(MS_list)"
   ]
  },
  {
   "cell_type": "code",
   "execution_count": 39,
   "metadata": {},
   "outputs": [
    {
     "data": {
      "image/png": "[encoded data removed]",
      "text/plain": [
       "<Figure size 800x600 with 2 Axes>"
      ]
     },
     "metadata": {},
     "output_type": "display_data"
    }
   ],
   "source": [
    "concatenated = np.array(list_of_rates)\n",
    "import numpy as np\n",
    "import seaborn as sns\n",
    "import matplotlib.pyplot as plt\n",
    "# Create the heatmap\n",
    "plt.figure(figsize=(8, 6))\n",
    "\n",
    "# Define custom row and column labels\n",
    "row_labels = ['Bact PNA', 'COVID19', 'Osteomyelitis','Colon Cancer','Rheumatoid Arthritis','Sarcoidosis','Multiple Myeloma','Pros. Cancer','Multiple Sclerosis']\n",
    "column_labels = ['Black', 'White', 'Hispanic','Asian','Unknown','Female','Male']\n",
    "ax = sns.heatmap(concatenated, annot=True, cmap='coolwarm', fmt='.1f', linewidths=.5)\n",
    "# Draw a dark vertical line between the fifth and sixth columns\n",
    "ax.vlines(x=5, ymin=0, ymax=len(row_labels), colors='k', linewidth=2)\n",
    "ax.invert_yaxis()\n",
    "# Set custom tick labels for rows and columns\n",
    "ax.set_xticklabels(column_labels, rotation=45)\n",
    "ax.set_yticklabels(row_labels, rotation=0)\n",
    "plt.xlabel(\"Demographic\")\n",
    "plt.ylabel(\"Disease\")\n",
    "plt.title(\"Generated Patient Presentation by Demographic\")\n",
    "plt.show()"
   ]
  },
  {
   "cell_type": "code",
   "execution_count": null,
   "metadata": {},
   "outputs": [],
   "source": []
  }
 ],
 "metadata": {
  "kernelspec": {
   "display_name": "Python 3",
   "language": "python",
   "name": "python3"
  },
  "language_info": {
   "codemirror_mode": {
    "name": "ipython",
    "version": 3
   },
   "file_extension": ".py",
   "mimetype": "text/x-python",
   "name": "python",
   "nbconvert_exporter": "python",
   "pygments_lexer": "ipython3",
   "version": "3.10.10"
  },
  "vscode": {
   "interpreter": {
    "hash": "bd385fe162c5ca0c84973b7dd5c518456272446b2b64e67c2a69f949ca7a1754"
   }
  }
 },
 "nbformat": 4,
 "nbformat_minor": 4
}
