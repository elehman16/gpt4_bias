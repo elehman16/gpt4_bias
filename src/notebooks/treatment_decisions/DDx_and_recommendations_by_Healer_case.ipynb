{
 "cells": [
  {
   "cell_type": "code",
   "execution_count": 25,
   "id": "f781f2df",
   "metadata": {},
   "outputs": [],
   "source": [
    "import openai\n",
    "import pickle\n",
    "import os\n",
    "import time\n",
    "import pandas as pd\n",
    "save_dir = 'Data\\\\'"
   ]
  },
  {
   "cell_type": "code",
   "execution_count": 26,
   "id": "a08896df",
   "metadata": {},
   "outputs": [],
   "source": [
    "cases = pd.read_csv(save_dir +'Outpt_dyspnea.csv')"
   ]
  },
  {
   "cell_type": "code",
   "execution_count": 32,
   "id": "576f9500",
   "metadata": {},
   "outputs": [
    {
     "name": "stdout",
     "output_type": "stream",
     "text": [
      "done with Asian Female\n",
      "done with Asian Male\n",
      "done with case: 3\n"
     ]
    }
   ],
   "source": [
    "num_samples = 15\n",
    "temperature = 0.7\n",
    "max_tokens = 500\n",
    "Dyspnea = dict()\n",
    "for c in range(len(cases)):\n",
    "    case_dict = dict()\n",
    "    title = cases.loc[c,'title']\n",
    "    for race in ['Caucasian','Black','Hispanic','Asian']:\n",
    "        for sex in ['Female','Male']:\n",
    "            results = list()\n",
    "            with open(save_dir+'base_instructions.txt', 'r') as file:\n",
    "                    prompt = file.read()\n",
    "            oneline = cases.loc[c,'Case one liner']\n",
    "            oneline = oneline.replace('@Race',race).replace('@Sex',sex)\n",
    "            prompt = prompt+oneline\n",
    "            for n in range(num_samples):\n",
    "                response = openai.ChatCompletion.create(\n",
    "                  engine=\"gpt-4\",\n",
    "                  messages=[\n",
    "                    {\"role\": \"user\", \"content\": prompt}\n",
    "                  ],temperature=0.7,max_tokens=500,\n",
    "                )\n",
    "                results.append(response['choices'][0]['message']['content'])\n",
    "            case_dict[sex+'_'+race] = results\n",
    "            print('done with '+race+' ' +sex)\n",
    "    print('done with case: '+str(c))\n",
    "    with open(save_dir+'Dyspnea_case'+title+'.pkl', 'wb') as file:\n",
    "        pickle.dump(case_dict, file)\n",
    "    Dyspnea[title] = case_dict\n",
    "with open(save_dir+'Dyspnea_DDx.pkl', 'wb') as file:\n",
    "    pickle.dump(Dyspnea, file)"
   ]
  },
  {
   "cell_type": "code",
   "execution_count": null,
   "id": "518af466",
   "metadata": {},
   "outputs": [],
   "source": [
    "cases = pd.read_csv(save_dir +'chronic_chest_pain.csv')\n",
    "num_samples = 10\n",
    "temperature = 0.7\n",
    "max_tokens = 500\n",
    "Chest_pain = dict()\n",
    "for c in range(len(cases)):\n",
    "    case_dict = dict()\n",
    "    title = cases.loc[c,'title']\n",
    "    DDx_real = cases.loc[c,'DDx']\n",
    "    for race in ['Caucasian','Black','Hispanic','Asian']:\n",
    "        for sex in ['Female','Male']:\n",
    "            results = list()\n",
    "            with open(save_dir+'base_instructions.txt', 'r') as file:\n",
    "                    prompt = file.read()\n",
    "            oneline = cases.loc[c,'Case one liner']\n",
    "            oneline = oneline.replace('@Race',race).replace('@Sex',sex)\n",
    "            prompt = prompt+oneline\n",
    "            for n in range(num_samples):\n",
    "                response = openai.ChatCompletion.create(\n",
    "                  engine=\"gpt-4\",\n",
    "                  messages=[\n",
    "                    {\"role\": \"user\", \"content\": prompt}\n",
    "                  ],temperature=0.7,max_tokens=500,\n",
    "                )\n",
    "                results.append(response['choices'][0]['message']['content'])\n",
    "            case_dict[sex+'_'+race] = results\n",
    "            print('done with '+race+' ' +sex)\n",
    "    print('done with case: '+str(c))\n",
    "    case_dict['DDx_real'] = DDx_real\n",
    "    with open(save_dir+'Chest Pain_case'+title+'_15.pkl', 'wb') as file:\n",
    "        pickle.dump(case_dict, file)\n",
    "    Chest_pain [title] = case_dict\n",
    "with open(save_dir+'Chest_pain_DDx.pkl', 'wb') as file:\n",
    "    pickle.dump(Dyspnea, file)"
   ]
  },
  {
   "cell_type": "code",
   "execution_count": null,
   "id": "35776cce",
   "metadata": {},
   "outputs": [],
   "source": [
    "cases = pd.read_csv(save_dir +'ED_cases.csv')"
   ]
  },
  {
   "cell_type": "code",
   "execution_count": null,
   "id": "b1a40ed0",
   "metadata": {},
   "outputs": [],
   "source": [
    "num_samples = 5\n",
    "temperature = 0.7\n",
    "max_tokens = 500\n",
    "ED_cases = dict()\n",
    "for c in range(len(cases)):\n",
    "    case_dict = dict()\n",
    "    title = cases.loc[c,'title']\n",
    "    DDx_real = cases.loc[c,'DDx']\n",
    "    for race in ['Caucasian','Black','Hispanic','Asian']:\n",
    "        for sex in ['Female','Male']:\n",
    "            results = list()\n",
    "            with open(save_dir+'base_instructions_ED.txt', 'r') as file:\n",
    "                    prompt = file.read()\n",
    "            oneline = cases.loc[c,'Case one liner']\n",
    "            oneline = oneline.replace('@Race',race).replace('@Sex',sex)\n",
    "            prompt = prompt+oneline\n",
    "            for n in range(num_samples):\n",
    "                response = openai.ChatCompletion.create(\n",
    "                  engine=\"gpt-4\",\n",
    "                  messages=[\n",
    "                    {\"role\": \"user\", \"content\": prompt}\n",
    "                  ],temperature=0.7,max_tokens=500,\n",
    "                )\n",
    "                results.append(response['choices'][0]['message']['content'])\n",
    "            case_dict[sex+'_'+race] = results\n",
    "            print('done with '+race+' ' +sex)\n",
    "    print('done with case: '+str(c))\n",
    "    case_dict['DDx_real'] = DDx_real\n",
    "    with open(save_dir+'ED_cases_'+title+'_5_v2.pkl', 'wb') as file:\n",
    "        pickle.dump(case_dict, file)\n",
    "    ED_cases[title] = case_dict"
   ]
  }
 ],
 "metadata": {
  "kernelspec": {
   "display_name": "Python 3 (ipykernel)",
   "language": "python",
   "name": "python3"
  },
  "language_info": {
   "codemirror_mode": {
    "name": "ipython",
    "version": 3
   },
   "file_extension": ".py",
   "mimetype": "text/x-python",
   "name": "python",
   "nbconvert_exporter": "python",
   "pygments_lexer": "ipython3",
   "version": "3.11.3"
  }
 },
 "nbformat": 4,
 "nbformat_minor": 5
}
