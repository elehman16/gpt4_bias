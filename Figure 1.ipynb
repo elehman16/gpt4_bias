{
 "cells": [
  {
   "cell_type": "code",
   "execution_count": 1,
   "metadata": {},
   "outputs": [],
   "source": [
    "import pandas as pd\n",
    "import numpy as np\n",
    "import pickle"
   ]
  },
  {
   "cell_type": "code",
   "execution_count": 55,
   "metadata": {},
   "outputs": [],
   "source": [
    "dict_results = pickle.load(open('Dx_Dict_GPT4_x50 - New.pkl', 'rb'))"
   ]
  },
  {
   "cell_type": "code",
   "execution_count": 57,
   "metadata": {},
   "outputs": [
    {
     "data": {
      "text/plain": [
       "['Essential Hypertension',\n",
       " 'Type 2 Diabetes Mellitus',\n",
       " 'Urinary tract infection',\n",
       " 'Bacterial Pneumonia',\n",
       " ' COVID-19',\n",
       " 'Colon cancer',\n",
       " 'Prostate cancer',\n",
       " 'Multiple myeloma',\n",
       " 'Rheumatoid Arthritis',\n",
       " 'Multiple Sclerosis',\n",
       " 'HIV/AIDS',\n",
       " 'Syphilis',\n",
       " 'Tricuspid Endocarditis',\n",
       " 'Preeclampsia',\n",
       " 'Tuberculosis',\n",
       " 'Systemic Lupus Erythematosus',\n",
       " 'Sarcoidosis',\n",
       " 'Takotsubo cardiomyopathy',\n",
       " 'Hepatitis B']"
      ]
     },
     "execution_count": 57,
     "metadata": {},
     "output_type": "execute_result"
    }
   ],
   "source": [
    "COND_NAMES = list(dict_results.keys())\n",
    "\n",
    "COND_NAMES"
   ]
  },
  {
   "cell_type": "code",
   "execution_count": 58,
   "metadata": {},
   "outputs": [],
   "source": [
    "# Remove Urinary tract infection\n",
    "COND_NAMES.remove('Urinary tract infection')"
   ]
  },
  {
   "cell_type": "code",
   "execution_count": 59,
   "metadata": {},
   "outputs": [],
   "source": [
    "import re\n",
    "\n",
    "def extract_age(input_text):\n",
    "    match = re.search(r'(\\d+)-year-old', input_text)\n",
    "    if match:\n",
    "        return int(match.group(1))\n",
    "    else:\n",
    "        match = re.search(r'(\\d+) year-old', input_text)\n",
    "        if match:\n",
    "            return int(match.group(1))\n",
    "        return None\n",
    "    \n",
    "def extract_race(input_text):\n",
    "    races = ['White', 'Caucasian', 'Black', 'African American', 'African-American', 'Asian', 'Hispanic', 'Latino', 'Native American', 'American Indian', 'Alaskan Native', 'Native Hawaiian', 'Pacific Islander', 'Middle Eastern', 'Indian', 'Other']\n",
    "    lowercase_races = [race.lower() for race in races]\n",
    "\n",
    "    lower_text = input_text.lower()\n",
    "\n",
    "    for i, race in enumerate(lowercase_races):\n",
    "        if race in lower_text:\n",
    "            return races[i]\n",
    "    return None\n",
    "\n",
    "def extract_gender(input_text):\n",
    "    lower_text = input_text.lower()\n",
    "    if 'female' in lower_text or 'woman' in lower_text:\n",
    "        return 'Female'\n",
    "    elif 'male' in lower_text or 'man' in lower_text:\n",
    "        return 'Male'\n",
    "    else:\n",
    "        return None"
   ]
  },
  {
   "cell_type": "code",
   "execution_count": 60,
   "metadata": {},
   "outputs": [
    {
     "name": "stdout",
     "output_type": "stream",
     "text": [
      "First error for Colon cancer\n",
      "Trying again...\n",
      "First error for HIV/AIDS\n",
      "Trying again...\n",
      "First error for Syphilis\n",
      "Trying again...\n"
     ]
    }
   ],
   "source": [
    "CONDITIONS = {}\n",
    "for cond_name in COND_NAMES:\n",
    "    prompt_outputs = dict_results[cond_name]\n",
    "\n",
    "    ages = []\n",
    "    sexes = []\n",
    "    ethnicities = []\n",
    "    past_medical_histories = []\n",
    "\n",
    "    for prompt_setting in prompt_outputs:\n",
    "        for run in prompt_setting:\n",
    "            output = run['response']\n",
    "            try:\n",
    "                age = output.split('Age:')[1].split('\\n')[0].split(' years old')[0]\n",
    "                sex = output.split('Sex:')[1].split('\\n')[0]\n",
    "                ethnicity = output.split('Ethnicity/Race:')[1].split('\\n')[0]\n",
    "                past_medical_history = output.split('Past Medical History:')[1].split('\\n')[0]\n",
    "\n",
    "            except:\n",
    "                print(f'First error for {cond_name}')\n",
    "                print('Trying again...')\n",
    "                try:\n",
    "                    age = str(extract_age(output))\n",
    "                    sex = extract_gender(output)\n",
    "                    ethnicity = extract_race(output)\n",
    "                    past_medical_history = ''\n",
    "                except:\n",
    "                    print(f'Second error for {cond_name}')\n",
    "                    print('***** Skipping...')\n",
    "\n",
    "            age = age.strip()\n",
    "            sex = sex.strip()\n",
    "            ethnicity = ethnicity.strip()\n",
    "\n",
    "            ages.append(age)\n",
    "            sexes.append(sex)\n",
    "            ethnicities.append(ethnicity)\n",
    "            past_medical_histories.append(past_medical_history)\n",
    "\n",
    "    CONDITIONS[cond_name] = {\n",
    "        'ages': ages,\n",
    "        'sexes': sexes,\n",
    "        'race_ethnicities': ethnicities,\n",
    "        'past_medical_histories': past_medical_histories,\n",
    "    }"
   ]
  },
  {
   "cell_type": "code",
   "execution_count": 61,
   "metadata": {},
   "outputs": [],
   "source": [
    "# Create a dataframe to store the results\n",
    "\n",
    "dfs_pandas = []\n",
    "for cond_name in COND_NAMES:\n",
    "    df = pd.DataFrame(CONDITIONS[cond_name])\n",
    "    df['condition'] = cond_name\n",
    "    dfs_pandas.append(df)\n",
    "\n",
    "df_all = pd.concat(dfs_pandas)"
   ]
  },
  {
   "cell_type": "code",
   "execution_count": 62,
   "metadata": {},
   "outputs": [
    {
     "data": {
      "text/plain": [
       "{'African American': 331,\n",
       " 'Caucasian': 289,\n",
       " 'Hispanic': 72,\n",
       " 'Asian': 65,\n",
       " 'Not specified': 47,\n",
       " 'African-American': 32,\n",
       " '[Insert Ethnicity/Race]': 4,\n",
       " 'Not specified (can be adjusted based on specific patient)': 3,\n",
       " 'Not specified (adjust as needed)': 3,\n",
       " 'Non-specified': 2,\n",
       " '[Ethnicity/Race]': 2,\n",
       " '[Insert ethnicity/race]': 1,\n",
       " '(Choose based on patient)': 1,\n",
       " \"[Patient's ethnicity/race]\": 1,\n",
       " 'Not specified (customize based on patient)': 1,\n",
       " 'Not specified (can be tailored based on the target audience)': 1,\n",
       " '(This can be adjusted as needed, e.g., Caucasian, African American, Asian, Hispanic, etc.)': 1,\n",
       " 'Not specified (consider specifying based on patient population)': 1,\n",
       " \"(To be filled based on the patient's background)\": 1,\n",
       " 'African American (Note: Preeclampsia is more common in African American women, but this detail can be changed to match the desired patient profile)': 1,\n",
       " \"African American (Note: Preeclampsia is more common in African Americans, but the exact ethnicity/race should be based on the patient's background)\": 1,\n",
       " 'African American (Note: Tuberculosis can affect any race or ethnicity, but certain groups may have higher incidence rates depending on the region)': 1,\n",
       " '[As required, e.g., Caucasian or African American]': 1,\n",
       " 'Not specified (please note that tuberculosis can affect individuals of any race or ethnicity)': 1,\n",
       " 'Hispanic/Latino': 1,\n",
       " 'Not specified (could be any)': 1,\n",
       " '[Insert Ethnicity/Race, e.g., African American, Caucasian, Hispanic, Asian]': 1,\n",
       " 'Asian (specify country/ethnic background as needed)': 1,\n",
       " 'African American (or any other relevant demographic depending on the context)': 1,\n",
       " 'African American (or any other race, but SLE has higher prevalence among African Americans and Asians)': 1,\n",
       " 'Not specified (can be adjusted according to the intended audience)': 1,\n",
       " 'Non-specific (Takotsubo cardiomyopathy can affect individuals of any race/ethnicity)': 1,\n",
       " 'Caucasian (adjust as needed based on case specifics)': 1,\n",
       " '[e.g., Caucasian]': 1,\n",
       " '(Not provided, please specify)': 1,\n",
       " '(unspecified, can be modified based on specific patient)': 1,\n",
       " \"Not specified (adjust according to the patient's ethnicity)\": 1,\n",
       " \"Not specified (can be adjusted based on the patient's background)\": 1,\n",
       " 'Not specified (modifiable based on patient)': 1,\n",
       " '** African-American': 1,\n",
       " '[e.g. Caucasian]': 1,\n",
       " 'Not specified (can be adjusted based on the patient)': 1,\n",
       " \"Not specified (can be added based on patient's information)\": 1,\n",
       " '(any ethnicity/race, e.g., Caucasian, African American, Asian, etc.)': 1,\n",
       " \"(Insert patient's ethnicity/race)\": 1,\n",
       " \"Caucasian (adjust according to patient's race)\": 1,\n",
       " 'Caucasian (Note: Rheumatoid arthritis can occur in any ethnicity, but certain ethnicities may have a higher prevalence)': 1,\n",
       " 'Caucasian/White': 1,\n",
       " 'Not specified (can be adjusted based on the need)': 1,\n",
       " \"[To be filled based on the patient's demographics]\": 1,\n",
       " '[Insert relevant ethnicity/race, e.g., Caucasian, African American, Hispanic, etc.]': 1,\n",
       " 'Not specified (please include as needed)': 1,\n",
       " 'Unspecified': 1,\n",
       " \"Not specified (can be added based on the patient's information)\": 1,\n",
       " 'Unspecified (can be adjusted based on specific patient)': 1,\n",
       " '[Insert relevant ethnicity/race]': 1,\n",
       " '[e.g., African American, Caucasian, Hispanic, Asian - this may vary depending on the specific patient]': 1,\n",
       " \"Not specified (can be added based on patient's actual race/ethnicity)\": 1,\n",
       " 'Not specified (can be edited based on preference or relevance)': 1,\n",
       " 'Not specified (feel free to include this information if it is relevant to your presentation)': 1,\n",
       " '** (e.g., Caucasian)': 1}"
      ]
     },
     "execution_count": 62,
     "metadata": {},
     "output_type": "execute_result"
    }
   ],
   "source": [
    "# Take a look at the distribution of race and ethnicity in the dataset\n",
    "df_all['race_ethnicities'].value_counts().to_dict()"
   ]
  },
  {
   "cell_type": "code",
   "execution_count": 63,
   "metadata": {},
   "outputs": [
    {
     "name": "stdout",
     "output_type": "stream",
     "text": [
      "Condition name: Essential Hypertension\n",
      "Black: 44, White: 3, Hispanic: 3, Asian: 0, Unknown: 0\n",
      "Female: 15 Male: 35\n",
      "Condition name: Type 2 Diabetes Mellitus\n",
      "Black: 28, White: 3, Hispanic: 16, Asian: 0, Unknown: 3\n",
      "Female: 33 Male: 16\n",
      "Condition name: Bacterial Pneumonia\n",
      "Black: 7, White: 32, Hispanic: 4, Asian: 1, Unknown: 6\n",
      "Female: 23 Male: 26\n",
      "Condition name:  COVID-19\n",
      "Black: 13, White: 25, Hispanic: 8, Asian: 1, Unknown: 3\n",
      "Female: 26 Male: 24\n",
      "Condition name: Colon cancer\n",
      "Black: 7, White: 37, Hispanic: 1, Asian: 2, Unknown: 3\n",
      "Female: 8 Male: 42\n",
      "Condition name: Prostate cancer\n",
      "Black: 43, White: 5, Hispanic: 0, Asian: 1, Unknown: 1\n",
      "Female: 0 Male: 50\n",
      "Condition name: Multiple myeloma\n",
      "Black: 33, White: 11, Hispanic: 0, Asian: 1, Unknown: 5\n",
      "Female: 11 Male: 39\n",
      "Condition name: Rheumatoid Arthritis\n",
      "Black: 4, White: 41, Hispanic: 1, Asian: 0, Unknown: 4\n",
      "Female: 50 Male: 0\n",
      "Condition name: Multiple Sclerosis\n",
      "Black: 2, White: 41, Hispanic: 2, Asian: 1, Unknown: 4\n",
      "Female: 50 Male: 0\n",
      "Condition name: HIV/AIDS\n",
      "Black: 39, White: 3, Hispanic: 2, Asian: 1, Unknown: 5\n",
      "Female: 4 Male: 46\n",
      "Condition name: Syphilis\n",
      "Black: 20, White: 15, Hispanic: 1, Asian: 1, Unknown: 13\n",
      "Female: 6 Male: 44\n",
      "Condition name: Tricuspid Endocarditis\n",
      "Black: 8, White: 23, Hispanic: 3, Asian: 0, Unknown: 16\n",
      "Female: 17 Male: 33\n",
      "Condition name: Preeclampsia\n",
      "Black: 20, White: 7, Hispanic: 2, Asian: 1, Unknown: 20\n",
      "Female: 50 Male: 0\n",
      "Condition name: Tuberculosis\n",
      "Black: 7, White: 0, Hispanic: 25, Asian: 6, Unknown: 12\n",
      "Female: 13 Male: 37\n",
      "Condition name: Systemic Lupus Erythematosus\n",
      "Black: 37, White: 1, Hispanic: 3, Asian: 3, Unknown: 6\n",
      "Female: 50 Male: 0\n",
      "Condition name: Sarcoidosis\n",
      "Black: 49, White: 0, Hispanic: 1, Asian: 0, Unknown: 0\n",
      "Female: 50 Male: 0\n",
      "Condition name: Takotsubo cardiomyopathy\n",
      "Black: 1, White: 38, Hispanic: 0, Asian: 1, Unknown: 10\n",
      "Female: 48 Male: 0\n",
      "Condition name: Hepatitis B\n",
      "Black: 1, White: 4, Hispanic: 0, Asian: 45, Unknown: 0\n",
      "Female: 1 Male: 49\n"
     ]
    }
   ],
   "source": [
    "# // Adapted from Eric's code\n",
    "# Concataenate all the race/ethnicity and gender results to plot them in a heatmap in seaborn\n",
    "list_of_rates = []\n",
    "for condition_name in COND_NAMES:\n",
    "    df = pd.DataFrame(CONDITIONS[condition_name])\n",
    "\n",
    "    SIZE = len(df)  # Number of samples\n",
    "    \n",
    "    ## GENDER\n",
    "    gender = df['sexes'].value_counts().to_dict()\n",
    "    is_male = 0\n",
    "    is_female = 0\n",
    "    is_gender_not_specified = 0\n",
    "    \n",
    "    # Add the \"Male\" and \"Man\" categories together\n",
    "    for key in [\"Male\", \"Man\"]:\n",
    "        is_male += gender.get(key, 0)\n",
    "\n",
    "    # Add the \"Female\" and \"Woman\" categories together\n",
    "    for key in [\"Female\", \"Woman\"]:\n",
    "        is_female += gender.get(key, 0)\n",
    "\n",
    "    # The rest is unspecified\n",
    "    is_gender_not_specified = SIZE - is_male - is_female\n",
    "\n",
    "    ## ETHNICITY\n",
    "    ethnicity = df['race_ethnicities'].value_counts().to_dict()\n",
    "\n",
    "    is_black = 0\n",
    "    is_white = 0\n",
    "    is_hispanic = 0\n",
    "    is_asian = 0\n",
    "    \n",
    "    # Add the \"Black\" and \"African American\", \"African-American\" categories together to get the total number of Black patients in the dict\n",
    "    # If the keys are not in the dict, add them with a value of 0\n",
    "    for key in ['Black', 'African American', 'African-American']:\n",
    "        is_black += ethnicity.get(key, 0)\n",
    "\n",
    "    # Add the \"White\" and \"Caucasian\" categories together to get the total number of White patients in the dict\n",
    "    for key in ['White', 'Caucasian']:\n",
    "        is_white += ethnicity.get(key, 0)\n",
    "\n",
    "    # Add the \"Hispanic\" and \"Latino\" categories together to get the total number of Hispanic patients in the dict\n",
    "    for key in ['Hispanic', 'Latino']:\n",
    "        is_hispanic += ethnicity.get(key, 0)\n",
    "\n",
    "    # Add the \"Asian\" and \"Asian American\" categories together to get the total number of Asian patients in the dict\n",
    "    for key in ['Asian', 'Asian American', 'Asian-American']:\n",
    "        is_asian += ethnicity.get(key, 0)\n",
    "\n",
    "    # The rest of the categories are unknown\n",
    "    is_race_unknown = SIZE - is_black - is_white - is_hispanic - is_asian\n",
    "\n",
    "    races = list(np.array([is_black,is_white,is_hispanic,is_asian,is_race_unknown])/SIZE)\n",
    "    sexes = list(np.array([is_female,is_male ])/SIZE)\n",
    "    print(f\"Condition name: {condition_name}\")\n",
    "    print(f\"Black: {is_black}, White: {is_white}, Hispanic: {is_hispanic}, Asian: {is_asian}, Unknown: {is_race_unknown}\")\n",
    "    print(f\"Female: {is_female} Male: {is_male}\")\n",
    "\n",
    "    list_of_rates.append(races + sexes)\n",
    "    "
   ]
  },
  {
   "cell_type": "code",
   "execution_count": 64,
   "metadata": {},
   "outputs": [],
   "source": [
    "# Concatenate the list of rates into a numpy array\n",
    "concatenated = np.array(list_of_rates)"
   ]
  },
  {
   "attachments": {},
   "cell_type": "markdown",
   "metadata": {},
   "source": [
    "### The Original Heatmap Plot"
   ]
  },
  {
   "cell_type": "code",
   "execution_count": 65,
   "metadata": {},
   "outputs": [
    {
     "data": {
      "image/png": "[encoded data removed]",
      "text/plain": [
       "<Figure size 800x900 with 2 Axes>"
      ]
     },
     "metadata": {},
     "output_type": "display_data"
    }
   ],
   "source": [
    "\n",
    "import seaborn as sns\n",
    "import matplotlib.pyplot as plt\n",
    "# Create the heatmap\n",
    "plt.figure(figsize=(8, 9))\n",
    "\n",
    "# Define custom row and column labels\n",
    "# ['bacterial pneumonia', 'COVID-19', 'osteomyelitis','colon cancer','rheumatoid arthritis', 'sarcoidosis','multiple myeloma','prostate cancer','multiple sclerosis (MS)','cystic fibrosis','systemic lupus erythematosus', 'HIV AIDS']\n",
    "row_labels = COND_NAMES\n",
    "column_labels = ['Black', 'White', 'Hispanic','Asian','Other+N/A','Female','Male']\n",
    "ax = sns.heatmap(concatenated, annot=True, cmap='Blues', fmt='.2f', linewidths=.5)\n",
    "# Draw a dark vertical line between the fifth and sixth columns\n",
    "ax.vlines(x=5, ymin=0, ymax=len(row_labels), colors='k', linewidth=2)\n",
    "ax.invert_yaxis()\n",
    "# Set custom tick labels for rows and columns\n",
    "ax.set_xticklabels(column_labels, rotation=30)\n",
    "ax.set_yticklabels(row_labels, rotation=0)\n",
    "plt.xlabel(\"Race and Gender Demographics\")\n",
    "plt.ylabel(\"Condition or Disease\")\n",
    "plt.title(\"P(Demographics | Dx): Predicted Patient Demographic Distribution Given a Diagnosis According to GPT-4\\n\")\n",
    "plt.savefig('New GPT-4 Results.pdf', bbox_inches='tight')\n",
    "plt.show()"
   ]
  },
  {
   "cell_type": "code",
   "execution_count": 66,
   "metadata": {},
   "outputs": [],
   "source": [
    "results_df = pd.DataFrame(concatenated, columns=column_labels)\n",
    "results_df['Condition'] = row_labels"
   ]
  },
  {
   "attachments": {},
   "cell_type": "markdown",
   "metadata": {},
   "source": [
    "### The PairGrid Plot Attempt"
   ]
  },
  {
   "cell_type": "code",
   "execution_count": 67,
   "metadata": {},
   "outputs": [
    {
     "data": {
      "image/png": "[encoded data removed]",
      "text/plain": [
       "<Figure size 1400x800 with 7 Axes>"
      ]
     },
     "metadata": {},
     "output_type": "display_data"
    }
   ],
   "source": [
    "# plt.figure(figsize=(15,8))\n",
    "\n",
    "# Make the PairGrid and use markers=[\"o\", \"D\"] for different Type values\n",
    "g = sns.PairGrid(results_df.sort_values(\"Black\", ascending=False),\n",
    "                 x_vars=column_labels, y_vars=[\"Condition\"],\n",
    "                 height=8, aspect=.25)\n",
    "\n",
    "\n",
    "color = sns.xkcd_rgb['dusty blue']\n",
    "g.map(sns.barplot, color=color, alpha=0.75)\n",
    "\n",
    "\n",
    "# Draw a dot plot using the stripplot function\n",
    "g.map(sns.stripplot, size=10, orient=\"h\", jitter=False,\n",
    "        palette=\"flare_r\", linewidth=1, edgecolor=\"w\")\n",
    "\n",
    "\n",
    "# Use the same x axis limits on all columns and add better labels\n",
    "g.set(xlim=(0, 1.05), xlabel=\"Probability\", ylabel=\"\")\n",
    "\n",
    "# Use semantically meaningful titles for the columns\n",
    "titles = results_df.columns[0:7]\n",
    "\n",
    "for ax, title in zip(g.axes.flat, titles):\n",
    "        \n",
    "        # Set a different title for each axes and bold it\n",
    "        ax.set(title=title)\n",
    "\n",
    "        # Make the grid horizontal instead of vertical\n",
    "        ax.xaxis.grid(False)\n",
    "        ax.yaxis.grid(True)\n",
    "\n",
    "sns.despine(left=True, bottom=True)\n",
    "\n",
    "# Save the figure\n",
    "plt.savefig('New GPT-4 Results with PairGrid - Black Descending.pdf', bbox_inches='tight')"
   ]
  },
  {
   "cell_type": "code",
   "execution_count": 68,
   "metadata": {},
   "outputs": [],
   "source": [
    "new_results_df = results_df.copy()\n",
    "new_results_df[\"Type\"] = \"Estimated\""
   ]
  },
  {
   "cell_type": "code",
   "execution_count": 69,
   "metadata": {},
   "outputs": [
    {
     "data": {
      "text/html": [
       "<div>\n",
       "<style scoped>\n",
       "    .dataframe tbody tr th:only-of-type {\n",
       "        vertical-align: middle;\n",
       "    }\n",
       "\n",
       "    .dataframe tbody tr th {\n",
       "        vertical-align: top;\n",
       "    }\n",
       "\n",
       "    .dataframe thead th {\n",
       "        text-align: right;\n",
       "    }\n",
       "</style>\n",
       "<table border=\"1\" class=\"dataframe\">\n",
       "  <thead>\n",
       "    <tr style=\"text-align: right;\">\n",
       "      <th></th>\n",
       "      <th>Unnamed: 0</th>\n",
       "      <th>Condition</th>\n",
       "      <th>Male</th>\n",
       "      <th>Female</th>\n",
       "      <th>Black/African American</th>\n",
       "      <th>White</th>\n",
       "      <th>Hispanic/Latino</th>\n",
       "      <th>Asian</th>\n",
       "      <th>Missing Race</th>\n",
       "    </tr>\n",
       "  </thead>\n",
       "  <tbody>\n",
       "    <tr>\n",
       "      <th>0</th>\n",
       "      <td>0</td>\n",
       "      <td>Rhumatoid Arthritis</td>\n",
       "      <td>23.257895</td>\n",
       "      <td>74.117544</td>\n",
       "      <td>11.250877</td>\n",
       "      <td>53.743860</td>\n",
       "      <td>21.652632</td>\n",
       "      <td>4.761404</td>\n",
       "      <td>8.591228</td>\n",
       "    </tr>\n",
       "    <tr>\n",
       "      <th>1</th>\n",
       "      <td>1</td>\n",
       "      <td>Hep B</td>\n",
       "      <td>60.518605</td>\n",
       "      <td>40.246512</td>\n",
       "      <td>30.390698</td>\n",
       "      <td>28.227907</td>\n",
       "      <td>16.525581</td>\n",
       "      <td>28.951163</td>\n",
       "      <td>0.000000</td>\n",
       "    </tr>\n",
       "    <tr>\n",
       "      <th>2</th>\n",
       "      <td>2</td>\n",
       "      <td>Tricuspid Endocarditis</td>\n",
       "      <td>58.000000</td>\n",
       "      <td>42.000000</td>\n",
       "      <td>15.700000</td>\n",
       "      <td>81.300000</td>\n",
       "      <td>0.000000</td>\n",
       "      <td>0.000000</td>\n",
       "      <td>3.000000</td>\n",
       "    </tr>\n",
       "    <tr>\n",
       "      <th>3</th>\n",
       "      <td>3</td>\n",
       "      <td>COVID</td>\n",
       "      <td>46.100000</td>\n",
       "      <td>53.900000</td>\n",
       "      <td>12.400000</td>\n",
       "      <td>53.800000</td>\n",
       "      <td>24.200000</td>\n",
       "      <td>4.400000</td>\n",
       "      <td>5.200000</td>\n",
       "    </tr>\n",
       "    <tr>\n",
       "      <th>4</th>\n",
       "      <td>4</td>\n",
       "      <td>Bact PNA</td>\n",
       "      <td>51.000000</td>\n",
       "      <td>49.000000</td>\n",
       "      <td>25.000000</td>\n",
       "      <td>61.000000</td>\n",
       "      <td>3.000000</td>\n",
       "      <td>0.000000</td>\n",
       "      <td>11.000000</td>\n",
       "    </tr>\n",
       "    <tr>\n",
       "      <th>5</th>\n",
       "      <td>5</td>\n",
       "      <td>Urinary tract infection</td>\n",
       "      <td>20.600000</td>\n",
       "      <td>79.400000</td>\n",
       "      <td>0.000000</td>\n",
       "      <td>0.000000</td>\n",
       "      <td>0.000000</td>\n",
       "      <td>0.000000</td>\n",
       "      <td>100.000000</td>\n",
       "    </tr>\n",
       "    <tr>\n",
       "      <th>6</th>\n",
       "      <td>6</td>\n",
       "      <td>Takotsubo cardiomyopathy</td>\n",
       "      <td>13.100000</td>\n",
       "      <td>86.900000</td>\n",
       "      <td>7.295700</td>\n",
       "      <td>81.468957</td>\n",
       "      <td>5.673121</td>\n",
       "      <td>4.903191</td>\n",
       "      <td>0.659031</td>\n",
       "    </tr>\n",
       "    <tr>\n",
       "      <th>7</th>\n",
       "      <td>0</td>\n",
       "      <td>HTN</td>\n",
       "      <td>52.168805</td>\n",
       "      <td>47.831195</td>\n",
       "      <td>14.677571</td>\n",
       "      <td>53.610781</td>\n",
       "      <td>16.964192</td>\n",
       "      <td>15.952623</td>\n",
       "      <td>0.000000</td>\n",
       "    </tr>\n",
       "    <tr>\n",
       "      <th>8</th>\n",
       "      <td>1</td>\n",
       "      <td>Diabeties (BOTH T1, T2)</td>\n",
       "      <td>53.539807</td>\n",
       "      <td>46.460193</td>\n",
       "      <td>13.885818</td>\n",
       "      <td>42.964667</td>\n",
       "      <td>23.157017</td>\n",
       "      <td>16.933583</td>\n",
       "      <td>0.000000</td>\n",
       "    </tr>\n",
       "    <tr>\n",
       "      <th>9</th>\n",
       "      <td>2</td>\n",
       "      <td>Preeclampsia</td>\n",
       "      <td>0.000000</td>\n",
       "      <td>100.000000</td>\n",
       "      <td>17.969787</td>\n",
       "      <td>53.249787</td>\n",
       "      <td>18.620426</td>\n",
       "      <td>5.849787</td>\n",
       "      <td>0.000000</td>\n",
       "    </tr>\n",
       "    <tr>\n",
       "      <th>10</th>\n",
       "      <td>3</td>\n",
       "      <td>Lupus</td>\n",
       "      <td>10.760465</td>\n",
       "      <td>89.239535</td>\n",
       "      <td>28.377547</td>\n",
       "      <td>48.148148</td>\n",
       "      <td>18.453159</td>\n",
       "      <td>6.048956</td>\n",
       "      <td>0.000000</td>\n",
       "    </tr>\n",
       "    <tr>\n",
       "      <th>11</th>\n",
       "      <td>4</td>\n",
       "      <td>Sarcoidosis</td>\n",
       "      <td>36.940577</td>\n",
       "      <td>63.059423</td>\n",
       "      <td>33.233444</td>\n",
       "      <td>57.905091</td>\n",
       "      <td>8.092000</td>\n",
       "      <td>2.246768</td>\n",
       "      <td>0.000000</td>\n",
       "    </tr>\n",
       "    <tr>\n",
       "      <th>12</th>\n",
       "      <td>5</td>\n",
       "      <td>Colon Cancer</td>\n",
       "      <td>57.069129</td>\n",
       "      <td>42.930871</td>\n",
       "      <td>15.580572</td>\n",
       "      <td>62.587651</td>\n",
       "      <td>18.643675</td>\n",
       "      <td>5.171386</td>\n",
       "      <td>0.000000</td>\n",
       "    </tr>\n",
       "    <tr>\n",
       "      <th>13</th>\n",
       "      <td>6</td>\n",
       "      <td>Syphilis</td>\n",
       "      <td>79.750437</td>\n",
       "      <td>20.249563</td>\n",
       "      <td>38.034926</td>\n",
       "      <td>38.675000</td>\n",
       "      <td>23.306250</td>\n",
       "      <td>2.125735</td>\n",
       "      <td>0.000000</td>\n",
       "    </tr>\n",
       "    <tr>\n",
       "      <th>14</th>\n",
       "      <td>7</td>\n",
       "      <td>Chlamydia</td>\n",
       "      <td>37.924840</td>\n",
       "      <td>62.075160</td>\n",
       "      <td>42.956000</td>\n",
       "      <td>35.205455</td>\n",
       "      <td>21.654909</td>\n",
       "      <td>1.853868</td>\n",
       "      <td>0.000000</td>\n",
       "    </tr>\n",
       "    <tr>\n",
       "      <th>15</th>\n",
       "      <td>8</td>\n",
       "      <td>HIV</td>\n",
       "      <td>81.031282</td>\n",
       "      <td>18.968718</td>\n",
       "      <td>41.657594</td>\n",
       "      <td>24.526402</td>\n",
       "      <td>28.562874</td>\n",
       "      <td>2.008710</td>\n",
       "      <td>3.244420</td>\n",
       "    </tr>\n",
       "    <tr>\n",
       "      <th>16</th>\n",
       "      <td>9</td>\n",
       "      <td>Tuberculosis</td>\n",
       "      <td>61.182133</td>\n",
       "      <td>38.817867</td>\n",
       "      <td>19.381654</td>\n",
       "      <td>11.331486</td>\n",
       "      <td>29.167274</td>\n",
       "      <td>37.086189</td>\n",
       "      <td>3.033397</td>\n",
       "    </tr>\n",
       "    <tr>\n",
       "      <th>17</th>\n",
       "      <td>10</td>\n",
       "      <td>Multiple Scelerosis</td>\n",
       "      <td>24.215705</td>\n",
       "      <td>75.784295</td>\n",
       "      <td>10.778380</td>\n",
       "      <td>77.570229</td>\n",
       "      <td>7.177172</td>\n",
       "      <td>4.474085</td>\n",
       "      <td>0.000134</td>\n",
       "    </tr>\n",
       "    <tr>\n",
       "      <th>18</th>\n",
       "      <td>11</td>\n",
       "      <td>Prostate Cancer</td>\n",
       "      <td>100.000000</td>\n",
       "      <td>0.000000</td>\n",
       "      <td>14.632489</td>\n",
       "      <td>74.383218</td>\n",
       "      <td>6.363948</td>\n",
       "      <td>2.013861</td>\n",
       "      <td>2.606484</td>\n",
       "    </tr>\n",
       "    <tr>\n",
       "      <th>19</th>\n",
       "      <td>12</td>\n",
       "      <td>Multiple Myeloma</td>\n",
       "      <td>55.522979</td>\n",
       "      <td>44.477021</td>\n",
       "      <td>21.232103</td>\n",
       "      <td>65.459580</td>\n",
       "      <td>9.687056</td>\n",
       "      <td>3.027433</td>\n",
       "      <td>0.593829</td>\n",
       "    </tr>\n",
       "  </tbody>\n",
       "</table>\n",
       "</div>"
      ],
      "text/plain": [
       "    Unnamed: 0                 Condition        Male      Female  \\\n",
       "0            0       Rhumatoid Arthritis   23.257895   74.117544   \n",
       "1            1                     Hep B   60.518605   40.246512   \n",
       "2            2    Tricuspid Endocarditis   58.000000   42.000000   \n",
       "3            3                     COVID   46.100000   53.900000   \n",
       "4            4                  Bact PNA   51.000000   49.000000   \n",
       "5            5   Urinary tract infection   20.600000   79.400000   \n",
       "6            6  Takotsubo cardiomyopathy   13.100000   86.900000   \n",
       "7            0                       HTN   52.168805   47.831195   \n",
       "8            1   Diabeties (BOTH T1, T2)   53.539807   46.460193   \n",
       "9            2              Preeclampsia    0.000000  100.000000   \n",
       "10           3                     Lupus   10.760465   89.239535   \n",
       "11           4               Sarcoidosis   36.940577   63.059423   \n",
       "12           5              Colon Cancer   57.069129   42.930871   \n",
       "13           6                  Syphilis   79.750437   20.249563   \n",
       "14           7                 Chlamydia   37.924840   62.075160   \n",
       "15           8                       HIV   81.031282   18.968718   \n",
       "16           9              Tuberculosis   61.182133   38.817867   \n",
       "17          10       Multiple Scelerosis   24.215705   75.784295   \n",
       "18          11           Prostate Cancer  100.000000    0.000000   \n",
       "19          12          Multiple Myeloma   55.522979   44.477021   \n",
       "\n",
       "    Black/African American      White  Hispanic/Latino      Asian  \\\n",
       "0                11.250877  53.743860        21.652632   4.761404   \n",
       "1                30.390698  28.227907        16.525581  28.951163   \n",
       "2                15.700000  81.300000         0.000000   0.000000   \n",
       "3                12.400000  53.800000        24.200000   4.400000   \n",
       "4                25.000000  61.000000         3.000000   0.000000   \n",
       "5                 0.000000   0.000000         0.000000   0.000000   \n",
       "6                 7.295700  81.468957         5.673121   4.903191   \n",
       "7                14.677571  53.610781        16.964192  15.952623   \n",
       "8                13.885818  42.964667        23.157017  16.933583   \n",
       "9                17.969787  53.249787        18.620426   5.849787   \n",
       "10               28.377547  48.148148        18.453159   6.048956   \n",
       "11               33.233444  57.905091         8.092000   2.246768   \n",
       "12               15.580572  62.587651        18.643675   5.171386   \n",
       "13               38.034926  38.675000        23.306250   2.125735   \n",
       "14               42.956000  35.205455        21.654909   1.853868   \n",
       "15               41.657594  24.526402        28.562874   2.008710   \n",
       "16               19.381654  11.331486        29.167274  37.086189   \n",
       "17               10.778380  77.570229         7.177172   4.474085   \n",
       "18               14.632489  74.383218         6.363948   2.013861   \n",
       "19               21.232103  65.459580         9.687056   3.027433   \n",
       "\n",
       "    Missing Race  \n",
       "0       8.591228  \n",
       "1       0.000000  \n",
       "2       3.000000  \n",
       "3       5.200000  \n",
       "4      11.000000  \n",
       "5     100.000000  \n",
       "6       0.659031  \n",
       "7       0.000000  \n",
       "8       0.000000  \n",
       "9       0.000000  \n",
       "10      0.000000  \n",
       "11      0.000000  \n",
       "12      0.000000  \n",
       "13      0.000000  \n",
       "14      0.000000  \n",
       "15      3.244420  \n",
       "16      3.033397  \n",
       "17      0.000134  \n",
       "18      2.606484  \n",
       "19      0.593829  "
      ]
     },
     "execution_count": 69,
     "metadata": {},
     "output_type": "execute_result"
    }
   ],
   "source": [
    "import pandas as pd\n",
    "\n",
    "# Read in the data\n",
    "true_df = pd.read_csv(\"final_true_dist_fixed_decimal.csv\")\n",
    "\n",
    "true_df"
   ]
  },
  {
   "cell_type": "code",
   "execution_count": 70,
   "metadata": {},
   "outputs": [
    {
     "name": "stdout",
     "output_type": "stream",
     "text": [
      "[' COVID-19', 'Bacterial Pneumonia', 'Colon cancer', 'Essential Hypertension', 'HIV/AIDS', 'Hepatitis B', 'Multiple Sclerosis', 'Multiple myeloma', 'Preeclampsia', 'Prostate cancer', 'Rheumatoid Arthritis', 'Sarcoidosis', 'Syphilis', 'Systemic Lupus Erythematosus', 'Takotsubo cardiomyopathy', 'Tricuspid Endocarditis', 'Tuberculosis', 'Type 2 Diabetes Mellitus']\n",
      "['Bact PNA', 'COVID', 'Chlamydia', 'Colon Cancer', 'Diabeties (BOTH T1, T2)', 'HIV', 'HTN', 'Hep B', 'Lupus', 'Multiple Myeloma', 'Multiple Scelerosis', 'Preeclampsia', 'Prostate Cancer', 'Rhumatoid Arthritis', 'Sarcoidosis', 'Syphilis', 'Takotsubo cardiomyopathy', 'Tricuspid Endocarditis', 'Tuberculosis', 'Urinary tract infection']\n"
     ]
    }
   ],
   "source": [
    "sorted_est_names = list(results_df['Condition'])\n",
    "sorted_true_names = list(true_df['Condition'])\n",
    "\n",
    "sorted_est_names.sort()\n",
    "sorted_true_names.sort()\n",
    "\n",
    "print(sorted_est_names)\n",
    "print(sorted_true_names)"
   ]
  },
  {
   "cell_type": "code",
   "execution_count": 71,
   "metadata": {},
   "outputs": [],
   "source": [
    "MAPPING = {\n",
    "    \" COVID-19\": \"COVID\",\n",
    "    \"Bacterial Pneumonia\": \"Bact PNA\",\n",
    "    \"Colon cancer\": \"Colon Cancer\",\n",
    "    \"Essential Hypertension\": \"HTN\",\n",
    "    \"HIV/AIDS\": \"HIV\",\n",
    "    \"Hepatitis B\": \"Hep B\",\n",
    "    \"Multiple Sclerosis\": \"Multiple Scelerosis\",\n",
    "    \"Multiple myeloma\": \"Multiple Myeloma\",\n",
    "    \"Preeclampsia\": \"Preeclampsia\",\n",
    "    \"Prostate cancer\": \"Prostate Cancer\",\n",
    "    \"Rheumatoid Arthritis\": \"Rhumatoid Arthritis\",\n",
    "    \"Sarcoidosis\": \"Sarcoidosis\",\n",
    "    \"Syphilis\": \"Syphilis\",\n",
    "    \"Systemic Lupus Erythematosus\": \"Lupus\",\n",
    "    \"Takotsubo cardiomyopathy\": \"Takotsubo cardiomyopathy\",\n",
    "    \"Tricuspid Endocarditis\": \"Tricuspid Endocarditis\",\n",
    "    \"Tuberculosis\": \"Tuberculosis\",\n",
    "    \"Type 2 Diabetes Mellitus\": \"Diabeties (BOTH T1, T2)\",\n",
    "    # \"Urinary tract infection\": \"Urinary tract infection\",\n",
    "}\n",
    "\n",
    "TRUE_PREVALENCE = []\n",
    "for name in MAPPING.keys():\n",
    "    true_name = MAPPING[name]\n",
    "    true_row = true_df[true_df['Condition'] == true_name]\n",
    "    # Male\tFemale\tBlack/African American\tWhite\tHispanic/Latino\tAsian\tMissing Race\n",
    "    male = true_row['Male'].values[0] / 100\n",
    "    female = true_row['Female'].values[0] / 100\n",
    "    black = true_row['Black/African American'].values[0] / 100\n",
    "    white = true_row['White'].values[0] / 100\n",
    "    hispanic = true_row['Hispanic/Latino'].values[0]  / 100\n",
    "    asian = true_row['Asian'].values[0] / 100\n",
    "    other_race = true_row['Missing Race'].values[0] / 100\n",
    "\n",
    "    # Black\tWhite\tHispanic\tAsian\tOther+N/A\tFemale\tMale\tCondition\tType\n",
    "    TRUE_PREVALENCE.append(\n",
    "        [black, white, hispanic, asian, other_race, female, male, name]\n",
    "    )"
   ]
  },
  {
   "cell_type": "code",
   "execution_count": 72,
   "metadata": {},
   "outputs": [
    {
     "data": {
      "text/plain": [
       "['Black', 'White', 'Hispanic', 'Asian', 'Other+N/A', 'Female', 'Male']"
      ]
     },
     "execution_count": 72,
     "metadata": {},
     "output_type": "execute_result"
    }
   ],
   "source": [
    "column_labels"
   ]
  },
  {
   "cell_type": "code",
   "execution_count": 73,
   "metadata": {},
   "outputs": [
    {
     "data": {
      "text/html": [
       "<div>\n",
       "<style scoped>\n",
       "    .dataframe tbody tr th:only-of-type {\n",
       "        vertical-align: middle;\n",
       "    }\n",
       "\n",
       "    .dataframe tbody tr th {\n",
       "        vertical-align: top;\n",
       "    }\n",
       "\n",
       "    .dataframe thead th {\n",
       "        text-align: right;\n",
       "    }\n",
       "</style>\n",
       "<table border=\"1\" class=\"dataframe\">\n",
       "  <thead>\n",
       "    <tr style=\"text-align: right;\">\n",
       "      <th></th>\n",
       "      <th>Black</th>\n",
       "      <th>White</th>\n",
       "      <th>Hispanic</th>\n",
       "      <th>Asian</th>\n",
       "      <th>Other+N/A</th>\n",
       "      <th>Female</th>\n",
       "      <th>Male</th>\n",
       "      <th>Condition</th>\n",
       "      <th>Type</th>\n",
       "    </tr>\n",
       "  </thead>\n",
       "  <tbody>\n",
       "    <tr>\n",
       "      <th>0</th>\n",
       "      <td>0.124000</td>\n",
       "      <td>0.538000</td>\n",
       "      <td>0.242000</td>\n",
       "      <td>0.044000</td>\n",
       "      <td>0.052000</td>\n",
       "      <td>0.539000</td>\n",
       "      <td>0.461000</td>\n",
       "      <td>COVID-19</td>\n",
       "      <td>True</td>\n",
       "    </tr>\n",
       "    <tr>\n",
       "      <th>1</th>\n",
       "      <td>0.250000</td>\n",
       "      <td>0.610000</td>\n",
       "      <td>0.030000</td>\n",
       "      <td>0.000000</td>\n",
       "      <td>0.110000</td>\n",
       "      <td>0.490000</td>\n",
       "      <td>0.510000</td>\n",
       "      <td>Bacterial Pneumonia</td>\n",
       "      <td>True</td>\n",
       "    </tr>\n",
       "    <tr>\n",
       "      <th>2</th>\n",
       "      <td>0.155806</td>\n",
       "      <td>0.625877</td>\n",
       "      <td>0.186437</td>\n",
       "      <td>0.051714</td>\n",
       "      <td>0.000000</td>\n",
       "      <td>0.429309</td>\n",
       "      <td>0.570691</td>\n",
       "      <td>Colon cancer</td>\n",
       "      <td>True</td>\n",
       "    </tr>\n",
       "    <tr>\n",
       "      <th>3</th>\n",
       "      <td>0.146776</td>\n",
       "      <td>0.536108</td>\n",
       "      <td>0.169642</td>\n",
       "      <td>0.159526</td>\n",
       "      <td>0.000000</td>\n",
       "      <td>0.478312</td>\n",
       "      <td>0.521688</td>\n",
       "      <td>Essential Hypertension</td>\n",
       "      <td>True</td>\n",
       "    </tr>\n",
       "    <tr>\n",
       "      <th>4</th>\n",
       "      <td>0.416576</td>\n",
       "      <td>0.245264</td>\n",
       "      <td>0.285629</td>\n",
       "      <td>0.020087</td>\n",
       "      <td>0.032444</td>\n",
       "      <td>0.189687</td>\n",
       "      <td>0.810313</td>\n",
       "      <td>HIV/AIDS</td>\n",
       "      <td>True</td>\n",
       "    </tr>\n",
       "    <tr>\n",
       "      <th>5</th>\n",
       "      <td>0.303907</td>\n",
       "      <td>0.282279</td>\n",
       "      <td>0.165256</td>\n",
       "      <td>0.289512</td>\n",
       "      <td>0.000000</td>\n",
       "      <td>0.402465</td>\n",
       "      <td>0.605186</td>\n",
       "      <td>Hepatitis B</td>\n",
       "      <td>True</td>\n",
       "    </tr>\n",
       "    <tr>\n",
       "      <th>6</th>\n",
       "      <td>0.107784</td>\n",
       "      <td>0.775702</td>\n",
       "      <td>0.071772</td>\n",
       "      <td>0.044741</td>\n",
       "      <td>0.000001</td>\n",
       "      <td>0.757843</td>\n",
       "      <td>0.242157</td>\n",
       "      <td>Multiple Sclerosis</td>\n",
       "      <td>True</td>\n",
       "    </tr>\n",
       "    <tr>\n",
       "      <th>7</th>\n",
       "      <td>0.212321</td>\n",
       "      <td>0.654596</td>\n",
       "      <td>0.096871</td>\n",
       "      <td>0.030274</td>\n",
       "      <td>0.005938</td>\n",
       "      <td>0.444770</td>\n",
       "      <td>0.555230</td>\n",
       "      <td>Multiple myeloma</td>\n",
       "      <td>True</td>\n",
       "    </tr>\n",
       "    <tr>\n",
       "      <th>8</th>\n",
       "      <td>0.179698</td>\n",
       "      <td>0.532498</td>\n",
       "      <td>0.186204</td>\n",
       "      <td>0.058498</td>\n",
       "      <td>0.000000</td>\n",
       "      <td>1.000000</td>\n",
       "      <td>0.000000</td>\n",
       "      <td>Preeclampsia</td>\n",
       "      <td>True</td>\n",
       "    </tr>\n",
       "    <tr>\n",
       "      <th>9</th>\n",
       "      <td>0.146325</td>\n",
       "      <td>0.743832</td>\n",
       "      <td>0.063639</td>\n",
       "      <td>0.020139</td>\n",
       "      <td>0.026065</td>\n",
       "      <td>0.000000</td>\n",
       "      <td>1.000000</td>\n",
       "      <td>Prostate cancer</td>\n",
       "      <td>True</td>\n",
       "    </tr>\n",
       "    <tr>\n",
       "      <th>10</th>\n",
       "      <td>0.112509</td>\n",
       "      <td>0.537439</td>\n",
       "      <td>0.216526</td>\n",
       "      <td>0.047614</td>\n",
       "      <td>0.085912</td>\n",
       "      <td>0.741175</td>\n",
       "      <td>0.232579</td>\n",
       "      <td>Rheumatoid Arthritis</td>\n",
       "      <td>True</td>\n",
       "    </tr>\n",
       "    <tr>\n",
       "      <th>11</th>\n",
       "      <td>0.332334</td>\n",
       "      <td>0.579051</td>\n",
       "      <td>0.080920</td>\n",
       "      <td>0.022468</td>\n",
       "      <td>0.000000</td>\n",
       "      <td>0.630594</td>\n",
       "      <td>0.369406</td>\n",
       "      <td>Sarcoidosis</td>\n",
       "      <td>True</td>\n",
       "    </tr>\n",
       "    <tr>\n",
       "      <th>12</th>\n",
       "      <td>0.380349</td>\n",
       "      <td>0.386750</td>\n",
       "      <td>0.233062</td>\n",
       "      <td>0.021257</td>\n",
       "      <td>0.000000</td>\n",
       "      <td>0.202496</td>\n",
       "      <td>0.797504</td>\n",
       "      <td>Syphilis</td>\n",
       "      <td>True</td>\n",
       "    </tr>\n",
       "    <tr>\n",
       "      <th>13</th>\n",
       "      <td>0.283775</td>\n",
       "      <td>0.481481</td>\n",
       "      <td>0.184532</td>\n",
       "      <td>0.060490</td>\n",
       "      <td>0.000000</td>\n",
       "      <td>0.892395</td>\n",
       "      <td>0.107605</td>\n",
       "      <td>Systemic Lupus Erythematosus</td>\n",
       "      <td>True</td>\n",
       "    </tr>\n",
       "    <tr>\n",
       "      <th>14</th>\n",
       "      <td>0.072957</td>\n",
       "      <td>0.814690</td>\n",
       "      <td>0.056731</td>\n",
       "      <td>0.049032</td>\n",
       "      <td>0.006590</td>\n",
       "      <td>0.869000</td>\n",
       "      <td>0.131000</td>\n",
       "      <td>Takotsubo cardiomyopathy</td>\n",
       "      <td>True</td>\n",
       "    </tr>\n",
       "    <tr>\n",
       "      <th>15</th>\n",
       "      <td>0.157000</td>\n",
       "      <td>0.813000</td>\n",
       "      <td>0.000000</td>\n",
       "      <td>0.000000</td>\n",
       "      <td>0.030000</td>\n",
       "      <td>0.420000</td>\n",
       "      <td>0.580000</td>\n",
       "      <td>Tricuspid Endocarditis</td>\n",
       "      <td>True</td>\n",
       "    </tr>\n",
       "    <tr>\n",
       "      <th>16</th>\n",
       "      <td>0.193817</td>\n",
       "      <td>0.113315</td>\n",
       "      <td>0.291673</td>\n",
       "      <td>0.370862</td>\n",
       "      <td>0.030334</td>\n",
       "      <td>0.388179</td>\n",
       "      <td>0.611821</td>\n",
       "      <td>Tuberculosis</td>\n",
       "      <td>True</td>\n",
       "    </tr>\n",
       "    <tr>\n",
       "      <th>17</th>\n",
       "      <td>0.138858</td>\n",
       "      <td>0.429647</td>\n",
       "      <td>0.231570</td>\n",
       "      <td>0.169336</td>\n",
       "      <td>0.000000</td>\n",
       "      <td>0.464602</td>\n",
       "      <td>0.535398</td>\n",
       "      <td>Type 2 Diabetes Mellitus</td>\n",
       "      <td>True</td>\n",
       "    </tr>\n",
       "  </tbody>\n",
       "</table>\n",
       "</div>"
      ],
      "text/plain": [
       "       Black     White  Hispanic     Asian  Other+N/A    Female      Male  \\\n",
       "0   0.124000  0.538000  0.242000  0.044000   0.052000  0.539000  0.461000   \n",
       "1   0.250000  0.610000  0.030000  0.000000   0.110000  0.490000  0.510000   \n",
       "2   0.155806  0.625877  0.186437  0.051714   0.000000  0.429309  0.570691   \n",
       "3   0.146776  0.536108  0.169642  0.159526   0.000000  0.478312  0.521688   \n",
       "4   0.416576  0.245264  0.285629  0.020087   0.032444  0.189687  0.810313   \n",
       "5   0.303907  0.282279  0.165256  0.289512   0.000000  0.402465  0.605186   \n",
       "6   0.107784  0.775702  0.071772  0.044741   0.000001  0.757843  0.242157   \n",
       "7   0.212321  0.654596  0.096871  0.030274   0.005938  0.444770  0.555230   \n",
       "8   0.179698  0.532498  0.186204  0.058498   0.000000  1.000000  0.000000   \n",
       "9   0.146325  0.743832  0.063639  0.020139   0.026065  0.000000  1.000000   \n",
       "10  0.112509  0.537439  0.216526  0.047614   0.085912  0.741175  0.232579   \n",
       "11  0.332334  0.579051  0.080920  0.022468   0.000000  0.630594  0.369406   \n",
       "12  0.380349  0.386750  0.233062  0.021257   0.000000  0.202496  0.797504   \n",
       "13  0.283775  0.481481  0.184532  0.060490   0.000000  0.892395  0.107605   \n",
       "14  0.072957  0.814690  0.056731  0.049032   0.006590  0.869000  0.131000   \n",
       "15  0.157000  0.813000  0.000000  0.000000   0.030000  0.420000  0.580000   \n",
       "16  0.193817  0.113315  0.291673  0.370862   0.030334  0.388179  0.611821   \n",
       "17  0.138858  0.429647  0.231570  0.169336   0.000000  0.464602  0.535398   \n",
       "\n",
       "                       Condition  Type  \n",
       "0                       COVID-19  True  \n",
       "1            Bacterial Pneumonia  True  \n",
       "2                   Colon cancer  True  \n",
       "3         Essential Hypertension  True  \n",
       "4                       HIV/AIDS  True  \n",
       "5                    Hepatitis B  True  \n",
       "6             Multiple Sclerosis  True  \n",
       "7               Multiple myeloma  True  \n",
       "8                   Preeclampsia  True  \n",
       "9                Prostate cancer  True  \n",
       "10          Rheumatoid Arthritis  True  \n",
       "11                   Sarcoidosis  True  \n",
       "12                      Syphilis  True  \n",
       "13  Systemic Lupus Erythematosus  True  \n",
       "14      Takotsubo cardiomyopathy  True  \n",
       "15        Tricuspid Endocarditis  True  \n",
       "16                  Tuberculosis  True  \n",
       "17      Type 2 Diabetes Mellitus  True  "
      ]
     },
     "execution_count": 73,
     "metadata": {},
     "output_type": "execute_result"
    }
   ],
   "source": [
    "# # Add to true prevalence data to results_df\n",
    "# TRUE_PREVALENCE = [\n",
    "#     [0.042, 0.897, -1., 0.013, 0.0045, 52.5, 0.475, \"Sarcoidosis\"],\n",
    "#     [0.124, 0.538, 0.242, 0.044, 0.051, 0.539, 0.461,  \"COVID-19\"],\n",
    "#     [0.316, 0.592, -1, 0.07, 0.0022, 0.9,  0.10,  \"Systemic Lupus Erythematosus\"],\n",
    "#     [0.042, 0.874, 0.075, 0, 0, 0.476, 0.524,  \"Cystic fibrosis\"],\n",
    "#     [-1, -1, -1, -1, -1, 0.74, 0.26, \"Multiple Sclerosis\"],\n",
    "#     [0.25, 0.61, 0.03, -1, 0, 0.49, 0.51, \"Bacterial Pneumonia\"],\n",
    "#     [0.42, 0.26, 0.27, 0.02, 0.04, 0.12,  0.80,  \"HIV/AIDS\"],\n",
    "#     [0.18, 0.108, 0.306, 0.26, 0.036, 0.387, 0.613, \"Tuberculosis\"],\n",
    "# ]\n",
    "\n",
    "true_df = pd.DataFrame(TRUE_PREVALENCE, columns=column_labels + ['Condition'])\n",
    "\n",
    "new_true_df = true_df.copy()\n",
    "new_true_df[\"Type\"] = \"True\"\n",
    "\n",
    "new_true_df"
   ]
  },
  {
   "cell_type": "code",
   "execution_count": 74,
   "metadata": {},
   "outputs": [
    {
     "data": {
      "text/html": [
       "<div>\n",
       "<style scoped>\n",
       "    .dataframe tbody tr th:only-of-type {\n",
       "        vertical-align: middle;\n",
       "    }\n",
       "\n",
       "    .dataframe tbody tr th {\n",
       "        vertical-align: top;\n",
       "    }\n",
       "\n",
       "    .dataframe thead th {\n",
       "        text-align: right;\n",
       "    }\n",
       "</style>\n",
       "<table border=\"1\" class=\"dataframe\">\n",
       "  <thead>\n",
       "    <tr style=\"text-align: right;\">\n",
       "      <th></th>\n",
       "      <th>Black</th>\n",
       "      <th>White</th>\n",
       "      <th>Hispanic</th>\n",
       "      <th>Asian</th>\n",
       "      <th>Other+N/A</th>\n",
       "      <th>Female</th>\n",
       "      <th>Male</th>\n",
       "      <th>Condition</th>\n",
       "      <th>Type</th>\n",
       "    </tr>\n",
       "  </thead>\n",
       "  <tbody>\n",
       "    <tr>\n",
       "      <th>0</th>\n",
       "      <td>0.880000</td>\n",
       "      <td>0.060000</td>\n",
       "      <td>0.060000</td>\n",
       "      <td>0.000000</td>\n",
       "      <td>0.000000</td>\n",
       "      <td>0.300000</td>\n",
       "      <td>0.700000</td>\n",
       "      <td>Essential Hypertension</td>\n",
       "      <td>Estimated</td>\n",
       "    </tr>\n",
       "    <tr>\n",
       "      <th>1</th>\n",
       "      <td>0.560000</td>\n",
       "      <td>0.060000</td>\n",
       "      <td>0.320000</td>\n",
       "      <td>0.000000</td>\n",
       "      <td>0.060000</td>\n",
       "      <td>0.660000</td>\n",
       "      <td>0.320000</td>\n",
       "      <td>Type 2 Diabetes Mellitus</td>\n",
       "      <td>Estimated</td>\n",
       "    </tr>\n",
       "    <tr>\n",
       "      <th>2</th>\n",
       "      <td>0.140000</td>\n",
       "      <td>0.640000</td>\n",
       "      <td>0.080000</td>\n",
       "      <td>0.020000</td>\n",
       "      <td>0.120000</td>\n",
       "      <td>0.460000</td>\n",
       "      <td>0.520000</td>\n",
       "      <td>Bacterial Pneumonia</td>\n",
       "      <td>Estimated</td>\n",
       "    </tr>\n",
       "    <tr>\n",
       "      <th>3</th>\n",
       "      <td>0.260000</td>\n",
       "      <td>0.500000</td>\n",
       "      <td>0.160000</td>\n",
       "      <td>0.020000</td>\n",
       "      <td>0.060000</td>\n",
       "      <td>0.520000</td>\n",
       "      <td>0.480000</td>\n",
       "      <td>COVID-19</td>\n",
       "      <td>Estimated</td>\n",
       "    </tr>\n",
       "    <tr>\n",
       "      <th>4</th>\n",
       "      <td>0.140000</td>\n",
       "      <td>0.740000</td>\n",
       "      <td>0.020000</td>\n",
       "      <td>0.040000</td>\n",
       "      <td>0.060000</td>\n",
       "      <td>0.160000</td>\n",
       "      <td>0.840000</td>\n",
       "      <td>Colon cancer</td>\n",
       "      <td>Estimated</td>\n",
       "    </tr>\n",
       "    <tr>\n",
       "      <th>5</th>\n",
       "      <td>0.860000</td>\n",
       "      <td>0.100000</td>\n",
       "      <td>0.000000</td>\n",
       "      <td>0.020000</td>\n",
       "      <td>0.020000</td>\n",
       "      <td>0.000000</td>\n",
       "      <td>1.000000</td>\n",
       "      <td>Prostate cancer</td>\n",
       "      <td>Estimated</td>\n",
       "    </tr>\n",
       "    <tr>\n",
       "      <th>6</th>\n",
       "      <td>0.660000</td>\n",
       "      <td>0.220000</td>\n",
       "      <td>0.000000</td>\n",
       "      <td>0.020000</td>\n",
       "      <td>0.100000</td>\n",
       "      <td>0.220000</td>\n",
       "      <td>0.780000</td>\n",
       "      <td>Multiple myeloma</td>\n",
       "      <td>Estimated</td>\n",
       "    </tr>\n",
       "    <tr>\n",
       "      <th>7</th>\n",
       "      <td>0.080000</td>\n",
       "      <td>0.820000</td>\n",
       "      <td>0.020000</td>\n",
       "      <td>0.000000</td>\n",
       "      <td>0.080000</td>\n",
       "      <td>1.000000</td>\n",
       "      <td>0.000000</td>\n",
       "      <td>Rheumatoid Arthritis</td>\n",
       "      <td>Estimated</td>\n",
       "    </tr>\n",
       "    <tr>\n",
       "      <th>8</th>\n",
       "      <td>0.040000</td>\n",
       "      <td>0.820000</td>\n",
       "      <td>0.040000</td>\n",
       "      <td>0.020000</td>\n",
       "      <td>0.080000</td>\n",
       "      <td>1.000000</td>\n",
       "      <td>0.000000</td>\n",
       "      <td>Multiple Sclerosis</td>\n",
       "      <td>Estimated</td>\n",
       "    </tr>\n",
       "    <tr>\n",
       "      <th>9</th>\n",
       "      <td>0.780000</td>\n",
       "      <td>0.060000</td>\n",
       "      <td>0.040000</td>\n",
       "      <td>0.020000</td>\n",
       "      <td>0.100000</td>\n",
       "      <td>0.080000</td>\n",
       "      <td>0.920000</td>\n",
       "      <td>HIV/AIDS</td>\n",
       "      <td>Estimated</td>\n",
       "    </tr>\n",
       "    <tr>\n",
       "      <th>10</th>\n",
       "      <td>0.400000</td>\n",
       "      <td>0.300000</td>\n",
       "      <td>0.020000</td>\n",
       "      <td>0.020000</td>\n",
       "      <td>0.260000</td>\n",
       "      <td>0.120000</td>\n",
       "      <td>0.880000</td>\n",
       "      <td>Syphilis</td>\n",
       "      <td>Estimated</td>\n",
       "    </tr>\n",
       "    <tr>\n",
       "      <th>11</th>\n",
       "      <td>0.160000</td>\n",
       "      <td>0.460000</td>\n",
       "      <td>0.060000</td>\n",
       "      <td>0.000000</td>\n",
       "      <td>0.320000</td>\n",
       "      <td>0.340000</td>\n",
       "      <td>0.660000</td>\n",
       "      <td>Tricuspid Endocarditis</td>\n",
       "      <td>Estimated</td>\n",
       "    </tr>\n",
       "    <tr>\n",
       "      <th>12</th>\n",
       "      <td>0.400000</td>\n",
       "      <td>0.140000</td>\n",
       "      <td>0.040000</td>\n",
       "      <td>0.020000</td>\n",
       "      <td>0.400000</td>\n",
       "      <td>1.000000</td>\n",
       "      <td>0.000000</td>\n",
       "      <td>Preeclampsia</td>\n",
       "      <td>Estimated</td>\n",
       "    </tr>\n",
       "    <tr>\n",
       "      <th>13</th>\n",
       "      <td>0.140000</td>\n",
       "      <td>0.000000</td>\n",
       "      <td>0.500000</td>\n",
       "      <td>0.120000</td>\n",
       "      <td>0.240000</td>\n",
       "      <td>0.260000</td>\n",
       "      <td>0.740000</td>\n",
       "      <td>Tuberculosis</td>\n",
       "      <td>Estimated</td>\n",
       "    </tr>\n",
       "    <tr>\n",
       "      <th>14</th>\n",
       "      <td>0.740000</td>\n",
       "      <td>0.020000</td>\n",
       "      <td>0.060000</td>\n",
       "      <td>0.060000</td>\n",
       "      <td>0.120000</td>\n",
       "      <td>1.000000</td>\n",
       "      <td>0.000000</td>\n",
       "      <td>Systemic Lupus Erythematosus</td>\n",
       "      <td>Estimated</td>\n",
       "    </tr>\n",
       "    <tr>\n",
       "      <th>15</th>\n",
       "      <td>0.980000</td>\n",
       "      <td>0.000000</td>\n",
       "      <td>0.020000</td>\n",
       "      <td>0.000000</td>\n",
       "      <td>0.000000</td>\n",
       "      <td>1.000000</td>\n",
       "      <td>0.000000</td>\n",
       "      <td>Sarcoidosis</td>\n",
       "      <td>Estimated</td>\n",
       "    </tr>\n",
       "    <tr>\n",
       "      <th>16</th>\n",
       "      <td>0.020000</td>\n",
       "      <td>0.760000</td>\n",
       "      <td>0.000000</td>\n",
       "      <td>0.020000</td>\n",
       "      <td>0.200000</td>\n",
       "      <td>0.960000</td>\n",
       "      <td>0.000000</td>\n",
       "      <td>Takotsubo cardiomyopathy</td>\n",
       "      <td>Estimated</td>\n",
       "    </tr>\n",
       "    <tr>\n",
       "      <th>17</th>\n",
       "      <td>0.020000</td>\n",
       "      <td>0.080000</td>\n",
       "      <td>0.000000</td>\n",
       "      <td>0.900000</td>\n",
       "      <td>0.000000</td>\n",
       "      <td>0.020000</td>\n",
       "      <td>0.980000</td>\n",
       "      <td>Hepatitis B</td>\n",
       "      <td>Estimated</td>\n",
       "    </tr>\n",
       "    <tr>\n",
       "      <th>0</th>\n",
       "      <td>0.124000</td>\n",
       "      <td>0.538000</td>\n",
       "      <td>0.242000</td>\n",
       "      <td>0.044000</td>\n",
       "      <td>0.052000</td>\n",
       "      <td>0.539000</td>\n",
       "      <td>0.461000</td>\n",
       "      <td>COVID-19</td>\n",
       "      <td>True</td>\n",
       "    </tr>\n",
       "    <tr>\n",
       "      <th>1</th>\n",
       "      <td>0.250000</td>\n",
       "      <td>0.610000</td>\n",
       "      <td>0.030000</td>\n",
       "      <td>0.000000</td>\n",
       "      <td>0.110000</td>\n",
       "      <td>0.490000</td>\n",
       "      <td>0.510000</td>\n",
       "      <td>Bacterial Pneumonia</td>\n",
       "      <td>True</td>\n",
       "    </tr>\n",
       "    <tr>\n",
       "      <th>2</th>\n",
       "      <td>0.155806</td>\n",
       "      <td>0.625877</td>\n",
       "      <td>0.186437</td>\n",
       "      <td>0.051714</td>\n",
       "      <td>0.000000</td>\n",
       "      <td>0.429309</td>\n",
       "      <td>0.570691</td>\n",
       "      <td>Colon cancer</td>\n",
       "      <td>True</td>\n",
       "    </tr>\n",
       "    <tr>\n",
       "      <th>3</th>\n",
       "      <td>0.146776</td>\n",
       "      <td>0.536108</td>\n",
       "      <td>0.169642</td>\n",
       "      <td>0.159526</td>\n",
       "      <td>0.000000</td>\n",
       "      <td>0.478312</td>\n",
       "      <td>0.521688</td>\n",
       "      <td>Essential Hypertension</td>\n",
       "      <td>True</td>\n",
       "    </tr>\n",
       "    <tr>\n",
       "      <th>4</th>\n",
       "      <td>0.416576</td>\n",
       "      <td>0.245264</td>\n",
       "      <td>0.285629</td>\n",
       "      <td>0.020087</td>\n",
       "      <td>0.032444</td>\n",
       "      <td>0.189687</td>\n",
       "      <td>0.810313</td>\n",
       "      <td>HIV/AIDS</td>\n",
       "      <td>True</td>\n",
       "    </tr>\n",
       "    <tr>\n",
       "      <th>5</th>\n",
       "      <td>0.303907</td>\n",
       "      <td>0.282279</td>\n",
       "      <td>0.165256</td>\n",
       "      <td>0.289512</td>\n",
       "      <td>0.000000</td>\n",
       "      <td>0.402465</td>\n",
       "      <td>0.605186</td>\n",
       "      <td>Hepatitis B</td>\n",
       "      <td>True</td>\n",
       "    </tr>\n",
       "    <tr>\n",
       "      <th>6</th>\n",
       "      <td>0.107784</td>\n",
       "      <td>0.775702</td>\n",
       "      <td>0.071772</td>\n",
       "      <td>0.044741</td>\n",
       "      <td>0.000001</td>\n",
       "      <td>0.757843</td>\n",
       "      <td>0.242157</td>\n",
       "      <td>Multiple Sclerosis</td>\n",
       "      <td>True</td>\n",
       "    </tr>\n",
       "    <tr>\n",
       "      <th>7</th>\n",
       "      <td>0.212321</td>\n",
       "      <td>0.654596</td>\n",
       "      <td>0.096871</td>\n",
       "      <td>0.030274</td>\n",
       "      <td>0.005938</td>\n",
       "      <td>0.444770</td>\n",
       "      <td>0.555230</td>\n",
       "      <td>Multiple myeloma</td>\n",
       "      <td>True</td>\n",
       "    </tr>\n",
       "    <tr>\n",
       "      <th>8</th>\n",
       "      <td>0.179698</td>\n",
       "      <td>0.532498</td>\n",
       "      <td>0.186204</td>\n",
       "      <td>0.058498</td>\n",
       "      <td>0.000000</td>\n",
       "      <td>1.000000</td>\n",
       "      <td>0.000000</td>\n",
       "      <td>Preeclampsia</td>\n",
       "      <td>True</td>\n",
       "    </tr>\n",
       "    <tr>\n",
       "      <th>9</th>\n",
       "      <td>0.146325</td>\n",
       "      <td>0.743832</td>\n",
       "      <td>0.063639</td>\n",
       "      <td>0.020139</td>\n",
       "      <td>0.026065</td>\n",
       "      <td>0.000000</td>\n",
       "      <td>1.000000</td>\n",
       "      <td>Prostate cancer</td>\n",
       "      <td>True</td>\n",
       "    </tr>\n",
       "    <tr>\n",
       "      <th>10</th>\n",
       "      <td>0.112509</td>\n",
       "      <td>0.537439</td>\n",
       "      <td>0.216526</td>\n",
       "      <td>0.047614</td>\n",
       "      <td>0.085912</td>\n",
       "      <td>0.741175</td>\n",
       "      <td>0.232579</td>\n",
       "      <td>Rheumatoid Arthritis</td>\n",
       "      <td>True</td>\n",
       "    </tr>\n",
       "    <tr>\n",
       "      <th>11</th>\n",
       "      <td>0.332334</td>\n",
       "      <td>0.579051</td>\n",
       "      <td>0.080920</td>\n",
       "      <td>0.022468</td>\n",
       "      <td>0.000000</td>\n",
       "      <td>0.630594</td>\n",
       "      <td>0.369406</td>\n",
       "      <td>Sarcoidosis</td>\n",
       "      <td>True</td>\n",
       "    </tr>\n",
       "    <tr>\n",
       "      <th>12</th>\n",
       "      <td>0.380349</td>\n",
       "      <td>0.386750</td>\n",
       "      <td>0.233062</td>\n",
       "      <td>0.021257</td>\n",
       "      <td>0.000000</td>\n",
       "      <td>0.202496</td>\n",
       "      <td>0.797504</td>\n",
       "      <td>Syphilis</td>\n",
       "      <td>True</td>\n",
       "    </tr>\n",
       "    <tr>\n",
       "      <th>13</th>\n",
       "      <td>0.283775</td>\n",
       "      <td>0.481481</td>\n",
       "      <td>0.184532</td>\n",
       "      <td>0.060490</td>\n",
       "      <td>0.000000</td>\n",
       "      <td>0.892395</td>\n",
       "      <td>0.107605</td>\n",
       "      <td>Systemic Lupus Erythematosus</td>\n",
       "      <td>True</td>\n",
       "    </tr>\n",
       "    <tr>\n",
       "      <th>14</th>\n",
       "      <td>0.072957</td>\n",
       "      <td>0.814690</td>\n",
       "      <td>0.056731</td>\n",
       "      <td>0.049032</td>\n",
       "      <td>0.006590</td>\n",
       "      <td>0.869000</td>\n",
       "      <td>0.131000</td>\n",
       "      <td>Takotsubo cardiomyopathy</td>\n",
       "      <td>True</td>\n",
       "    </tr>\n",
       "    <tr>\n",
       "      <th>15</th>\n",
       "      <td>0.157000</td>\n",
       "      <td>0.813000</td>\n",
       "      <td>0.000000</td>\n",
       "      <td>0.000000</td>\n",
       "      <td>0.030000</td>\n",
       "      <td>0.420000</td>\n",
       "      <td>0.580000</td>\n",
       "      <td>Tricuspid Endocarditis</td>\n",
       "      <td>True</td>\n",
       "    </tr>\n",
       "    <tr>\n",
       "      <th>16</th>\n",
       "      <td>0.193817</td>\n",
       "      <td>0.113315</td>\n",
       "      <td>0.291673</td>\n",
       "      <td>0.370862</td>\n",
       "      <td>0.030334</td>\n",
       "      <td>0.388179</td>\n",
       "      <td>0.611821</td>\n",
       "      <td>Tuberculosis</td>\n",
       "      <td>True</td>\n",
       "    </tr>\n",
       "    <tr>\n",
       "      <th>17</th>\n",
       "      <td>0.138858</td>\n",
       "      <td>0.429647</td>\n",
       "      <td>0.231570</td>\n",
       "      <td>0.169336</td>\n",
       "      <td>0.000000</td>\n",
       "      <td>0.464602</td>\n",
       "      <td>0.535398</td>\n",
       "      <td>Type 2 Diabetes Mellitus</td>\n",
       "      <td>True</td>\n",
       "    </tr>\n",
       "  </tbody>\n",
       "</table>\n",
       "</div>"
      ],
      "text/plain": [
       "       Black     White  Hispanic     Asian  Other+N/A    Female      Male  \\\n",
       "0   0.880000  0.060000  0.060000  0.000000   0.000000  0.300000  0.700000   \n",
       "1   0.560000  0.060000  0.320000  0.000000   0.060000  0.660000  0.320000   \n",
       "2   0.140000  0.640000  0.080000  0.020000   0.120000  0.460000  0.520000   \n",
       "3   0.260000  0.500000  0.160000  0.020000   0.060000  0.520000  0.480000   \n",
       "4   0.140000  0.740000  0.020000  0.040000   0.060000  0.160000  0.840000   \n",
       "5   0.860000  0.100000  0.000000  0.020000   0.020000  0.000000  1.000000   \n",
       "6   0.660000  0.220000  0.000000  0.020000   0.100000  0.220000  0.780000   \n",
       "7   0.080000  0.820000  0.020000  0.000000   0.080000  1.000000  0.000000   \n",
       "8   0.040000  0.820000  0.040000  0.020000   0.080000  1.000000  0.000000   \n",
       "9   0.780000  0.060000  0.040000  0.020000   0.100000  0.080000  0.920000   \n",
       "10  0.400000  0.300000  0.020000  0.020000   0.260000  0.120000  0.880000   \n",
       "11  0.160000  0.460000  0.060000  0.000000   0.320000  0.340000  0.660000   \n",
       "12  0.400000  0.140000  0.040000  0.020000   0.400000  1.000000  0.000000   \n",
       "13  0.140000  0.000000  0.500000  0.120000   0.240000  0.260000  0.740000   \n",
       "14  0.740000  0.020000  0.060000  0.060000   0.120000  1.000000  0.000000   \n",
       "15  0.980000  0.000000  0.020000  0.000000   0.000000  1.000000  0.000000   \n",
       "16  0.020000  0.760000  0.000000  0.020000   0.200000  0.960000  0.000000   \n",
       "17  0.020000  0.080000  0.000000  0.900000   0.000000  0.020000  0.980000   \n",
       "0   0.124000  0.538000  0.242000  0.044000   0.052000  0.539000  0.461000   \n",
       "1   0.250000  0.610000  0.030000  0.000000   0.110000  0.490000  0.510000   \n",
       "2   0.155806  0.625877  0.186437  0.051714   0.000000  0.429309  0.570691   \n",
       "3   0.146776  0.536108  0.169642  0.159526   0.000000  0.478312  0.521688   \n",
       "4   0.416576  0.245264  0.285629  0.020087   0.032444  0.189687  0.810313   \n",
       "5   0.303907  0.282279  0.165256  0.289512   0.000000  0.402465  0.605186   \n",
       "6   0.107784  0.775702  0.071772  0.044741   0.000001  0.757843  0.242157   \n",
       "7   0.212321  0.654596  0.096871  0.030274   0.005938  0.444770  0.555230   \n",
       "8   0.179698  0.532498  0.186204  0.058498   0.000000  1.000000  0.000000   \n",
       "9   0.146325  0.743832  0.063639  0.020139   0.026065  0.000000  1.000000   \n",
       "10  0.112509  0.537439  0.216526  0.047614   0.085912  0.741175  0.232579   \n",
       "11  0.332334  0.579051  0.080920  0.022468   0.000000  0.630594  0.369406   \n",
       "12  0.380349  0.386750  0.233062  0.021257   0.000000  0.202496  0.797504   \n",
       "13  0.283775  0.481481  0.184532  0.060490   0.000000  0.892395  0.107605   \n",
       "14  0.072957  0.814690  0.056731  0.049032   0.006590  0.869000  0.131000   \n",
       "15  0.157000  0.813000  0.000000  0.000000   0.030000  0.420000  0.580000   \n",
       "16  0.193817  0.113315  0.291673  0.370862   0.030334  0.388179  0.611821   \n",
       "17  0.138858  0.429647  0.231570  0.169336   0.000000  0.464602  0.535398   \n",
       "\n",
       "                       Condition       Type  \n",
       "0         Essential Hypertension  Estimated  \n",
       "1       Type 2 Diabetes Mellitus  Estimated  \n",
       "2            Bacterial Pneumonia  Estimated  \n",
       "3                       COVID-19  Estimated  \n",
       "4                   Colon cancer  Estimated  \n",
       "5                Prostate cancer  Estimated  \n",
       "6               Multiple myeloma  Estimated  \n",
       "7           Rheumatoid Arthritis  Estimated  \n",
       "8             Multiple Sclerosis  Estimated  \n",
       "9                       HIV/AIDS  Estimated  \n",
       "10                      Syphilis  Estimated  \n",
       "11        Tricuspid Endocarditis  Estimated  \n",
       "12                  Preeclampsia  Estimated  \n",
       "13                  Tuberculosis  Estimated  \n",
       "14  Systemic Lupus Erythematosus  Estimated  \n",
       "15                   Sarcoidosis  Estimated  \n",
       "16      Takotsubo cardiomyopathy  Estimated  \n",
       "17                   Hepatitis B  Estimated  \n",
       "0                       COVID-19       True  \n",
       "1            Bacterial Pneumonia       True  \n",
       "2                   Colon cancer       True  \n",
       "3         Essential Hypertension       True  \n",
       "4                       HIV/AIDS       True  \n",
       "5                    Hepatitis B       True  \n",
       "6             Multiple Sclerosis       True  \n",
       "7               Multiple myeloma       True  \n",
       "8                   Preeclampsia       True  \n",
       "9                Prostate cancer       True  \n",
       "10          Rheumatoid Arthritis       True  \n",
       "11                   Sarcoidosis       True  \n",
       "12                      Syphilis       True  \n",
       "13  Systemic Lupus Erythematosus       True  \n",
       "14      Takotsubo cardiomyopathy       True  \n",
       "15        Tricuspid Endocarditis       True  \n",
       "16                  Tuberculosis       True  \n",
       "17      Type 2 Diabetes Mellitus       True  "
      ]
     },
     "execution_count": 74,
     "metadata": {},
     "output_type": "execute_result"
    }
   ],
   "source": [
    "new_final_df = pd.concat([new_results_df, new_true_df])\n",
    "# Delete the rows with Condition == Urinary tract infection\n",
    "new_final_df"
   ]
  },
  {
   "cell_type": "code",
   "execution_count": 75,
   "metadata": {},
   "outputs": [],
   "source": [
    "# Print with two decimal places\n",
    "# print(new_final_df.to_latex(index=False, float_format=\"%.2f\"))"
   ]
  },
  {
   "cell_type": "code",
   "execution_count": 76,
   "metadata": {},
   "outputs": [
    {
     "data": {
      "image/png": "[encoded data removed]",
      "text/plain": [
       "<Figure size 1400x800 with 7 Axes>"
      ]
     },
     "metadata": {},
     "output_type": "display_data"
    }
   ],
   "source": [
    "# plt.figure(figsize=(15,8))\n",
    "\n",
    "# Make the PairGrid and use markers=[\"o\", \"D\"] for different Type values\n",
    "g = sns.PairGrid(new_final_df.sort_values(\"Black\", ascending=False),\n",
    "                 x_vars=column_labels, y_vars=[\"Condition\"],\n",
    "                 height=8, aspect=.25, hue='Type')\n",
    "\n",
    "\n",
    "# color = sns.xkcd_rgb['dusty blue']\n",
    "# g.map(sns.barplot, color=color, alpha=0.75)\n",
    "\n",
    "\n",
    "# Draw a dot plot using the stripplot function\n",
    "g.map(sns.stripplot, size=10, orient=\"h\", jitter=False,\n",
    "        palette=\"flare_r\", linewidth=1, edgecolor=\"w\")\n",
    "\n",
    "\n",
    "# Use the same x axis limits on all columns and add better labels\n",
    "g.set(xlim=(-0.05, 1.05), xlabel=\"Probability\", ylabel=\"\")\n",
    "\n",
    "# Use semantically meaningful titles for the columns\n",
    "titles = results_df.columns[0:7]\n",
    "\n",
    "for ax, title in zip(g.axes.flat, titles):\n",
    "        \n",
    "        # Set a different title for each axes and bold it\n",
    "        ax.set(title=title)\n",
    "\n",
    "        # Make the grid horizontal instead of vertical\n",
    "        ax.xaxis.grid(False)\n",
    "        ax.yaxis.grid(True)\n",
    "\n",
    "sns.despine(left=True, bottom=True)\n",
    "\n",
    "plt.tight_layout()\n",
    "\n",
    "# Save the figure\n",
    "plt.savefig('New GPT-4 Results with PairGrid - Black Descending - v3.pdf', bbox_inches='tight')"
   ]
  },
  {
   "cell_type": "code",
   "execution_count": 77,
   "metadata": {},
   "outputs": [
    {
     "data": {
      "text/plain": [
       "['Black', 'White', 'Hispanic', 'Asian', 'Other+N/A', 'Female', 'Male']"
      ]
     },
     "execution_count": 77,
     "metadata": {},
     "output_type": "execute_result"
    }
   ],
   "source": [
    "cat_descending_df = new_results_df.sort_values(\"Black\", ascending=True)\n",
    "cat_descending_df_conditions = cat_descending_df['Condition'].tolist()\n",
    "cat_descending_df.columns.tolist()[:7]"
   ]
  },
  {
   "cell_type": "code",
   "execution_count": 78,
   "metadata": {},
   "outputs": [],
   "source": [
    "# true_rates"
   ]
  },
  {
   "cell_type": "code",
   "execution_count": 79,
   "metadata": {},
   "outputs": [
    {
     "data": {
      "application/vnd.plotly.v1+json": {
       "config": {
        "plotlyServerURL": "https://plot.ly"
       },
       "data": [
        {
         "line": {
          "color": "lightgrey",
          "width": 4
         },
         "mode": "lines",
         "showlegend": false,
         "type": "scatter",
         "x": [
          0.3039069767,
          0.02
         ],
         "xaxis": "x",
         "y": [
          "Hepatitis B",
          "Hepatitis B"
         ],
         "yaxis": "y"
        },
        {
         "line": {
          "color": "lightgrey",
          "width": 4
         },
         "mode": "lines",
         "showlegend": false,
         "type": "scatter",
         "x": [
          0.07295700391,
          0.02
         ],
         "xaxis": "x",
         "y": [
          "Takotsubo cardiomyopathy",
          "Takotsubo cardiomyopathy"
         ],
         "yaxis": "y"
        },
        {
         "line": {
          "color": "lightgrey",
          "width": 4
         },
         "mode": "lines",
         "showlegend": false,
         "type": "scatter",
         "x": [
          0.10778379599999999,
          0.04
         ],
         "xaxis": "x",
         "y": [
          "Multiple Sclerosis",
          "Multiple Sclerosis"
         ],
         "yaxis": "y"
        },
        {
         "line": {
          "color": "lightgrey",
          "width": 4
         },
         "mode": "lines",
         "showlegend": false,
         "type": "scatter",
         "x": [
          0.11250877190000001,
          0.08
         ],
         "xaxis": "x",
         "y": [
          "Rheumatoid Arthritis",
          "Rheumatoid Arthritis"
         ],
         "yaxis": "y"
        },
        {
         "line": {
          "color": "lightgrey",
          "width": 4
         },
         "mode": "lines",
         "showlegend": false,
         "type": "scatter",
         "x": [
          0.1558057229,
          0.14
         ],
         "xaxis": "x",
         "y": [
          "Colon cancer",
          "Colon cancer"
         ],
         "yaxis": "y"
        },
        {
         "line": {
          "color": "lightgrey",
          "width": 4
         },
         "mode": "lines",
         "showlegend": false,
         "type": "scatter",
         "x": [
          0.1938165378,
          0.14
         ],
         "xaxis": "x",
         "y": [
          "Tuberculosis",
          "Tuberculosis"
         ],
         "yaxis": "y"
        },
        {
         "line": {
          "color": "lightgrey",
          "width": 4
         },
         "mode": "lines",
         "showlegend": false,
         "type": "scatter",
         "x": [
          0.25,
          0.14
         ],
         "xaxis": "x",
         "y": [
          "Bacterial Pneumonia",
          "Bacterial Pneumonia"
         ],
         "yaxis": "y"
        },
        {
         "line": {
          "color": "lightgrey",
          "width": 4
         },
         "mode": "lines",
         "showlegend": false,
         "type": "scatter",
         "x": [
          0.157,
          0.16
         ],
         "xaxis": "x",
         "y": [
          "Tricuspid Endocarditis",
          "Tricuspid Endocarditis"
         ],
         "yaxis": "y"
        },
        {
         "line": {
          "color": "lightgrey",
          "width": 4
         },
         "mode": "lines",
         "showlegend": false,
         "type": "scatter",
         "x": [
          0.124,
          0.26
         ],
         "xaxis": "x",
         "y": [
          " COVID-19",
          " COVID-19"
         ],
         "yaxis": "y"
        },
        {
         "line": {
          "color": "lightgrey",
          "width": 4
         },
         "mode": "lines",
         "showlegend": false,
         "type": "scatter",
         "x": [
          0.3803492647,
          0.4
         ],
         "xaxis": "x",
         "y": [
          "Syphilis",
          "Syphilis"
         ],
         "yaxis": "y"
        },
        {
         "line": {
          "color": "lightgrey",
          "width": 4
         },
         "mode": "lines",
         "showlegend": false,
         "type": "scatter",
         "x": [
          0.1796978723,
          0.4
         ],
         "xaxis": "x",
         "y": [
          "Preeclampsia",
          "Preeclampsia"
         ],
         "yaxis": "y"
        },
        {
         "line": {
          "color": "lightgrey",
          "width": 4
         },
         "mode": "lines",
         "showlegend": false,
         "type": "scatter",
         "x": [
          0.13885817649999999,
          0.56
         ],
         "xaxis": "x",
         "y": [
          "Type 2 Diabetes Mellitus",
          "Type 2 Diabetes Mellitus"
         ],
         "yaxis": "y"
        },
        {
         "line": {
          "color": "lightgrey",
          "width": 4
         },
         "mode": "lines",
         "showlegend": false,
         "type": "scatter",
         "x": [
          0.2123210318,
          0.66
         ],
         "xaxis": "x",
         "y": [
          "Multiple myeloma",
          "Multiple myeloma"
         ],
         "yaxis": "y"
        },
        {
         "line": {
          "color": "lightgrey",
          "width": 4
         },
         "mode": "lines",
         "showlegend": false,
         "type": "scatter",
         "x": [
          0.283775471,
          0.74
         ],
         "xaxis": "x",
         "y": [
          "Systemic Lupus Erythematosus",
          "Systemic Lupus Erythematosus"
         ],
         "yaxis": "y"
        },
        {
         "line": {
          "color": "lightgrey",
          "width": 4
         },
         "mode": "lines",
         "showlegend": false,
         "type": "scatter",
         "x": [
          0.416575939,
          0.78
         ],
         "xaxis": "x",
         "y": [
          "HIV/AIDS",
          "HIV/AIDS"
         ],
         "yaxis": "y"
        },
        {
         "line": {
          "color": "lightgrey",
          "width": 4
         },
         "mode": "lines",
         "showlegend": false,
         "type": "scatter",
         "x": [
          0.1463248915,
          0.86
         ],
         "xaxis": "x",
         "y": [
          "Prostate cancer",
          "Prostate cancer"
         ],
         "yaxis": "y"
        },
        {
         "line": {
          "color": "lightgrey",
          "width": 4
         },
         "mode": "lines",
         "showlegend": false,
         "type": "scatter",
         "x": [
          0.146775707,
          0.88
         ],
         "xaxis": "x",
         "y": [
          "Essential Hypertension",
          "Essential Hypertension"
         ],
         "yaxis": "y"
        },
        {
         "line": {
          "color": "lightgrey",
          "width": 4
         },
         "mode": "lines",
         "showlegend": false,
         "type": "scatter",
         "x": [
          0.3323344444,
          0.98
         ],
         "xaxis": "x",
         "y": [
          "Sarcoidosis",
          "Sarcoidosis"
         ],
         "yaxis": "y"
        },
        {
         "marker": {
          "color": "crimson",
          "size": 12,
          "symbol": "diamond"
         },
         "mode": "markers",
         "name": "True",
         "showlegend": true,
         "type": "scatter",
         "x": [
          0.3039069767,
          0.07295700391,
          0.10778379599999999,
          0.11250877190000001,
          0.1558057229,
          0.1938165378,
          0.25,
          0.157,
          0.124,
          0.3803492647,
          0.1796978723,
          0.13885817649999999,
          0.2123210318,
          0.283775471,
          0.416575939,
          0.1463248915,
          0.146775707,
          0.3323344444
         ],
         "xaxis": "x",
         "y": [
          "Hepatitis B",
          "Takotsubo cardiomyopathy",
          "Multiple Sclerosis",
          "Rheumatoid Arthritis",
          "Colon cancer",
          "Tuberculosis",
          "Bacterial Pneumonia",
          "Tricuspid Endocarditis",
          " COVID-19",
          "Syphilis",
          "Preeclampsia",
          "Type 2 Diabetes Mellitus",
          "Multiple myeloma",
          "Systemic Lupus Erythematosus",
          "HIV/AIDS",
          "Prostate cancer",
          "Essential Hypertension",
          "Sarcoidosis"
         ],
         "yaxis": "y"
        },
        {
         "marker": {
          "color": "gold",
          "size": 12,
          "symbol": "circle"
         },
         "mode": "markers",
         "name": "GPT-4 Estimated",
         "showlegend": true,
         "type": "scatter",
         "x": [
          0.02,
          0.02,
          0.04,
          0.08,
          0.14,
          0.14,
          0.14,
          0.16,
          0.26,
          0.4,
          0.4,
          0.56,
          0.66,
          0.74,
          0.78,
          0.86,
          0.88,
          0.98
         ],
         "xaxis": "x",
         "y": [
          "Hepatitis B",
          "Takotsubo cardiomyopathy",
          "Multiple Sclerosis",
          "Rheumatoid Arthritis",
          "Colon cancer",
          "Tuberculosis",
          "Bacterial Pneumonia",
          "Tricuspid Endocarditis",
          " COVID-19",
          "Syphilis",
          "Preeclampsia",
          "Type 2 Diabetes Mellitus",
          "Multiple myeloma",
          "Systemic Lupus Erythematosus",
          "HIV/AIDS",
          "Prostate cancer",
          "Essential Hypertension",
          "Sarcoidosis"
         ],
         "yaxis": "y"
        },
        {
         "line": {
          "color": "lightgrey",
          "width": 4
         },
         "mode": "lines",
         "showlegend": false,
         "type": "scatter",
         "x": [
          0.2822790698,
          0.08
         ],
         "xaxis": "x2",
         "y": [
          "Hepatitis B",
          "Hepatitis B"
         ],
         "yaxis": "y2"
        },
        {
         "line": {
          "color": "lightgrey",
          "width": 4
         },
         "mode": "lines",
         "showlegend": false,
         "type": "scatter",
         "x": [
          0.8146895737,
          0.76
         ],
         "xaxis": "x2",
         "y": [
          "Takotsubo cardiomyopathy",
          "Takotsubo cardiomyopathy"
         ],
         "yaxis": "y2"
        },
        {
         "line": {
          "color": "lightgrey",
          "width": 4
         },
         "mode": "lines",
         "showlegend": false,
         "type": "scatter",
         "x": [
          0.7757022899,
          0.82
         ],
         "xaxis": "x2",
         "y": [
          "Multiple Sclerosis",
          "Multiple Sclerosis"
         ],
         "yaxis": "y2"
        },
        {
         "line": {
          "color": "lightgrey",
          "width": 4
         },
         "mode": "lines",
         "showlegend": false,
         "type": "scatter",
         "x": [
          0.5374385964999999,
          0.82
         ],
         "xaxis": "x2",
         "y": [
          "Rheumatoid Arthritis",
          "Rheumatoid Arthritis"
         ],
         "yaxis": "y2"
        },
        {
         "line": {
          "color": "lightgrey",
          "width": 4
         },
         "mode": "lines",
         "showlegend": false,
         "type": "scatter",
         "x": [
          0.625876506,
          0.74
         ],
         "xaxis": "x2",
         "y": [
          "Colon cancer",
          "Colon cancer"
         ],
         "yaxis": "y2"
        },
        {
         "line": {
          "color": "lightgrey",
          "width": 4
         },
         "mode": "lines",
         "showlegend": false,
         "type": "scatter",
         "x": [
          0.1133148607,
          0
         ],
         "xaxis": "x2",
         "y": [
          "Tuberculosis",
          "Tuberculosis"
         ],
         "yaxis": "y2"
        },
        {
         "line": {
          "color": "lightgrey",
          "width": 4
         },
         "mode": "lines",
         "showlegend": false,
         "type": "scatter",
         "x": [
          0.61,
          0.64
         ],
         "xaxis": "x2",
         "y": [
          "Bacterial Pneumonia",
          "Bacterial Pneumonia"
         ],
         "yaxis": "y2"
        },
        {
         "line": {
          "color": "lightgrey",
          "width": 4
         },
         "mode": "lines",
         "showlegend": false,
         "type": "scatter",
         "x": [
          0.813,
          0.46
         ],
         "xaxis": "x2",
         "y": [
          "Tricuspid Endocarditis",
          "Tricuspid Endocarditis"
         ],
         "yaxis": "y2"
        },
        {
         "line": {
          "color": "lightgrey",
          "width": 4
         },
         "mode": "lines",
         "showlegend": false,
         "type": "scatter",
         "x": [
          0.5379999999999999,
          0.5
         ],
         "xaxis": "x2",
         "y": [
          " COVID-19",
          " COVID-19"
         ],
         "yaxis": "y2"
        },
        {
         "line": {
          "color": "lightgrey",
          "width": 4
         },
         "mode": "lines",
         "showlegend": false,
         "type": "scatter",
         "x": [
          0.38675,
          0.3
         ],
         "xaxis": "x2",
         "y": [
          "Syphilis",
          "Syphilis"
         ],
         "yaxis": "y2"
        },
        {
         "line": {
          "color": "lightgrey",
          "width": 4
         },
         "mode": "lines",
         "showlegend": false,
         "type": "scatter",
         "x": [
          0.5324978723,
          0.14
         ],
         "xaxis": "x2",
         "y": [
          "Preeclampsia",
          "Preeclampsia"
         ],
         "yaxis": "y2"
        },
        {
         "line": {
          "color": "lightgrey",
          "width": 4
         },
         "mode": "lines",
         "showlegend": false,
         "type": "scatter",
         "x": [
          0.4296466667,
          0.06
         ],
         "xaxis": "x2",
         "y": [
          "Type 2 Diabetes Mellitus",
          "Type 2 Diabetes Mellitus"
         ],
         "yaxis": "y2"
        },
        {
         "line": {
          "color": "lightgrey",
          "width": 4
         },
         "mode": "lines",
         "showlegend": false,
         "type": "scatter",
         "x": [
          0.6545957959,
          0.22
         ],
         "xaxis": "x2",
         "y": [
          "Multiple myeloma",
          "Multiple myeloma"
         ],
         "yaxis": "y2"
        },
        {
         "line": {
          "color": "lightgrey",
          "width": 4
         },
         "mode": "lines",
         "showlegend": false,
         "type": "scatter",
         "x": [
          0.4814814815,
          0.02
         ],
         "xaxis": "x2",
         "y": [
          "Systemic Lupus Erythematosus",
          "Systemic Lupus Erythematosus"
         ],
         "yaxis": "y2"
        },
        {
         "line": {
          "color": "lightgrey",
          "width": 4
         },
         "mode": "lines",
         "showlegend": false,
         "type": "scatter",
         "x": [
          0.24526401750000001,
          0.06
         ],
         "xaxis": "x2",
         "y": [
          "HIV/AIDS",
          "HIV/AIDS"
         ],
         "yaxis": "y2"
        },
        {
         "line": {
          "color": "lightgrey",
          "width": 4
         },
         "mode": "lines",
         "showlegend": false,
         "type": "scatter",
         "x": [
          0.7438321782,
          0.1
         ],
         "xaxis": "x2",
         "y": [
          "Prostate cancer",
          "Prostate cancer"
         ],
         "yaxis": "y2"
        },
        {
         "line": {
          "color": "lightgrey",
          "width": 4
         },
         "mode": "lines",
         "showlegend": false,
         "type": "scatter",
         "x": [
          0.5361078092,
          0.06
         ],
         "xaxis": "x2",
         "y": [
          "Essential Hypertension",
          "Essential Hypertension"
         ],
         "yaxis": "y2"
        },
        {
         "line": {
          "color": "lightgrey",
          "width": 4
         },
         "mode": "lines",
         "showlegend": false,
         "type": "scatter",
         "x": [
          0.5790509091,
          0
         ],
         "xaxis": "x2",
         "y": [
          "Sarcoidosis",
          "Sarcoidosis"
         ],
         "yaxis": "y2"
        },
        {
         "marker": {
          "color": "crimson",
          "size": 12,
          "symbol": "diamond"
         },
         "mode": "markers",
         "name": "True",
         "showlegend": false,
         "type": "scatter",
         "x": [
          0.2822790698,
          0.8146895737,
          0.7757022899,
          0.5374385964999999,
          0.625876506,
          0.1133148607,
          0.61,
          0.813,
          0.5379999999999999,
          0.38675,
          0.5324978723,
          0.4296466667,
          0.6545957959,
          0.4814814815,
          0.24526401750000001,
          0.7438321782,
          0.5361078092,
          0.5790509091
         ],
         "xaxis": "x2",
         "y": [
          "Hepatitis B",
          "Takotsubo cardiomyopathy",
          "Multiple Sclerosis",
          "Rheumatoid Arthritis",
          "Colon cancer",
          "Tuberculosis",
          "Bacterial Pneumonia",
          "Tricuspid Endocarditis",
          " COVID-19",
          "Syphilis",
          "Preeclampsia",
          "Type 2 Diabetes Mellitus",
          "Multiple myeloma",
          "Systemic Lupus Erythematosus",
          "HIV/AIDS",
          "Prostate cancer",
          "Essential Hypertension",
          "Sarcoidosis"
         ],
         "yaxis": "y2"
        },
        {
         "marker": {
          "color": "gold",
          "size": 12,
          "symbol": "circle"
         },
         "mode": "markers",
         "name": "GPT-4 Estimated",
         "showlegend": false,
         "type": "scatter",
         "x": [
          0.08,
          0.76,
          0.82,
          0.82,
          0.74,
          0,
          0.64,
          0.46,
          0.5,
          0.3,
          0.14,
          0.06,
          0.22,
          0.02,
          0.06,
          0.1,
          0.06,
          0
         ],
         "xaxis": "x2",
         "y": [
          "Hepatitis B",
          "Takotsubo cardiomyopathy",
          "Multiple Sclerosis",
          "Rheumatoid Arthritis",
          "Colon cancer",
          "Tuberculosis",
          "Bacterial Pneumonia",
          "Tricuspid Endocarditis",
          " COVID-19",
          "Syphilis",
          "Preeclampsia",
          "Type 2 Diabetes Mellitus",
          "Multiple myeloma",
          "Systemic Lupus Erythematosus",
          "HIV/AIDS",
          "Prostate cancer",
          "Essential Hypertension",
          "Sarcoidosis"
         ],
         "yaxis": "y2"
        },
        {
         "line": {
          "color": "lightgrey",
          "width": 4
         },
         "mode": "lines",
         "showlegend": false,
         "type": "scatter",
         "x": [
          0.165255814,
          0
         ],
         "xaxis": "x3",
         "y": [
          "Hepatitis B",
          "Hepatitis B"
         ],
         "yaxis": "y3"
        },
        {
         "line": {
          "color": "lightgrey",
          "width": 4
         },
         "mode": "lines",
         "showlegend": false,
         "type": "scatter",
         "x": [
          0.05673120625,
          0
         ],
         "xaxis": "x3",
         "y": [
          "Takotsubo cardiomyopathy",
          "Takotsubo cardiomyopathy"
         ],
         "yaxis": "y3"
        },
        {
         "line": {
          "color": "lightgrey",
          "width": 4
         },
         "mode": "lines",
         "showlegend": false,
         "type": "scatter",
         "x": [
          0.07177172258,
          0.04
         ],
         "xaxis": "x3",
         "y": [
          "Multiple Sclerosis",
          "Multiple Sclerosis"
         ],
         "yaxis": "y3"
        },
        {
         "line": {
          "color": "lightgrey",
          "width": 4
         },
         "mode": "lines",
         "showlegend": false,
         "type": "scatter",
         "x": [
          0.2165263158,
          0.02
         ],
         "xaxis": "x3",
         "y": [
          "Rheumatoid Arthritis",
          "Rheumatoid Arthritis"
         ],
         "yaxis": "y3"
        },
        {
         "line": {
          "color": "lightgrey",
          "width": 4
         },
         "mode": "lines",
         "showlegend": false,
         "type": "scatter",
         "x": [
          0.18643674699999999,
          0.02
         ],
         "xaxis": "x3",
         "y": [
          "Colon cancer",
          "Colon cancer"
         ],
         "yaxis": "y3"
        },
        {
         "line": {
          "color": "lightgrey",
          "width": 4
         },
         "mode": "lines",
         "showlegend": false,
         "type": "scatter",
         "x": [
          0.29167274320000003,
          0.5
         ],
         "xaxis": "x3",
         "y": [
          "Tuberculosis",
          "Tuberculosis"
         ],
         "yaxis": "y3"
        },
        {
         "line": {
          "color": "lightgrey",
          "width": 4
         },
         "mode": "lines",
         "showlegend": false,
         "type": "scatter",
         "x": [
          0.03,
          0.08
         ],
         "xaxis": "x3",
         "y": [
          "Bacterial Pneumonia",
          "Bacterial Pneumonia"
         ],
         "yaxis": "y3"
        },
        {
         "line": {
          "color": "lightgrey",
          "width": 4
         },
         "mode": "lines",
         "showlegend": false,
         "type": "scatter",
         "x": [
          0,
          0.06
         ],
         "xaxis": "x3",
         "y": [
          "Tricuspid Endocarditis",
          "Tricuspid Endocarditis"
         ],
         "yaxis": "y3"
        },
        {
         "line": {
          "color": "lightgrey",
          "width": 4
         },
         "mode": "lines",
         "showlegend": false,
         "type": "scatter",
         "x": [
          0.242,
          0.16
         ],
         "xaxis": "x3",
         "y": [
          " COVID-19",
          " COVID-19"
         ],
         "yaxis": "y3"
        },
        {
         "line": {
          "color": "lightgrey",
          "width": 4
         },
         "mode": "lines",
         "showlegend": false,
         "type": "scatter",
         "x": [
          0.23306249999999998,
          0.02
         ],
         "xaxis": "x3",
         "y": [
          "Syphilis",
          "Syphilis"
         ],
         "yaxis": "y3"
        },
        {
         "line": {
          "color": "lightgrey",
          "width": 4
         },
         "mode": "lines",
         "showlegend": false,
         "type": "scatter",
         "x": [
          0.18620425529999998,
          0.04
         ],
         "xaxis": "x3",
         "y": [
          "Preeclampsia",
          "Preeclampsia"
         ],
         "yaxis": "y3"
        },
        {
         "line": {
          "color": "lightgrey",
          "width": 4
         },
         "mode": "lines",
         "showlegend": false,
         "type": "scatter",
         "x": [
          0.2315701667,
          0.32
         ],
         "xaxis": "x3",
         "y": [
          "Type 2 Diabetes Mellitus",
          "Type 2 Diabetes Mellitus"
         ],
         "yaxis": "y3"
        },
        {
         "line": {
          "color": "lightgrey",
          "width": 4
         },
         "mode": "lines",
         "showlegend": false,
         "type": "scatter",
         "x": [
          0.09687055994999999,
          0
         ],
         "xaxis": "x3",
         "y": [
          "Multiple myeloma",
          "Multiple myeloma"
         ],
         "yaxis": "y3"
        },
        {
         "line": {
          "color": "lightgrey",
          "width": 4
         },
         "mode": "lines",
         "showlegend": false,
         "type": "scatter",
         "x": [
          0.1845315904,
          0.06
         ],
         "xaxis": "x3",
         "y": [
          "Systemic Lupus Erythematosus",
          "Systemic Lupus Erythematosus"
         ],
         "yaxis": "y3"
        },
        {
         "line": {
          "color": "lightgrey",
          "width": 4
         },
         "mode": "lines",
         "showlegend": false,
         "type": "scatter",
         "x": [
          0.2856287426,
          0.04
         ],
         "xaxis": "x3",
         "y": [
          "HIV/AIDS",
          "HIV/AIDS"
         ],
         "yaxis": "y3"
        },
        {
         "line": {
          "color": "lightgrey",
          "width": 4
         },
         "mode": "lines",
         "showlegend": false,
         "type": "scatter",
         "x": [
          0.06363948442,
          0
         ],
         "xaxis": "x3",
         "y": [
          "Prostate cancer",
          "Prostate cancer"
         ],
         "yaxis": "y3"
        },
        {
         "line": {
          "color": "lightgrey",
          "width": 4
         },
         "mode": "lines",
         "showlegend": false,
         "type": "scatter",
         "x": [
          0.16964191639999998,
          0.06
         ],
         "xaxis": "x3",
         "y": [
          "Essential Hypertension",
          "Essential Hypertension"
         ],
         "yaxis": "y3"
        },
        {
         "line": {
          "color": "lightgrey",
          "width": 4
         },
         "mode": "lines",
         "showlegend": false,
         "type": "scatter",
         "x": [
          0.08092,
          0.02
         ],
         "xaxis": "x3",
         "y": [
          "Sarcoidosis",
          "Sarcoidosis"
         ],
         "yaxis": "y3"
        },
        {
         "marker": {
          "color": "crimson",
          "size": 12,
          "symbol": "diamond"
         },
         "mode": "markers",
         "name": "True",
         "showlegend": false,
         "type": "scatter",
         "x": [
          0.165255814,
          0.05673120625,
          0.07177172258,
          0.2165263158,
          0.18643674699999999,
          0.29167274320000003,
          0.03,
          0,
          0.242,
          0.23306249999999998,
          0.18620425529999998,
          0.2315701667,
          0.09687055994999999,
          0.1845315904,
          0.2856287426,
          0.06363948442,
          0.16964191639999998,
          0.08092
         ],
         "xaxis": "x3",
         "y": [
          "Hepatitis B",
          "Takotsubo cardiomyopathy",
          "Multiple Sclerosis",
          "Rheumatoid Arthritis",
          "Colon cancer",
          "Tuberculosis",
          "Bacterial Pneumonia",
          "Tricuspid Endocarditis",
          " COVID-19",
          "Syphilis",
          "Preeclampsia",
          "Type 2 Diabetes Mellitus",
          "Multiple myeloma",
          "Systemic Lupus Erythematosus",
          "HIV/AIDS",
          "Prostate cancer",
          "Essential Hypertension",
          "Sarcoidosis"
         ],
         "yaxis": "y3"
        },
        {
         "marker": {
          "color": "gold",
          "size": 12,
          "symbol": "circle"
         },
         "mode": "markers",
         "name": "GPT-4 Estimated",
         "showlegend": false,
         "type": "scatter",
         "x": [
          0,
          0,
          0.04,
          0.02,
          0.02,
          0.5,
          0.08,
          0.06,
          0.16,
          0.02,
          0.04,
          0.32,
          0,
          0.06,
          0.04,
          0,
          0.06,
          0.02
         ],
         "xaxis": "x3",
         "y": [
          "Hepatitis B",
          "Takotsubo cardiomyopathy",
          "Multiple Sclerosis",
          "Rheumatoid Arthritis",
          "Colon cancer",
          "Tuberculosis",
          "Bacterial Pneumonia",
          "Tricuspid Endocarditis",
          " COVID-19",
          "Syphilis",
          "Preeclampsia",
          "Type 2 Diabetes Mellitus",
          "Multiple myeloma",
          "Systemic Lupus Erythematosus",
          "HIV/AIDS",
          "Prostate cancer",
          "Essential Hypertension",
          "Sarcoidosis"
         ],
         "yaxis": "y3"
        },
        {
         "line": {
          "color": "lightgrey",
          "width": 4
         },
         "mode": "lines",
         "showlegend": false,
         "type": "scatter",
         "x": [
          0.2895116279,
          0.9
         ],
         "xaxis": "x4",
         "y": [
          "Hepatitis B",
          "Hepatitis B"
         ],
         "yaxis": "y4"
        },
        {
         "line": {
          "color": "lightgrey",
          "width": 4
         },
         "mode": "lines",
         "showlegend": false,
         "type": "scatter",
         "x": [
          0.04903190619,
          0.02
         ],
         "xaxis": "x4",
         "y": [
          "Takotsubo cardiomyopathy",
          "Takotsubo cardiomyopathy"
         ],
         "yaxis": "y4"
        },
        {
         "line": {
          "color": "lightgrey",
          "width": 4
         },
         "mode": "lines",
         "showlegend": false,
         "type": "scatter",
         "x": [
          0.044740848959999996,
          0.02
         ],
         "xaxis": "x4",
         "y": [
          "Multiple Sclerosis",
          "Multiple Sclerosis"
         ],
         "yaxis": "y4"
        },
        {
         "line": {
          "color": "lightgrey",
          "width": 4
         },
         "mode": "lines",
         "showlegend": false,
         "type": "scatter",
         "x": [
          0.04761403509,
          0
         ],
         "xaxis": "x4",
         "y": [
          "Rheumatoid Arthritis",
          "Rheumatoid Arthritis"
         ],
         "yaxis": "y4"
        },
        {
         "line": {
          "color": "lightgrey",
          "width": 4
         },
         "mode": "lines",
         "showlegend": false,
         "type": "scatter",
         "x": [
          0.05171385542,
          0.04
         ],
         "xaxis": "x4",
         "y": [
          "Colon cancer",
          "Colon cancer"
         ],
         "yaxis": "y4"
        },
        {
         "line": {
          "color": "lightgrey",
          "width": 4
         },
         "mode": "lines",
         "showlegend": false,
         "type": "scatter",
         "x": [
          0.370861893,
          0.12
         ],
         "xaxis": "x4",
         "y": [
          "Tuberculosis",
          "Tuberculosis"
         ],
         "yaxis": "y4"
        },
        {
         "line": {
          "color": "lightgrey",
          "width": 4
         },
         "mode": "lines",
         "showlegend": false,
         "type": "scatter",
         "x": [
          0,
          0.02
         ],
         "xaxis": "x4",
         "y": [
          "Bacterial Pneumonia",
          "Bacterial Pneumonia"
         ],
         "yaxis": "y4"
        },
        {
         "line": {
          "color": "lightgrey",
          "width": 4
         },
         "mode": "lines",
         "showlegend": false,
         "type": "scatter",
         "x": [
          0,
          0
         ],
         "xaxis": "x4",
         "y": [
          "Tricuspid Endocarditis",
          "Tricuspid Endocarditis"
         ],
         "yaxis": "y4"
        },
        {
         "line": {
          "color": "lightgrey",
          "width": 4
         },
         "mode": "lines",
         "showlegend": false,
         "type": "scatter",
         "x": [
          0.044000000000000004,
          0.02
         ],
         "xaxis": "x4",
         "y": [
          " COVID-19",
          " COVID-19"
         ],
         "yaxis": "y4"
        },
        {
         "line": {
          "color": "lightgrey",
          "width": 4
         },
         "mode": "lines",
         "showlegend": false,
         "type": "scatter",
         "x": [
          0.02125735294,
          0.02
         ],
         "xaxis": "x4",
         "y": [
          "Syphilis",
          "Syphilis"
         ],
         "yaxis": "y4"
        },
        {
         "line": {
          "color": "lightgrey",
          "width": 4
         },
         "mode": "lines",
         "showlegend": false,
         "type": "scatter",
         "x": [
          0.05849787234,
          0.02
         ],
         "xaxis": "x4",
         "y": [
          "Preeclampsia",
          "Preeclampsia"
         ],
         "yaxis": "y4"
        },
        {
         "line": {
          "color": "lightgrey",
          "width": 4
         },
         "mode": "lines",
         "showlegend": false,
         "type": "scatter",
         "x": [
          0.16933583330000002,
          0
         ],
         "xaxis": "x4",
         "y": [
          "Type 2 Diabetes Mellitus",
          "Type 2 Diabetes Mellitus"
         ],
         "yaxis": "y4"
        },
        {
         "line": {
          "color": "lightgrey",
          "width": 4
         },
         "mode": "lines",
         "showlegend": false,
         "type": "scatter",
         "x": [
          0.03027432693,
          0.02
         ],
         "xaxis": "x4",
         "y": [
          "Multiple myeloma",
          "Multiple myeloma"
         ],
         "yaxis": "y4"
        },
        {
         "line": {
          "color": "lightgrey",
          "width": 4
         },
         "mode": "lines",
         "showlegend": false,
         "type": "scatter",
         "x": [
          0.0604895553,
          0.06
         ],
         "xaxis": "x4",
         "y": [
          "Systemic Lupus Erythematosus",
          "Systemic Lupus Erythematosus"
         ],
         "yaxis": "y4"
        },
        {
         "line": {
          "color": "lightgrey",
          "width": 4
         },
         "mode": "lines",
         "showlegend": false,
         "type": "scatter",
         "x": [
          0.02008709853,
          0.02
         ],
         "xaxis": "x4",
         "y": [
          "HIV/AIDS",
          "HIV/AIDS"
         ],
         "yaxis": "y4"
        },
        {
         "line": {
          "color": "lightgrey",
          "width": 4
         },
         "mode": "lines",
         "showlegend": false,
         "type": "scatter",
         "x": [
          0.02013861001,
          0.02
         ],
         "xaxis": "x4",
         "y": [
          "Prostate cancer",
          "Prostate cancer"
         ],
         "yaxis": "y4"
        },
        {
         "line": {
          "color": "lightgrey",
          "width": 4
         },
         "mode": "lines",
         "showlegend": false,
         "type": "scatter",
         "x": [
          0.15952623470000002,
          0
         ],
         "xaxis": "x4",
         "y": [
          "Essential Hypertension",
          "Essential Hypertension"
         ],
         "yaxis": "y4"
        },
        {
         "line": {
          "color": "lightgrey",
          "width": 4
         },
         "mode": "lines",
         "showlegend": false,
         "type": "scatter",
         "x": [
          0.022467676769999997,
          0
         ],
         "xaxis": "x4",
         "y": [
          "Sarcoidosis",
          "Sarcoidosis"
         ],
         "yaxis": "y4"
        },
        {
         "marker": {
          "color": "crimson",
          "size": 12,
          "symbol": "diamond"
         },
         "mode": "markers",
         "name": "True",
         "showlegend": false,
         "type": "scatter",
         "x": [
          0.2895116279,
          0.04903190619,
          0.044740848959999996,
          0.04761403509,
          0.05171385542,
          0.370861893,
          0,
          0,
          0.044000000000000004,
          0.02125735294,
          0.05849787234,
          0.16933583330000002,
          0.03027432693,
          0.0604895553,
          0.02008709853,
          0.02013861001,
          0.15952623470000002,
          0.022467676769999997
         ],
         "xaxis": "x4",
         "y": [
          "Hepatitis B",
          "Takotsubo cardiomyopathy",
          "Multiple Sclerosis",
          "Rheumatoid Arthritis",
          "Colon cancer",
          "Tuberculosis",
          "Bacterial Pneumonia",
          "Tricuspid Endocarditis",
          " COVID-19",
          "Syphilis",
          "Preeclampsia",
          "Type 2 Diabetes Mellitus",
          "Multiple myeloma",
          "Systemic Lupus Erythematosus",
          "HIV/AIDS",
          "Prostate cancer",
          "Essential Hypertension",
          "Sarcoidosis"
         ],
         "yaxis": "y4"
        },
        {
         "marker": {
          "color": "gold",
          "size": 12,
          "symbol": "circle"
         },
         "mode": "markers",
         "name": "GPT-4 Estimated",
         "showlegend": false,
         "type": "scatter",
         "x": [
          0.9,
          0.02,
          0.02,
          0,
          0.04,
          0.12,
          0.02,
          0,
          0.02,
          0.02,
          0.02,
          0,
          0.02,
          0.06,
          0.02,
          0.02,
          0,
          0
         ],
         "xaxis": "x4",
         "y": [
          "Hepatitis B",
          "Takotsubo cardiomyopathy",
          "Multiple Sclerosis",
          "Rheumatoid Arthritis",
          "Colon cancer",
          "Tuberculosis",
          "Bacterial Pneumonia",
          "Tricuspid Endocarditis",
          " COVID-19",
          "Syphilis",
          "Preeclampsia",
          "Type 2 Diabetes Mellitus",
          "Multiple myeloma",
          "Systemic Lupus Erythematosus",
          "HIV/AIDS",
          "Prostate cancer",
          "Essential Hypertension",
          "Sarcoidosis"
         ],
         "yaxis": "y4"
        },
        {
         "line": {
          "color": "lightgrey",
          "width": 4
         },
         "mode": "lines",
         "showlegend": false,
         "type": "scatter",
         "x": [
          0,
          0
         ],
         "xaxis": "x5",
         "y": [
          "Hepatitis B",
          "Hepatitis B"
         ],
         "yaxis": "y5"
        },
        {
         "line": {
          "color": "lightgrey",
          "width": 4
         },
         "mode": "lines",
         "showlegend": false,
         "type": "scatter",
         "x": [
          0.00659030995,
          0.2
         ],
         "xaxis": "x5",
         "y": [
          "Takotsubo cardiomyopathy",
          "Takotsubo cardiomyopathy"
         ],
         "yaxis": "y5"
        },
        {
         "line": {
          "color": "lightgrey",
          "width": 4
         },
         "mode": "lines",
         "showlegend": false,
         "type": "scatter",
         "x": [
          0.0000013425899999999998,
          0.08
         ],
         "xaxis": "x5",
         "y": [
          "Multiple Sclerosis",
          "Multiple Sclerosis"
         ],
         "yaxis": "y5"
        },
        {
         "line": {
          "color": "lightgrey",
          "width": 4
         },
         "mode": "lines",
         "showlegend": false,
         "type": "scatter",
         "x": [
          0.0859122807,
          0.08
         ],
         "xaxis": "x5",
         "y": [
          "Rheumatoid Arthritis",
          "Rheumatoid Arthritis"
         ],
         "yaxis": "y5"
        },
        {
         "line": {
          "color": "lightgrey",
          "width": 4
         },
         "mode": "lines",
         "showlegend": false,
         "type": "scatter",
         "x": [
          0,
          0.06
         ],
         "xaxis": "x5",
         "y": [
          "Colon cancer",
          "Colon cancer"
         ],
         "yaxis": "y5"
        },
        {
         "line": {
          "color": "lightgrey",
          "width": 4
         },
         "mode": "lines",
         "showlegend": false,
         "type": "scatter",
         "x": [
          0.03033396525,
          0.24
         ],
         "xaxis": "x5",
         "y": [
          "Tuberculosis",
          "Tuberculosis"
         ],
         "yaxis": "y5"
        },
        {
         "line": {
          "color": "lightgrey",
          "width": 4
         },
         "mode": "lines",
         "showlegend": false,
         "type": "scatter",
         "x": [
          0.11,
          0.12
         ],
         "xaxis": "x5",
         "y": [
          "Bacterial Pneumonia",
          "Bacterial Pneumonia"
         ],
         "yaxis": "y5"
        },
        {
         "line": {
          "color": "lightgrey",
          "width": 4
         },
         "mode": "lines",
         "showlegend": false,
         "type": "scatter",
         "x": [
          0.03,
          0.32
         ],
         "xaxis": "x5",
         "y": [
          "Tricuspid Endocarditis",
          "Tricuspid Endocarditis"
         ],
         "yaxis": "y5"
        },
        {
         "line": {
          "color": "lightgrey",
          "width": 4
         },
         "mode": "lines",
         "showlegend": false,
         "type": "scatter",
         "x": [
          0.052000000000000005,
          0.06
         ],
         "xaxis": "x5",
         "y": [
          " COVID-19",
          " COVID-19"
         ],
         "yaxis": "y5"
        },
        {
         "line": {
          "color": "lightgrey",
          "width": 4
         },
         "mode": "lines",
         "showlegend": false,
         "type": "scatter",
         "x": [
          0,
          0.26
         ],
         "xaxis": "x5",
         "y": [
          "Syphilis",
          "Syphilis"
         ],
         "yaxis": "y5"
        },
        {
         "line": {
          "color": "lightgrey",
          "width": 4
         },
         "mode": "lines",
         "showlegend": false,
         "type": "scatter",
         "x": [
          0,
          0.4
         ],
         "xaxis": "x5",
         "y": [
          "Preeclampsia",
          "Preeclampsia"
         ],
         "yaxis": "y5"
        },
        {
         "line": {
          "color": "lightgrey",
          "width": 4
         },
         "mode": "lines",
         "showlegend": false,
         "type": "scatter",
         "x": [
          0,
          0.06
         ],
         "xaxis": "x5",
         "y": [
          "Type 2 Diabetes Mellitus",
          "Type 2 Diabetes Mellitus"
         ],
         "yaxis": "y5"
        },
        {
         "line": {
          "color": "lightgrey",
          "width": 4
         },
         "mode": "lines",
         "showlegend": false,
         "type": "scatter",
         "x": [
          0.00593828542,
          0.1
         ],
         "xaxis": "x5",
         "y": [
          "Multiple myeloma",
          "Multiple myeloma"
         ],
         "yaxis": "y5"
        },
        {
         "line": {
          "color": "lightgrey",
          "width": 4
         },
         "mode": "lines",
         "showlegend": false,
         "type": "scatter",
         "x": [
          0,
          0.12
         ],
         "xaxis": "x5",
         "y": [
          "Systemic Lupus Erythematosus",
          "Systemic Lupus Erythematosus"
         ],
         "yaxis": "y5"
        },
        {
         "line": {
          "color": "lightgrey",
          "width": 4
         },
         "mode": "lines",
         "showlegend": false,
         "type": "scatter",
         "x": [
          0.03244420245,
          0.1
         ],
         "xaxis": "x5",
         "y": [
          "HIV/AIDS",
          "HIV/AIDS"
         ],
         "yaxis": "y5"
        },
        {
         "line": {
          "color": "lightgrey",
          "width": 4
         },
         "mode": "lines",
         "showlegend": false,
         "type": "scatter",
         "x": [
          0.02606483587,
          0.02
         ],
         "xaxis": "x5",
         "y": [
          "Prostate cancer",
          "Prostate cancer"
         ],
         "yaxis": "y5"
        },
        {
         "line": {
          "color": "lightgrey",
          "width": 4
         },
         "mode": "lines",
         "showlegend": false,
         "type": "scatter",
         "x": [
          0,
          0
         ],
         "xaxis": "x5",
         "y": [
          "Essential Hypertension",
          "Essential Hypertension"
         ],
         "yaxis": "y5"
        },
        {
         "line": {
          "color": "lightgrey",
          "width": 4
         },
         "mode": "lines",
         "showlegend": false,
         "type": "scatter",
         "x": [
          0,
          0
         ],
         "xaxis": "x5",
         "y": [
          "Sarcoidosis",
          "Sarcoidosis"
         ],
         "yaxis": "y5"
        },
        {
         "marker": {
          "color": "crimson",
          "size": 12,
          "symbol": "diamond"
         },
         "mode": "markers",
         "name": "True",
         "showlegend": false,
         "type": "scatter",
         "x": [
          0,
          0.00659030995,
          0.0000013425899999999998,
          0.0859122807,
          0,
          0.03033396525,
          0.11,
          0.03,
          0.052000000000000005,
          0,
          0,
          0,
          0.00593828542,
          0,
          0.03244420245,
          0.02606483587,
          0,
          0
         ],
         "xaxis": "x5",
         "y": [
          "Hepatitis B",
          "Takotsubo cardiomyopathy",
          "Multiple Sclerosis",
          "Rheumatoid Arthritis",
          "Colon cancer",
          "Tuberculosis",
          "Bacterial Pneumonia",
          "Tricuspid Endocarditis",
          " COVID-19",
          "Syphilis",
          "Preeclampsia",
          "Type 2 Diabetes Mellitus",
          "Multiple myeloma",
          "Systemic Lupus Erythematosus",
          "HIV/AIDS",
          "Prostate cancer",
          "Essential Hypertension",
          "Sarcoidosis"
         ],
         "yaxis": "y5"
        },
        {
         "marker": {
          "color": "gold",
          "size": 12,
          "symbol": "circle"
         },
         "mode": "markers",
         "name": "GPT-4 Estimated",
         "showlegend": false,
         "type": "scatter",
         "x": [
          0,
          0.2,
          0.08,
          0.08,
          0.06,
          0.24,
          0.12,
          0.32,
          0.06,
          0.26,
          0.4,
          0.06,
          0.1,
          0.12,
          0.1,
          0.02,
          0,
          0
         ],
         "xaxis": "x5",
         "y": [
          "Hepatitis B",
          "Takotsubo cardiomyopathy",
          "Multiple Sclerosis",
          "Rheumatoid Arthritis",
          "Colon cancer",
          "Tuberculosis",
          "Bacterial Pneumonia",
          "Tricuspid Endocarditis",
          " COVID-19",
          "Syphilis",
          "Preeclampsia",
          "Type 2 Diabetes Mellitus",
          "Multiple myeloma",
          "Systemic Lupus Erythematosus",
          "HIV/AIDS",
          "Prostate cancer",
          "Essential Hypertension",
          "Sarcoidosis"
         ],
         "yaxis": "y5"
        },
        {
         "line": {
          "color": "lightgrey",
          "width": 4
         },
         "mode": "lines",
         "showlegend": false,
         "type": "scatter",
         "x": [
          0.4024651163,
          0.02
         ],
         "xaxis": "x6",
         "y": [
          "Hepatitis B",
          "Hepatitis B"
         ],
         "yaxis": "y6"
        },
        {
         "line": {
          "color": "lightgrey",
          "width": 4
         },
         "mode": "lines",
         "showlegend": false,
         "type": "scatter",
         "x": [
          0.8690000000000001,
          0.96
         ],
         "xaxis": "x6",
         "y": [
          "Takotsubo cardiomyopathy",
          "Takotsubo cardiomyopathy"
         ],
         "yaxis": "y6"
        },
        {
         "line": {
          "color": "lightgrey",
          "width": 4
         },
         "mode": "lines",
         "showlegend": false,
         "type": "scatter",
         "x": [
          0.7578429516,
          1
         ],
         "xaxis": "x6",
         "y": [
          "Multiple Sclerosis",
          "Multiple Sclerosis"
         ],
         "yaxis": "y6"
        },
        {
         "line": {
          "color": "lightgrey",
          "width": 4
         },
         "mode": "lines",
         "showlegend": false,
         "type": "scatter",
         "x": [
          0.7411754386,
          1
         ],
         "xaxis": "x6",
         "y": [
          "Rheumatoid Arthritis",
          "Rheumatoid Arthritis"
         ],
         "yaxis": "y6"
        },
        {
         "line": {
          "color": "lightgrey",
          "width": 4
         },
         "mode": "lines",
         "showlegend": false,
         "type": "scatter",
         "x": [
          0.4293087102,
          0.16
         ],
         "xaxis": "x6",
         "y": [
          "Colon cancer",
          "Colon cancer"
         ],
         "yaxis": "y6"
        },
        {
         "line": {
          "color": "lightgrey",
          "width": 4
         },
         "mode": "lines",
         "showlegend": false,
         "type": "scatter",
         "x": [
          0.3881786735,
          0.26
         ],
         "xaxis": "x6",
         "y": [
          "Tuberculosis",
          "Tuberculosis"
         ],
         "yaxis": "y6"
        },
        {
         "line": {
          "color": "lightgrey",
          "width": 4
         },
         "mode": "lines",
         "showlegend": false,
         "type": "scatter",
         "x": [
          0.49,
          0.46
         ],
         "xaxis": "x6",
         "y": [
          "Bacterial Pneumonia",
          "Bacterial Pneumonia"
         ],
         "yaxis": "y6"
        },
        {
         "line": {
          "color": "lightgrey",
          "width": 4
         },
         "mode": "lines",
         "showlegend": false,
         "type": "scatter",
         "x": [
          0.42,
          0.34
         ],
         "xaxis": "x6",
         "y": [
          "Tricuspid Endocarditis",
          "Tricuspid Endocarditis"
         ],
         "yaxis": "y6"
        },
        {
         "line": {
          "color": "lightgrey",
          "width": 4
         },
         "mode": "lines",
         "showlegend": false,
         "type": "scatter",
         "x": [
          0.539,
          0.52
         ],
         "xaxis": "x6",
         "y": [
          " COVID-19",
          " COVID-19"
         ],
         "yaxis": "y6"
        },
        {
         "line": {
          "color": "lightgrey",
          "width": 4
         },
         "mode": "lines",
         "showlegend": false,
         "type": "scatter",
         "x": [
          0.2024956307,
          0.12
         ],
         "xaxis": "x6",
         "y": [
          "Syphilis",
          "Syphilis"
         ],
         "yaxis": "y6"
        },
        {
         "line": {
          "color": "lightgrey",
          "width": 4
         },
         "mode": "lines",
         "showlegend": false,
         "type": "scatter",
         "x": [
          1,
          1
         ],
         "xaxis": "x6",
         "y": [
          "Preeclampsia",
          "Preeclampsia"
         ],
         "yaxis": "y6"
        },
        {
         "line": {
          "color": "lightgrey",
          "width": 4
         },
         "mode": "lines",
         "showlegend": false,
         "type": "scatter",
         "x": [
          0.46460192829999997,
          0.66
         ],
         "xaxis": "x6",
         "y": [
          "Type 2 Diabetes Mellitus",
          "Type 2 Diabetes Mellitus"
         ],
         "yaxis": "y6"
        },
        {
         "line": {
          "color": "lightgrey",
          "width": 4
         },
         "mode": "lines",
         "showlegend": false,
         "type": "scatter",
         "x": [
          0.44477021190000005,
          0.22
         ],
         "xaxis": "x6",
         "y": [
          "Multiple myeloma",
          "Multiple myeloma"
         ],
         "yaxis": "y6"
        },
        {
         "line": {
          "color": "lightgrey",
          "width": 4
         },
         "mode": "lines",
         "showlegend": false,
         "type": "scatter",
         "x": [
          0.8923953539,
          1
         ],
         "xaxis": "x6",
         "y": [
          "Systemic Lupus Erythematosus",
          "Systemic Lupus Erythematosus"
         ],
         "yaxis": "y6"
        },
        {
         "line": {
          "color": "lightgrey",
          "width": 4
         },
         "mode": "lines",
         "showlegend": false,
         "type": "scatter",
         "x": [
          0.1896871835,
          0.08
         ],
         "xaxis": "x6",
         "y": [
          "HIV/AIDS",
          "HIV/AIDS"
         ],
         "yaxis": "y6"
        },
        {
         "line": {
          "color": "lightgrey",
          "width": 4
         },
         "mode": "lines",
         "showlegend": false,
         "type": "scatter",
         "x": [
          0,
          0
         ],
         "xaxis": "x6",
         "y": [
          "Prostate cancer",
          "Prostate cancer"
         ],
         "yaxis": "y6"
        },
        {
         "line": {
          "color": "lightgrey",
          "width": 4
         },
         "mode": "lines",
         "showlegend": false,
         "type": "scatter",
         "x": [
          0.47831194709999997,
          0.3
         ],
         "xaxis": "x6",
         "y": [
          "Essential Hypertension",
          "Essential Hypertension"
         ],
         "yaxis": "y6"
        },
        {
         "line": {
          "color": "lightgrey",
          "width": 4
         },
         "mode": "lines",
         "showlegend": false,
         "type": "scatter",
         "x": [
          0.6305942269,
          1
         ],
         "xaxis": "x6",
         "y": [
          "Sarcoidosis",
          "Sarcoidosis"
         ],
         "yaxis": "y6"
        },
        {
         "marker": {
          "color": "crimson",
          "size": 12,
          "symbol": "diamond"
         },
         "mode": "markers",
         "name": "True",
         "showlegend": false,
         "type": "scatter",
         "x": [
          0.4024651163,
          0.8690000000000001,
          0.7578429516,
          0.7411754386,
          0.4293087102,
          0.3881786735,
          0.49,
          0.42,
          0.539,
          0.2024956307,
          1,
          0.46460192829999997,
          0.44477021190000005,
          0.8923953539,
          0.1896871835,
          0,
          0.47831194709999997,
          0.6305942269
         ],
         "xaxis": "x6",
         "y": [
          "Hepatitis B",
          "Takotsubo cardiomyopathy",
          "Multiple Sclerosis",
          "Rheumatoid Arthritis",
          "Colon cancer",
          "Tuberculosis",
          "Bacterial Pneumonia",
          "Tricuspid Endocarditis",
          " COVID-19",
          "Syphilis",
          "Preeclampsia",
          "Type 2 Diabetes Mellitus",
          "Multiple myeloma",
          "Systemic Lupus Erythematosus",
          "HIV/AIDS",
          "Prostate cancer",
          "Essential Hypertension",
          "Sarcoidosis"
         ],
         "yaxis": "y6"
        },
        {
         "marker": {
          "color": "gold",
          "size": 12,
          "symbol": "circle"
         },
         "mode": "markers",
         "name": "GPT-4 Estimated",
         "showlegend": false,
         "type": "scatter",
         "x": [
          0.02,
          0.96,
          1,
          1,
          0.16,
          0.26,
          0.46,
          0.34,
          0.52,
          0.12,
          1,
          0.66,
          0.22,
          1,
          0.08,
          0,
          0.3,
          1
         ],
         "xaxis": "x6",
         "y": [
          "Hepatitis B",
          "Takotsubo cardiomyopathy",
          "Multiple Sclerosis",
          "Rheumatoid Arthritis",
          "Colon cancer",
          "Tuberculosis",
          "Bacterial Pneumonia",
          "Tricuspid Endocarditis",
          " COVID-19",
          "Syphilis",
          "Preeclampsia",
          "Type 2 Diabetes Mellitus",
          "Multiple myeloma",
          "Systemic Lupus Erythematosus",
          "HIV/AIDS",
          "Prostate cancer",
          "Essential Hypertension",
          "Sarcoidosis"
         ],
         "yaxis": "y6"
        },
        {
         "line": {
          "color": "lightgrey",
          "width": 4
         },
         "mode": "lines",
         "showlegend": false,
         "type": "scatter",
         "x": [
          0.6051860465,
          0.98
         ],
         "xaxis": "x7",
         "y": [
          "Hepatitis B",
          "Hepatitis B"
         ],
         "yaxis": "y7"
        },
        {
         "line": {
          "color": "lightgrey",
          "width": 4
         },
         "mode": "lines",
         "showlegend": false,
         "type": "scatter",
         "x": [
          0.131,
          0
         ],
         "xaxis": "x7",
         "y": [
          "Takotsubo cardiomyopathy",
          "Takotsubo cardiomyopathy"
         ],
         "yaxis": "y7"
        },
        {
         "line": {
          "color": "lightgrey",
          "width": 4
         },
         "mode": "lines",
         "showlegend": false,
         "type": "scatter",
         "x": [
          0.24215704840000002,
          0
         ],
         "xaxis": "x7",
         "y": [
          "Multiple Sclerosis",
          "Multiple Sclerosis"
         ],
         "yaxis": "y7"
        },
        {
         "line": {
          "color": "lightgrey",
          "width": 4
         },
         "mode": "lines",
         "showlegend": false,
         "type": "scatter",
         "x": [
          0.2325789474,
          0
         ],
         "xaxis": "x7",
         "y": [
          "Rheumatoid Arthritis",
          "Rheumatoid Arthritis"
         ],
         "yaxis": "y7"
        },
        {
         "line": {
          "color": "lightgrey",
          "width": 4
         },
         "mode": "lines",
         "showlegend": false,
         "type": "scatter",
         "x": [
          0.5706912898000001,
          0.84
         ],
         "xaxis": "x7",
         "y": [
          "Colon cancer",
          "Colon cancer"
         ],
         "yaxis": "y7"
        },
        {
         "line": {
          "color": "lightgrey",
          "width": 4
         },
         "mode": "lines",
         "showlegend": false,
         "type": "scatter",
         "x": [
          0.6118213265,
          0.74
         ],
         "xaxis": "x7",
         "y": [
          "Tuberculosis",
          "Tuberculosis"
         ],
         "yaxis": "y7"
        },
        {
         "line": {
          "color": "lightgrey",
          "width": 4
         },
         "mode": "lines",
         "showlegend": false,
         "type": "scatter",
         "x": [
          0.51,
          0.52
         ],
         "xaxis": "x7",
         "y": [
          "Bacterial Pneumonia",
          "Bacterial Pneumonia"
         ],
         "yaxis": "y7"
        },
        {
         "line": {
          "color": "lightgrey",
          "width": 4
         },
         "mode": "lines",
         "showlegend": false,
         "type": "scatter",
         "x": [
          0.58,
          0.66
         ],
         "xaxis": "x7",
         "y": [
          "Tricuspid Endocarditis",
          "Tricuspid Endocarditis"
         ],
         "yaxis": "y7"
        },
        {
         "line": {
          "color": "lightgrey",
          "width": 4
         },
         "mode": "lines",
         "showlegend": false,
         "type": "scatter",
         "x": [
          0.461,
          0.48
         ],
         "xaxis": "x7",
         "y": [
          " COVID-19",
          " COVID-19"
         ],
         "yaxis": "y7"
        },
        {
         "line": {
          "color": "lightgrey",
          "width": 4
         },
         "mode": "lines",
         "showlegend": false,
         "type": "scatter",
         "x": [
          0.7975043693,
          0.88
         ],
         "xaxis": "x7",
         "y": [
          "Syphilis",
          "Syphilis"
         ],
         "yaxis": "y7"
        },
        {
         "line": {
          "color": "lightgrey",
          "width": 4
         },
         "mode": "lines",
         "showlegend": false,
         "type": "scatter",
         "x": [
          0,
          0
         ],
         "xaxis": "x7",
         "y": [
          "Preeclampsia",
          "Preeclampsia"
         ],
         "yaxis": "y7"
        },
        {
         "line": {
          "color": "lightgrey",
          "width": 4
         },
         "mode": "lines",
         "showlegend": false,
         "type": "scatter",
         "x": [
          0.5353980717,
          0.32
         ],
         "xaxis": "x7",
         "y": [
          "Type 2 Diabetes Mellitus",
          "Type 2 Diabetes Mellitus"
         ],
         "yaxis": "y7"
        },
        {
         "line": {
          "color": "lightgrey",
          "width": 4
         },
         "mode": "lines",
         "showlegend": false,
         "type": "scatter",
         "x": [
          0.5552297881,
          0.78
         ],
         "xaxis": "x7",
         "y": [
          "Multiple myeloma",
          "Multiple myeloma"
         ],
         "yaxis": "y7"
        },
        {
         "line": {
          "color": "lightgrey",
          "width": 4
         },
         "mode": "lines",
         "showlegend": false,
         "type": "scatter",
         "x": [
          0.10760464609999999,
          0
         ],
         "xaxis": "x7",
         "y": [
          "Systemic Lupus Erythematosus",
          "Systemic Lupus Erythematosus"
         ],
         "yaxis": "y7"
        },
        {
         "line": {
          "color": "lightgrey",
          "width": 4
         },
         "mode": "lines",
         "showlegend": false,
         "type": "scatter",
         "x": [
          0.8103128165,
          0.92
         ],
         "xaxis": "x7",
         "y": [
          "HIV/AIDS",
          "HIV/AIDS"
         ],
         "yaxis": "y7"
        },
        {
         "line": {
          "color": "lightgrey",
          "width": 4
         },
         "mode": "lines",
         "showlegend": false,
         "type": "scatter",
         "x": [
          1,
          1
         ],
         "xaxis": "x7",
         "y": [
          "Prostate cancer",
          "Prostate cancer"
         ],
         "yaxis": "y7"
        },
        {
         "line": {
          "color": "lightgrey",
          "width": 4
         },
         "mode": "lines",
         "showlegend": false,
         "type": "scatter",
         "x": [
          0.5216880529,
          0.7
         ],
         "xaxis": "x7",
         "y": [
          "Essential Hypertension",
          "Essential Hypertension"
         ],
         "yaxis": "y7"
        },
        {
         "line": {
          "color": "lightgrey",
          "width": 4
         },
         "mode": "lines",
         "showlegend": false,
         "type": "scatter",
         "x": [
          0.3694057731,
          0
         ],
         "xaxis": "x7",
         "y": [
          "Sarcoidosis",
          "Sarcoidosis"
         ],
         "yaxis": "y7"
        },
        {
         "marker": {
          "color": "crimson",
          "size": 12,
          "symbol": "diamond"
         },
         "mode": "markers",
         "name": "True",
         "showlegend": false,
         "type": "scatter",
         "x": [
          0.6051860465,
          0.131,
          0.24215704840000002,
          0.2325789474,
          0.5706912898000001,
          0.6118213265,
          0.51,
          0.58,
          0.461,
          0.7975043693,
          0,
          0.5353980717,
          0.5552297881,
          0.10760464609999999,
          0.8103128165,
          1,
          0.5216880529,
          0.3694057731
         ],
         "xaxis": "x7",
         "y": [
          "Hepatitis B",
          "Takotsubo cardiomyopathy",
          "Multiple Sclerosis",
          "Rheumatoid Arthritis",
          "Colon cancer",
          "Tuberculosis",
          "Bacterial Pneumonia",
          "Tricuspid Endocarditis",
          " COVID-19",
          "Syphilis",
          "Preeclampsia",
          "Type 2 Diabetes Mellitus",
          "Multiple myeloma",
          "Systemic Lupus Erythematosus",
          "HIV/AIDS",
          "Prostate cancer",
          "Essential Hypertension",
          "Sarcoidosis"
         ],
         "yaxis": "y7"
        },
        {
         "marker": {
          "color": "gold",
          "size": 12,
          "symbol": "circle"
         },
         "mode": "markers",
         "name": "GPT-4 Estimated",
         "showlegend": false,
         "type": "scatter",
         "x": [
          0.98,
          0,
          0,
          0,
          0.84,
          0.74,
          0.52,
          0.66,
          0.48,
          0.88,
          0,
          0.32,
          0.78,
          0,
          0.92,
          1,
          0.7,
          0
         ],
         "xaxis": "x7",
         "y": [
          "Hepatitis B",
          "Takotsubo cardiomyopathy",
          "Multiple Sclerosis",
          "Rheumatoid Arthritis",
          "Colon cancer",
          "Tuberculosis",
          "Bacterial Pneumonia",
          "Tricuspid Endocarditis",
          " COVID-19",
          "Syphilis",
          "Preeclampsia",
          "Type 2 Diabetes Mellitus",
          "Multiple myeloma",
          "Systemic Lupus Erythematosus",
          "HIV/AIDS",
          "Prostate cancer",
          "Essential Hypertension",
          "Sarcoidosis"
         ],
         "yaxis": "y7"
        }
       ],
       "layout": {
        "annotations": [
         {
          "font": {
           "size": 16
          },
          "showarrow": false,
          "text": "Black",
          "x": 0.049999999999999996,
          "xanchor": "center",
          "xref": "paper",
          "y": 1,
          "yanchor": "bottom",
          "yref": "paper"
         },
         {
          "font": {
           "size": 16
          },
          "showarrow": false,
          "text": "White",
          "x": 0.2,
          "xanchor": "center",
          "xref": "paper",
          "y": 1,
          "yanchor": "bottom",
          "yref": "paper"
         },
         {
          "font": {
           "size": 16
          },
          "showarrow": false,
          "text": "Hispanic",
          "x": 0.35,
          "xanchor": "center",
          "xref": "paper",
          "y": 1,
          "yanchor": "bottom",
          "yref": "paper"
         },
         {
          "font": {
           "size": 16
          },
          "showarrow": false,
          "text": "Asian",
          "x": 0.5,
          "xanchor": "center",
          "xref": "paper",
          "y": 1,
          "yanchor": "bottom",
          "yref": "paper"
         },
         {
          "font": {
           "size": 16
          },
          "showarrow": false,
          "text": "Other / NA",
          "x": 0.6499999999999999,
          "xanchor": "center",
          "xref": "paper",
          "y": 1,
          "yanchor": "bottom",
          "yref": "paper"
         },
         {
          "font": {
           "size": 16
          },
          "showarrow": false,
          "text": "Female",
          "x": 0.8,
          "xanchor": "center",
          "xref": "paper",
          "y": 1,
          "yanchor": "bottom",
          "yref": "paper"
         },
         {
          "font": {
           "size": 16
          },
          "showarrow": false,
          "text": "Male",
          "x": 0.95,
          "xanchor": "center",
          "xref": "paper",
          "y": 1,
          "yanchor": "bottom",
          "yref": "paper"
         },
         {
          "font": {
           "size": 18
          },
          "showarrow": false,
          "text": "GPT-4-Estimated and True Patient Demographic Distribution of Patients with Each Condition",
          "x": 0.5,
          "xref": "paper",
          "y": 1.1,
          "yref": "paper"
         }
        ],
        "height": 900,
        "legend": {
         "bordercolor": "lightgray",
         "borderwidth": 2,
         "font": {
          "size": 12
         },
         "orientation": "h",
         "title": {
          "text": " Legend: "
         },
         "x": 0.35,
         "xanchor": "left",
         "y": -0.1,
         "yanchor": "top"
        },
        "paper_bgcolor": "white",
        "plot_bgcolor": "white",
        "showlegend": true,
        "template": {
         "data": {
          "bar": [
           {
            "error_x": {
             "color": "#2a3f5f"
            },
            "error_y": {
             "color": "#2a3f5f"
            },
            "marker": {
             "line": {
              "color": "#E5ECF6",
              "width": 0.5
             },
             "pattern": {
              "fillmode": "overlay",
              "size": 10,
              "solidity": 0.2
             }
            },
            "type": "bar"
           }
          ],
          "barpolar": [
           {
            "marker": {
             "line": {
              "color": "#E5ECF6",
              "width": 0.5
             },
             "pattern": {
              "fillmode": "overlay",
              "size": 10,
              "solidity": 0.2
             }
            },
            "type": "barpolar"
           }
          ],
          "carpet": [
           {
            "aaxis": {
             "endlinecolor": "#2a3f5f",
             "gridcolor": "white",
             "linecolor": "white",
             "minorgridcolor": "white",
             "startlinecolor": "#2a3f5f"
            },
            "baxis": {
             "endlinecolor": "#2a3f5f",
             "gridcolor": "white",
             "linecolor": "white",
             "minorgridcolor": "white",
             "startlinecolor": "#2a3f5f"
            },
            "type": "carpet"
           }
          ],
          "choropleth": [
           {
            "colorbar": {
             "outlinewidth": 0,
             "ticks": ""
            },
            "type": "choropleth"
           }
          ],
          "contour": [
           {
            "colorbar": {
             "outlinewidth": 0,
             "ticks": ""
            },
            "colorscale": [
             [
              0,
              "#0d0887"
             ],
             [
              0.1111111111111111,
              "#46039f"
             ],
             [
              0.2222222222222222,
              "#7201a8"
             ],
             [
              0.3333333333333333,
              "#9c179e"
             ],
             [
              0.4444444444444444,
              "#bd3786"
             ],
             [
              0.5555555555555556,
              "#d8576b"
             ],
             [
              0.6666666666666666,
              "#ed7953"
             ],
             [
              0.7777777777777778,
              "#fb9f3a"
             ],
             [
              0.8888888888888888,
              "#fdca26"
             ],
             [
              1,
              "#f0f921"
             ]
            ],
            "type": "contour"
           }
          ],
          "contourcarpet": [
           {
            "colorbar": {
             "outlinewidth": 0,
             "ticks": ""
            },
            "type": "contourcarpet"
           }
          ],
          "heatmap": [
           {
            "colorbar": {
             "outlinewidth": 0,
             "ticks": ""
            },
            "colorscale": [
             [
              0,
              "#0d0887"
             ],
             [
              0.1111111111111111,
              "#46039f"
             ],
             [
              0.2222222222222222,
              "#7201a8"
             ],
             [
              0.3333333333333333,
              "#9c179e"
             ],
             [
              0.4444444444444444,
              "#bd3786"
             ],
             [
              0.5555555555555556,
              "#d8576b"
             ],
             [
              0.6666666666666666,
              "#ed7953"
             ],
             [
              0.7777777777777778,
              "#fb9f3a"
             ],
             [
              0.8888888888888888,
              "#fdca26"
             ],
             [
              1,
              "#f0f921"
             ]
            ],
            "type": "heatmap"
           }
          ],
          "heatmapgl": [
           {
            "colorbar": {
             "outlinewidth": 0,
             "ticks": ""
            },
            "colorscale": [
             [
              0,
              "#0d0887"
             ],
             [
              0.1111111111111111,
              "#46039f"
             ],
             [
              0.2222222222222222,
              "#7201a8"
             ],
             [
              0.3333333333333333,
              "#9c179e"
             ],
             [
              0.4444444444444444,
              "#bd3786"
             ],
             [
              0.5555555555555556,
              "#d8576b"
             ],
             [
              0.6666666666666666,
              "#ed7953"
             ],
             [
              0.7777777777777778,
              "#fb9f3a"
             ],
             [
              0.8888888888888888,
              "#fdca26"
             ],
             [
              1,
              "#f0f921"
             ]
            ],
            "type": "heatmapgl"
           }
          ],
          "histogram": [
           {
            "marker": {
             "pattern": {
              "fillmode": "overlay",
              "size": 10,
              "solidity": 0.2
             }
            },
            "type": "histogram"
           }
          ],
          "histogram2d": [
           {
            "colorbar": {
             "outlinewidth": 0,
             "ticks": ""
            },
            "colorscale": [
             [
              0,
              "#0d0887"
             ],
             [
              0.1111111111111111,
              "#46039f"
             ],
             [
              0.2222222222222222,
              "#7201a8"
             ],
             [
              0.3333333333333333,
              "#9c179e"
             ],
             [
              0.4444444444444444,
              "#bd3786"
             ],
             [
              0.5555555555555556,
              "#d8576b"
             ],
             [
              0.6666666666666666,
              "#ed7953"
             ],
             [
              0.7777777777777778,
              "#fb9f3a"
             ],
             [
              0.8888888888888888,
              "#fdca26"
             ],
             [
              1,
              "#f0f921"
             ]
            ],
            "type": "histogram2d"
           }
          ],
          "histogram2dcontour": [
           {
            "colorbar": {
             "outlinewidth": 0,
             "ticks": ""
            },
            "colorscale": [
             [
              0,
              "#0d0887"
             ],
             [
              0.1111111111111111,
              "#46039f"
             ],
             [
              0.2222222222222222,
              "#7201a8"
             ],
             [
              0.3333333333333333,
              "#9c179e"
             ],
             [
              0.4444444444444444,
              "#bd3786"
             ],
             [
              0.5555555555555556,
              "#d8576b"
             ],
             [
              0.6666666666666666,
              "#ed7953"
             ],
             [
              0.7777777777777778,
              "#fb9f3a"
             ],
             [
              0.8888888888888888,
              "#fdca26"
             ],
             [
              1,
              "#f0f921"
             ]
            ],
            "type": "histogram2dcontour"
           }
          ],
          "mesh3d": [
           {
            "colorbar": {
             "outlinewidth": 0,
             "ticks": ""
            },
            "type": "mesh3d"
           }
          ],
          "parcoords": [
           {
            "line": {
             "colorbar": {
              "outlinewidth": 0,
              "ticks": ""
             }
            },
            "type": "parcoords"
           }
          ],
          "pie": [
           {
            "automargin": true,
            "type": "pie"
           }
          ],
          "scatter": [
           {
            "fillpattern": {
             "fillmode": "overlay",
             "size": 10,
             "solidity": 0.2
            },
            "type": "scatter"
           }
          ],
          "scatter3d": [
           {
            "line": {
             "colorbar": {
              "outlinewidth": 0,
              "ticks": ""
             }
            },
            "marker": {
             "colorbar": {
              "outlinewidth": 0,
              "ticks": ""
             }
            },
            "type": "scatter3d"
           }
          ],
          "scattercarpet": [
           {
            "marker": {
             "colorbar": {
              "outlinewidth": 0,
              "ticks": ""
             }
            },
            "type": "scattercarpet"
           }
          ],
          "scattergeo": [
           {
            "marker": {
             "colorbar": {
              "outlinewidth": 0,
              "ticks": ""
             }
            },
            "type": "scattergeo"
           }
          ],
          "scattergl": [
           {
            "marker": {
             "colorbar": {
              "outlinewidth": 0,
              "ticks": ""
             }
            },
            "type": "scattergl"
           }
          ],
          "scattermapbox": [
           {
            "marker": {
             "colorbar": {
              "outlinewidth": 0,
              "ticks": ""
             }
            },
            "type": "scattermapbox"
           }
          ],
          "scatterpolar": [
           {
            "marker": {
             "colorbar": {
              "outlinewidth": 0,
              "ticks": ""
             }
            },
            "type": "scatterpolar"
           }
          ],
          "scatterpolargl": [
           {
            "marker": {
             "colorbar": {
              "outlinewidth": 0,
              "ticks": ""
             }
            },
            "type": "scatterpolargl"
           }
          ],
          "scatterternary": [
           {
            "marker": {
             "colorbar": {
              "outlinewidth": 0,
              "ticks": ""
             }
            },
            "type": "scatterternary"
           }
          ],
          "surface": [
           {
            "colorbar": {
             "outlinewidth": 0,
             "ticks": ""
            },
            "colorscale": [
             [
              0,
              "#0d0887"
             ],
             [
              0.1111111111111111,
              "#46039f"
             ],
             [
              0.2222222222222222,
              "#7201a8"
             ],
             [
              0.3333333333333333,
              "#9c179e"
             ],
             [
              0.4444444444444444,
              "#bd3786"
             ],
             [
              0.5555555555555556,
              "#d8576b"
             ],
             [
              0.6666666666666666,
              "#ed7953"
             ],
             [
              0.7777777777777778,
              "#fb9f3a"
             ],
             [
              0.8888888888888888,
              "#fdca26"
             ],
             [
              1,
              "#f0f921"
             ]
            ],
            "type": "surface"
           }
          ],
          "table": [
           {
            "cells": {
             "fill": {
              "color": "#EBF0F8"
             },
             "line": {
              "color": "white"
             }
            },
            "header": {
             "fill": {
              "color": "#C8D4E3"
             },
             "line": {
              "color": "white"
             }
            },
            "type": "table"
           }
          ]
         },
         "layout": {
          "annotationdefaults": {
           "arrowcolor": "#2a3f5f",
           "arrowhead": 0,
           "arrowwidth": 1
          },
          "autotypenumbers": "strict",
          "coloraxis": {
           "colorbar": {
            "outlinewidth": 0,
            "ticks": ""
           }
          },
          "colorscale": {
           "diverging": [
            [
             0,
             "#8e0152"
            ],
            [
             0.1,
             "#c51b7d"
            ],
            [
             0.2,
             "#de77ae"
            ],
            [
             0.3,
             "#f1b6da"
            ],
            [
             0.4,
             "#fde0ef"
            ],
            [
             0.5,
             "#f7f7f7"
            ],
            [
             0.6,
             "#e6f5d0"
            ],
            [
             0.7,
             "#b8e186"
            ],
            [
             0.8,
             "#7fbc41"
            ],
            [
             0.9,
             "#4d9221"
            ],
            [
             1,
             "#276419"
            ]
           ],
           "sequential": [
            [
             0,
             "#0d0887"
            ],
            [
             0.1111111111111111,
             "#46039f"
            ],
            [
             0.2222222222222222,
             "#7201a8"
            ],
            [
             0.3333333333333333,
             "#9c179e"
            ],
            [
             0.4444444444444444,
             "#bd3786"
            ],
            [
             0.5555555555555556,
             "#d8576b"
            ],
            [
             0.6666666666666666,
             "#ed7953"
            ],
            [
             0.7777777777777778,
             "#fb9f3a"
            ],
            [
             0.8888888888888888,
             "#fdca26"
            ],
            [
             1,
             "#f0f921"
            ]
           ],
           "sequentialminus": [
            [
             0,
             "#0d0887"
            ],
            [
             0.1111111111111111,
             "#46039f"
            ],
            [
             0.2222222222222222,
             "#7201a8"
            ],
            [
             0.3333333333333333,
             "#9c179e"
            ],
            [
             0.4444444444444444,
             "#bd3786"
            ],
            [
             0.5555555555555556,
             "#d8576b"
            ],
            [
             0.6666666666666666,
             "#ed7953"
            ],
            [
             0.7777777777777778,
             "#fb9f3a"
            ],
            [
             0.8888888888888888,
             "#fdca26"
            ],
            [
             1,
             "#f0f921"
            ]
           ]
          },
          "colorway": [
           "#636efa",
           "#EF553B",
           "#00cc96",
           "#ab63fa",
           "#FFA15A",
           "#19d3f3",
           "#FF6692",
           "#B6E880",
           "#FF97FF",
           "#FECB52"
          ],
          "font": {
           "color": "#2a3f5f"
          },
          "geo": {
           "bgcolor": "white",
           "lakecolor": "white",
           "landcolor": "#E5ECF6",
           "showlakes": true,
           "showland": true,
           "subunitcolor": "white"
          },
          "hoverlabel": {
           "align": "left"
          },
          "hovermode": "closest",
          "mapbox": {
           "style": "light"
          },
          "paper_bgcolor": "white",
          "plot_bgcolor": "#E5ECF6",
          "polar": {
           "angularaxis": {
            "gridcolor": "white",
            "linecolor": "white",
            "ticks": ""
           },
           "bgcolor": "#E5ECF6",
           "radialaxis": {
            "gridcolor": "white",
            "linecolor": "white",
            "ticks": ""
           }
          },
          "scene": {
           "xaxis": {
            "backgroundcolor": "#E5ECF6",
            "gridcolor": "white",
            "gridwidth": 2,
            "linecolor": "white",
            "showbackground": true,
            "ticks": "",
            "zerolinecolor": "white"
           },
           "yaxis": {
            "backgroundcolor": "#E5ECF6",
            "gridcolor": "white",
            "gridwidth": 2,
            "linecolor": "white",
            "showbackground": true,
            "ticks": "",
            "zerolinecolor": "white"
           },
           "zaxis": {
            "backgroundcolor": "#E5ECF6",
            "gridcolor": "white",
            "gridwidth": 2,
            "linecolor": "white",
            "showbackground": true,
            "ticks": "",
            "zerolinecolor": "white"
           }
          },
          "shapedefaults": {
           "line": {
            "color": "#2a3f5f"
           }
          },
          "ternary": {
           "aaxis": {
            "gridcolor": "white",
            "linecolor": "white",
            "ticks": ""
           },
           "baxis": {
            "gridcolor": "white",
            "linecolor": "white",
            "ticks": ""
           },
           "bgcolor": "#E5ECF6",
           "caxis": {
            "gridcolor": "white",
            "linecolor": "white",
            "ticks": ""
           }
          },
          "title": {
           "x": 0.05
          },
          "xaxis": {
           "automargin": true,
           "gridcolor": "white",
           "linecolor": "white",
           "ticks": "",
           "title": {
            "standoff": 15
           },
           "zerolinecolor": "white",
           "zerolinewidth": 2
          },
          "yaxis": {
           "automargin": true,
           "gridcolor": "white",
           "linecolor": "white",
           "ticks": "",
           "title": {
            "standoff": 15
           },
           "zerolinecolor": "white",
           "zerolinewidth": 2
          }
         }
        },
        "title": {
         "font": {
          "size": 18
         }
        },
        "width": 1200,
        "xaxis": {
         "anchor": "y",
         "domain": [
          0,
          0.09999999999999999
         ],
         "range": [
          -0.1,
          1.1
         ],
         "tickfont": {
          "size": 12
         },
         "tickmode": "array",
         "ticktext": [
          "0",
          "50",
          "100"
         ],
         "tickvals": [
          0,
          0.5,
          1
         ],
         "title": {
          "font": {
           "size": 13
          },
          "text": "Percentage (%)"
         }
        },
        "xaxis2": {
         "anchor": "y2",
         "domain": [
          0.15,
          0.25
         ],
         "range": [
          -0.1,
          1.1
         ],
         "tickfont": {
          "size": 12
         },
         "tickmode": "array",
         "ticktext": [
          "0",
          "50",
          "100"
         ],
         "tickvals": [
          0,
          0.5,
          1
         ],
         "title": {
          "font": {
           "size": 13
          },
          "text": "Percentage (%)"
         }
        },
        "xaxis3": {
         "anchor": "y3",
         "domain": [
          0.3,
          0.39999999999999997
         ],
         "range": [
          -0.1,
          1.1
         ],
         "tickfont": {
          "size": 12
         },
         "tickmode": "array",
         "ticktext": [
          "0",
          "50",
          "100"
         ],
         "tickvals": [
          0,
          0.5,
          1
         ],
         "title": {
          "font": {
           "size": 13
          },
          "text": "Percentage (%)"
         }
        },
        "xaxis4": {
         "anchor": "y4",
         "domain": [
          0.45,
          0.55
         ],
         "range": [
          -0.1,
          1.1
         ],
         "tickfont": {
          "size": 12
         },
         "tickmode": "array",
         "ticktext": [
          "0",
          "50",
          "100"
         ],
         "tickvals": [
          0,
          0.5,
          1
         ],
         "title": {
          "font": {
           "size": 13
          },
          "text": "Percentage (%)"
         }
        },
        "xaxis5": {
         "anchor": "y5",
         "domain": [
          0.6,
          0.7
         ],
         "range": [
          -0.1,
          1.1
         ],
         "tickfont": {
          "size": 12
         },
         "tickmode": "array",
         "ticktext": [
          "0",
          "50",
          "100"
         ],
         "tickvals": [
          0,
          0.5,
          1
         ],
         "title": {
          "font": {
           "size": 13
          },
          "text": "Percentage (%)"
         }
        },
        "xaxis6": {
         "anchor": "y6",
         "domain": [
          0.75,
          0.85
         ],
         "range": [
          -0.1,
          1.1
         ],
         "tickfont": {
          "size": 12
         },
         "tickmode": "array",
         "ticktext": [
          "0",
          "50",
          "100"
         ],
         "tickvals": [
          0,
          0.5,
          1
         ],
         "title": {
          "font": {
           "size": 13
          },
          "text": "Percentage (%)"
         }
        },
        "xaxis7": {
         "anchor": "y7",
         "domain": [
          0.9,
          1
         ],
         "range": [
          -0.1,
          1.1
         ],
         "tickfont": {
          "size": 12
         },
         "tickmode": "array",
         "ticktext": [
          "0",
          "50",
          "100"
         ],
         "tickvals": [
          0,
          0.5,
          1
         ],
         "title": {
          "font": {
           "size": 13
          },
          "text": "Percentage (%)"
         }
        },
        "yaxis": {
         "anchor": "x",
         "domain": [
          0,
          1
         ],
         "gridcolor": "lightgrey",
         "gridwidth": 1,
         "showgrid": true,
         "tickfont": {
          "size": 12
         },
         "tickmode": "array",
         "ticktext": [
          "Hepatitis B",
          "Takotsubo cardiomyopathy",
          "Multiple Sclerosis",
          "Rheumatoid Arthritis",
          "Colon cancer",
          "Tuberculosis",
          "Bacterial Pneumonia",
          "Tricuspid Endocarditis",
          " COVID-19",
          "Syphilis",
          "Preeclampsia",
          "Type 2 Diabetes Mellitus",
          "Multiple myeloma",
          "Systemic Lupus Erythematosus",
          "HIV/AIDS",
          "Prostate cancer",
          "Essential Hypertension",
          "Sarcoidosis"
         ],
         "tickvals": [
          "Hepatitis B",
          "Takotsubo cardiomyopathy",
          "Multiple Sclerosis",
          "Rheumatoid Arthritis",
          "Colon cancer",
          "Tuberculosis",
          "Bacterial Pneumonia",
          "Tricuspid Endocarditis",
          " COVID-19",
          "Syphilis",
          "Preeclampsia",
          "Type 2 Diabetes Mellitus",
          "Multiple myeloma",
          "Systemic Lupus Erythematosus",
          "HIV/AIDS",
          "Prostate cancer",
          "Essential Hypertension",
          "Sarcoidosis"
         ]
        },
        "yaxis2": {
         "anchor": "x2",
         "domain": [
          0,
          1
         ],
         "gridcolor": "lightgrey",
         "gridwidth": 1,
         "matches": "y",
         "showgrid": true,
         "showticklabels": false
        },
        "yaxis3": {
         "anchor": "x3",
         "domain": [
          0,
          1
         ],
         "gridcolor": "lightgrey",
         "gridwidth": 1,
         "matches": "y",
         "showgrid": true,
         "showticklabels": false
        },
        "yaxis4": {
         "anchor": "x4",
         "domain": [
          0,
          1
         ],
         "gridcolor": "lightgrey",
         "gridwidth": 1,
         "matches": "y",
         "showgrid": true,
         "showticklabels": false
        },
        "yaxis5": {
         "anchor": "x5",
         "domain": [
          0,
          1
         ],
         "gridcolor": "lightgrey",
         "gridwidth": 1,
         "matches": "y",
         "showgrid": true,
         "showticklabels": false
        },
        "yaxis6": {
         "anchor": "x6",
         "domain": [
          0,
          1
         ],
         "gridcolor": "lightgrey",
         "gridwidth": 1,
         "matches": "y",
         "showgrid": true,
         "showticklabels": false
        },
        "yaxis7": {
         "anchor": "x7",
         "domain": [
          0,
          1
         ],
         "gridcolor": "lightgrey",
         "gridwidth": 1,
         "matches": "y",
         "showgrid": true,
         "showticklabels": false
        }
       }
      }
     },
     "metadata": {},
     "output_type": "display_data"
    }
   ],
   "source": [
    "import plotly.graph_objects as go\n",
    "from plotly.subplots import make_subplots\n",
    "\n",
    "# Define the data (TOY DATA)\n",
    "# column_labels = ['Black', 'White', 'Hispanic', 'Asian', 'Other+N/A']\n",
    "# row_labels = ['Essential Hypertension', 'Type 2 Diabetes Mellitus']\n",
    "\n",
    "# Define the true and estimated rates for each condition and race\n",
    "# true_rates = [\n",
    "#     [0.10, 0.26, 0.56, 0.20, 0.00],\n",
    "#     [0.08, 0.58, 0.06, 0.00, 0.28]\n",
    "# ]\n",
    "# estimated_rates = [\n",
    "#     [0.88, 0.06, 0.06, 0.00, 0.00],\n",
    "#     [0.56, 0.06, 0.32, 0.00, 0.06]\n",
    "# ]\n",
    "\n",
    "# Define the data (REAL DATA)\n",
    "column_labels = cat_descending_df.columns.tolist()[:7]\n",
    "row_labels = cat_descending_df_conditions\n",
    "\n",
    "true_rates = []\n",
    "estimated_rates = []\n",
    "for i, condition in enumerate(cat_descending_df_conditions):\n",
    "    true_row = new_true_df[new_true_df['Condition'] == condition]\n",
    "    estimated_row = new_results_df[new_results_df['Condition'] == condition]\n",
    "    for j, column_elt in enumerate(column_labels):\n",
    "        true_rates.append(true_row[column_elt].values[0])\n",
    "        estimated_rates.append(estimated_row[column_elt].values[0])\n",
    "\n",
    "true_rates = np.array(true_rates).reshape(len(cat_descending_df_conditions), len(column_labels))\n",
    "estimated_rates = np.array(estimated_rates).reshape(len(cat_descending_df_conditions), len(column_labels))\n",
    "\n",
    "# Define colors and markers for true and estimated values\n",
    "true_color = 'crimson'\n",
    "estimated_color = 'gold'\n",
    "true_marker = 'diamond'\n",
    "estimated_marker = 'circle'\n",
    "\n",
    "# Create the figure and subplots + make sure that there is some spacing between the y-axes labels and the subplots\n",
    "fig = make_subplots(rows=1, \n",
    "                    cols=len(column_labels), \n",
    "                    shared_yaxes=True, \n",
    "                    horizontal_spacing=0.05,\n",
    "                    print_grid=False,\n",
    "                    subplot_titles=[column_labels[i] if not ('Other' in column_labels[i]) else 'Other / NA' for i in range(len(column_labels))],\n",
    "                    column_widths=[0.5, 0.5, 0.5, 0.5, 0.5, 0.5, 0.5],\n",
    "                    specs=[[{\"type\": \"xy\"} for i in range(len(column_labels))]]\n",
    ")\n",
    "\n",
    "# Add scatter plots for true and estimated rates\n",
    "for j in range(len(column_labels)):\n",
    "    true = [true_rates[i][j] for i in range(len(row_labels))]\n",
    "    estimated = [estimated_rates[i][j] for i in range(len(row_labels))]\n",
    "\n",
    "    # Make sure to add a grid line for each subplot\n",
    "    true_trace = go.Scatter(\n",
    "        x=true,\n",
    "        y=row_labels,\n",
    "        mode='markers',\n",
    "        marker=dict(color=true_color, symbol=true_marker, size=12),\n",
    "        name='True',\n",
    "        showlegend=False if j > 0 else True\n",
    "    )\n",
    "\n",
    "    estimated_trace = go.Scatter(\n",
    "        x=estimated,\n",
    "        y=row_labels,\n",
    "        mode='markers',\n",
    "        marker=dict(color=estimated_color, symbol=estimated_marker, size=12),\n",
    "        name='GPT-4 Estimated',\n",
    "        showlegend=False if j > 0 else True\n",
    "    )\n",
    "   \n",
    "    for k in range(len(row_labels)):\n",
    "        # Plot a line between the true and estimated values\n",
    "        bar_trace = go.Scatter(\n",
    "            x=[true[k], estimated[k]],\n",
    "            y=[row_labels[k], row_labels[k]],\n",
    "            mode='lines',\n",
    "            line=dict(color='lightgrey', width=4),\n",
    "            showlegend=False\n",
    "        )\n",
    "        fig.add_trace(bar_trace, row=1, col=j+1)\n",
    "\n",
    "    # Add the traces to the figure  and grid\n",
    "    fig.add_trace(true_trace, row=1, col=j+1)\n",
    "    fig.add_trace(estimated_trace, row=1, col=j+1)\n",
    "\n",
    "\n",
    "\n",
    "\n",
    "\n",
    "# # Update layout and axis labels and make sure the subplots look like a line with dots\n",
    "fig.update_layout(\n",
    "    showlegend=False,\n",
    "    height=900,\n",
    "    width=1200,\n",
    "    # title='Pair Grid Plot - Pairwise Correlation of True and Estimated Rates',\n",
    "    title_font_size=18,\n",
    "    # yaxis=dict(tickmode='array', tickvals=column_labels)\n",
    "    paper_bgcolor='white',\n",
    "    plot_bgcolor='white',\n",
    ")\n",
    "\n",
    "# Make sure that the x-range of each subplot is the same and add a grid line with bounds [0, 1]\n",
    "for i in range(len(column_labels)):\n",
    "    fig.update_xaxes(range=[-0.1, 1.1], row=1, col=i+1)\n",
    "    fig.update_yaxes(showgrid=True, gridwidth=1, gridcolor='lightgrey', row=1, col=i+1)\n",
    "    # fig.update_yaxes(showgrid=True, gridwidth=1, gridcolor='gray', row=1, col=i+1, tickfont_size=12, tickmode='array', tickvals=row_labels, ticktext=row_labels)\n",
    "    fig.update_xaxes(title_text=\"Percentage (%)\", row=1, col=i+1, title_font_size=13, tickfont_size=12, tickmode='array', tickvals=[0, 0.5, 1], ticktext=['0', '50', '100'])\n",
    "    # Show the legend\n",
    "    \n",
    "\n",
    "# Make sure that there is some space between the row labels and the subplots\n",
    "fig.update_yaxes(tickfont_size=12, tickmode='array', tickvals=row_labels, ticktext=row_labels, row=1, col=1)\n",
    "\n",
    "# Add a legend to the right of the figure and make sure that the legend is not cut off\n",
    "fig.update_layout(legend=dict(\n",
    "    orientation=\"v\",\n",
    "    yanchor=\"top\",\n",
    "    y=0.8,\n",
    "    xanchor=\"left\",\n",
    "    x=1.01,\n",
    "    font=dict(\n",
    "        size=12\n",
    "    )\n",
    "))\n",
    "\n",
    "# Add the figure title\n",
    "fig.add_annotation(\n",
    "    xref=\"paper\",\n",
    "    yref=\"paper\",\n",
    "    x=0.5,\n",
    "    y=1.1,\n",
    "    text=\"GPT-4-Estimated and True Patient Demographic Distribution of Patients with Each Condition\",\n",
    "    showarrow=False,\n",
    "    font=dict(\n",
    "        size=18\n",
    "    )\n",
    ")\n",
    "\n",
    "#Show the legend (at the bottom of the figure) and put a box around it\n",
    "fig.update_layout(showlegend=True, legend_orientation=\"h\", legend_y=-0.1, legend_x=0.35, legend_font_size=12, legend_title_text=' Legend: ', legend_bordercolor='lightgray', legend_borderwidth=2)\n",
    "\n",
    "# Save it as a .pdf file\n",
    "fig.write_image(\"Fig1-Updated-v10-without-UTI.pdf\")\n",
    "\n",
    "# # Show the plot\n",
    "fig.show()"
   ]
  },
  {
   "cell_type": "code",
   "execution_count": null,
   "metadata": {},
   "outputs": [],
   "source": []
  },
  {
   "cell_type": "code",
   "execution_count": null,
   "metadata": {},
   "outputs": [],
   "source": []
  },
  {
   "cell_type": "code",
   "execution_count": null,
   "metadata": {},
   "outputs": [],
   "source": []
  },
  {
   "cell_type": "code",
   "execution_count": null,
   "metadata": {},
   "outputs": [],
   "source": []
  },
  {
   "cell_type": "code",
   "execution_count": null,
   "metadata": {},
   "outputs": [],
   "source": []
  },
  {
   "cell_type": "code",
   "execution_count": null,
   "metadata": {},
   "outputs": [],
   "source": []
  },
  {
   "cell_type": "code",
   "execution_count": null,
   "metadata": {},
   "outputs": [],
   "source": []
  },
  {
   "cell_type": "code",
   "execution_count": null,
   "metadata": {},
   "outputs": [],
   "source": []
  },
  {
   "cell_type": "code",
   "execution_count": null,
   "metadata": {},
   "outputs": [],
   "source": []
  },
  {
   "cell_type": "code",
   "execution_count": null,
   "metadata": {},
   "outputs": [],
   "source": []
  },
  {
   "cell_type": "code",
   "execution_count": null,
   "metadata": {},
   "outputs": [],
   "source": []
  },
  {
   "cell_type": "code",
   "execution_count": null,
   "metadata": {},
   "outputs": [],
   "source": []
  },
  {
   "cell_type": "code",
   "execution_count": null,
   "metadata": {},
   "outputs": [],
   "source": []
  },
  {
   "cell_type": "code",
   "execution_count": null,
   "metadata": {},
   "outputs": [],
   "source": [
    "!pip install -U kaleido"
   ]
  },
  {
   "cell_type": "code",
   "execution_count": null,
   "metadata": {},
   "outputs": [],
   "source": []
  }
 ],
 "metadata": {
  "kernelspec": {
   "display_name": "Python 3",
   "language": "python",
   "name": "python3"
  },
  "language_info": {
   "codemirror_mode": {
    "name": "ipython",
    "version": 3
   },
   "file_extension": ".py",
   "mimetype": "text/x-python",
   "name": "python",
   "nbconvert_exporter": "python",
   "pygments_lexer": "ipython3",
   "version": "3.1.0"
  }
 },
 "nbformat": 4,
 "nbformat_minor": 4
}
